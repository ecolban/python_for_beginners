{
 "cells": [
  {
   "cell_type": "markdown",
   "metadata": {
    "colab_type": "text",
    "id": "5aSZJhOqzVqC"
   },
   "source": [
    "## Python data types "
   ]
  },
  {
   "cell_type": "markdown",
   "metadata": {
    "colab_type": "text",
    "id": "DjgqsgcczVqD"
   },
   "source": [
    "### Data types\n",
    "\n",
    "- int\n",
    "- float\n",
    "- range\n",
    "- str\n",
    "- list\n",
    "- tuple\n",
    "- dict\n",
    "- set\n",
    "\n",
    "#### Strings\n",
    "\n",
    "Typical uses:\n",
    "    \n",
    "- Human readable text\n",
    "- Mnemonic identifiers\n",
    "- Intermediate representation of objects saved to a file or transmitted over a network  \n",
    "    The process of converting an object (e.g. a list or a number) to a byte string (of type `bytes`) that can be written to a file or transmitted on a network is called *serialization*. The inverse process is called *deserialization*. Although not necessary, it is practial to first convert an object to a string which is subsequently *encoded* to a byte string.\n",
    "- Avoid uses beyond those above\n",
    "\n",
    "Characteristics:\n",
    "\n",
    "- Immutable\n",
    "- Ordered\n",
    "- Iterable\n",
    "- Indexable\n",
    "- Sliceable\n",
    "\n",
    "#### Lists\n",
    "\n",
    "Typical uses:\n",
    " \n",
    "- Used to hold multiple objects where order matters\n",
    "- Sometimes very large (tens of millions)\n",
    "- May hold multiple instances of same object\n",
    "- Used in implementation of queues, stacks and other data structures\n",
    "- Typically, all elements of a list are of same type (but not a requirement)\n",
    "\n",
    "Characteristics:\n",
    "\n",
    "- Mutable\n",
    "- Ordered\n",
    "- Iterable\n",
    "- Indexable\n",
    "- Sliceable\n",
    "\n",
    "#### Tuples\n",
    "\n",
    "Typical uses:\n",
    "\n",
    "- Used to hold multiple objects where order matters\n",
    "- Normally holds few elements (often created using literals)\n",
    "- Often holds elements of different type\n",
    "- Used to represent data points, the attributes of an object\n",
    "\n",
    "Characteristics:\n",
    "\n",
    "- Immutable\n",
    "- Otherwise, same as list\n",
    "\n",
    "#### Sets\n",
    "\n",
    "Typical uses:\n",
    "\n",
    "- Container of *distinct* objects where order does *not* matter\n",
    "- Sometimes very large (ten millions)\n",
    "- It's faster to check if a large set contains an element than to check if a list contains an element\n",
    "- Can do set operations such as union, intersection, set difference\n",
    "\n",
    "Characteristics:\n",
    "\n",
    "- Mutable (`frozenset` is the immutable counterpart)\n",
    "- Elements must be *hashable* (which implies immutable)\n",
    "- Not ordered\n",
    "- Iterable\n",
    "- Not indexable\n",
    "\n",
    "#### Dictionaries\n",
    "\n",
    "Typical uses:\n",
    "\n",
    "- Used to look up objects by key rather than by index\n",
    "- Used to map each object in a collection to some value, e.g. countries to population\n",
    "- Used as a representation of an object, e.g. represent a book as a dictionary with keys: `'title'`, `'author'`, `'publication_year'`, `'publisher'`, etc.\n",
    "- Used as caches\n",
    "\n",
    "Characteristics:\n",
    "\n",
    "- Mutable\n",
    "- Keys must be hashable\n",
    "- Not directly iterable, but keys and items are"
   ]
  },
  {
   "cell_type": "markdown",
   "metadata": {
    "colab_type": "text",
    "id": "iK6Vq9XmzVqE"
   },
   "source": [
    "We can illustrate the difference between set and list with the following example. Assume we want a list of *distinct* random numbers between 1 and 10,000,000. We can try and produce this list directly. The code in the cell below works fine as long as the number of random numbers is small. Try increasing count to 1,000,000 and see what happens."
   ]
  },
  {
   "cell_type": "code",
   "execution_count": 0,
   "metadata": {
    "colab": {
     "base_uri": "https://localhost:8080/",
     "height": 35
    },
    "colab_type": "code",
    "executionInfo": {
     "elapsed": 394,
     "status": "ok",
     "timestamp": 1567726326604,
     "user": {
      "displayName": "Erik Colban",
      "photoUrl": "",
      "userId": "07941460183810655247"
     },
     "user_tz": 420
    },
    "id": "vz7_52M8zVqE",
    "outputId": "af723afd-5133-4ed2-9095-b2ca5090d68a"
   },
   "outputs": [
    {
     "name": "stdout",
     "output_type": "stream",
     "text": [
      "1000\n"
     ]
    }
   ],
   "source": [
    "from random import randrange\n",
    "\n",
    "random_list = []\n",
    "count = 1_000\n",
    "while count > 0:\n",
    "    n = randrange(1, 10_000_000)\n",
    "    if n not in random_list:\n",
    "        random_list.append(n)\n",
    "        count -= 1\n",
    "print(len(random_list))"
   ]
  },
  {
   "cell_type": "markdown",
   "metadata": {
    "colab_type": "text",
    "id": "53IoLO6xzVqI"
   },
   "source": [
    "The problem is that the time it takes to the check `n not in random_list` is proportional with the size of the list. We can avoid this by using a set."
   ]
  },
  {
   "cell_type": "code",
   "execution_count": 0,
   "metadata": {
    "colab": {
     "base_uri": "https://localhost:8080/",
     "height": 35
    },
    "colab_type": "code",
    "executionInfo": {
     "elapsed": 2877,
     "status": "ok",
     "timestamp": 1567726333658,
     "user": {
      "displayName": "Erik Colban",
      "photoUrl": "",
      "userId": "07941460183810655247"
     },
     "user_tz": 420
    },
    "id": "G18n8LB4zVqJ",
    "outputId": "886b4efb-0627-4d98-d734-3c2263e7d4ba"
   },
   "outputs": [
    {
     "name": "stdout",
     "output_type": "stream",
     "text": [
      "1000000\n"
     ]
    }
   ],
   "source": [
    "from random import shuffle\n",
    "random_set = set()\n",
    "count = 1_000_000\n",
    "while count > 0:\n",
    "    n = randrange(1, 10_000_000)\n",
    "    if n not in random_set:\n",
    "        random_set.add(n)\n",
    "        count -= 1\n",
    "random_list = list(random_set)\n",
    "shuffle(random_list)\n",
    "print(len(random_list))\n",
    "# len(set(random_list)) == len(random_list)\n"
   ]
  },
  {
   "cell_type": "markdown",
   "metadata": {
    "colab_type": "text",
    "id": "ZgY8jnmXzVqL"
   },
   "source": [
    "###  Worked example: Representing a database table\n",
    "\n",
    "The task is to represent a database table in Python in such a way that one can easily and efficiently perform typical queries on it. Select appropriate data structure, e.g., lists, dictionaries, etc. The table we will be using can be downloaded from [here](https://www.kaggle.com/jessicali9530/honey-production/downloads/honey-production.zip/2).\n",
    "\n",
    "(For the sake of the challenge, do not use `pandas`.)\n",
    "\n",
    "\n",
    "To read the `honeyproduction.csv` file, use the `csv` package."
   ]
  },
  {
   "cell_type": "code",
   "execution_count": 2,
   "metadata": {
    "colab": {},
    "colab_type": "code",
    "id": "YkZl4mJwzVqL"
   },
   "outputs": [],
   "source": [
    "import csv"
   ]
  },
  {
   "cell_type": "markdown",
   "metadata": {
    "colab_type": "text",
    "id": "ZgKcdbSazVqN"
   },
   "source": [
    "Let's read a few rows of the file to see what it looks like. \n",
    "\n",
    "The lines below show how to read a file. We use `with open ...`, which is the recommended way of accessing a file since the file is automatically closed when execution leaves the indented block below.\n",
    "\n",
    "In the code lines below, `csv.reader` returns a reader, which allows us to *iterate* over the lines of the file. Anything we can iterate over is refered to as an *iterable*, so `reader` is an iterable. This means that we can, e.g., use it in a for-loop:\n",
    "\n",
    "```Python\n",
    "for line in reader:\n",
    "    print(line)\n",
    "```\n",
    "\n",
    "But `reader` is also an *iterator*, so we can also call `next` on the reader, which will return the next line."
   ]
  },
  {
   "cell_type": "code",
   "execution_count": 1,
   "metadata": {
    "colab": {
     "base_uri": "https://localhost:8080/",
     "height": 109,
     "resources": {
      "http://localhost:8080/nbextensions/google.colab/files.js": {
       "data": "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",
       "headers": [
        [
         "content-type",
         "application/javascript"
        ]
       ],
       "ok": true,
       "status": 200,
       "status_text": ""
      }
     }
    },
    "colab_type": "code",
    "executionInfo": {
     "elapsed": 8873,
     "status": "ok",
     "timestamp": 1567726387966,
     "user": {
      "displayName": "Erik Colban",
      "photoUrl": "",
      "userId": "07941460183810655247"
     },
     "user_tz": 420
    },
    "id": "L2IdUr0t0ZSc",
    "outputId": "6e57cde9-cab6-4e32-a178-35f7bf3fb6a4"
   },
   "outputs": [],
   "source": [
    "# Uncomment the two lines below and execute cell to upload honeyproduction.csv\n",
    "# from google.colab import files\n",
    "# files.upload()"
   ]
  },
  {
   "cell_type": "code",
   "execution_count": 3,
   "metadata": {
    "colab": {
     "base_uri": "https://localhost:8080/",
     "height": 104
    },
    "colab_type": "code",
    "executionInfo": {
     "elapsed": 419,
     "status": "ok",
     "timestamp": 1567726404133,
     "user": {
      "displayName": "Erik Colban",
      "photoUrl": "",
      "userId": "07941460183810655247"
     },
     "user_tz": 420
    },
    "id": "KsthYnhOzVqO",
    "outputId": "0f57f054-0079-4404-8a5c-cd5e4db77ee2"
   },
   "outputs": [
    {
     "name": "stdout",
     "output_type": "stream",
     "text": [
      "['state', 'numcol', 'yieldpercol', 'totalprod', 'stocks', 'priceperlb', 'prodvalue', 'year']\n",
      "['AL', '16000', '71', '1136000', '159000', '0.72', '818000', '1998']\n",
      "['AZ', '55000', '60', '3300000', '1485000', '0.64', '2112000', '1998']\n",
      "['AR', '53000', '65', '3445000', '1688000', '0.59', '2033000', '1998']\n",
      "['CA', '450000', '83', '37350000', '12326000', '0.62', '23157000', '1998']\n"
     ]
    }
   ],
   "source": [
    "with open('assets/honeyproduction.csv', 'r') as csvfile:\n",
    "    reader = csv.reader(csvfile, delimiter=',')\n",
    "    for _ in range(5):\n",
    "        print(next(reader))"
   ]
  },
  {
   "cell_type": "markdown",
   "metadata": {
    "colab_type": "text",
    "id": "SFqI4NIEzVqR"
   },
   "source": [
    "We can see that the file contains a heading row followed by some data rows. `reader` has split each line into a list of strings corresponding to the values in each column. We will need to convert some of the column entries to `int` or `float`. "
   ]
  },
  {
   "cell_type": "markdown",
   "metadata": {
    "colab_type": "text",
    "id": "2JZujw9yzVqS"
   },
   "source": [
    "**A note on iterables and iterators.** An *iterable* is a thing that we can iterate over, e.g., using a for-loop. Examples of iterables that we have encountered so far are ranges, strings, lists, tuples, and sets. When iterating over an iterable, the iterable's *iterator* is used. The function `iter()` is used to access an iterable's iterator. The iterator is also used when iterating over an iterable with a for-loop, but this is done witout having to invoke `iter()` explicitly.\n",
    "\n",
    "The function `next()`, when invoked on an iterator, returns the next element of the iterator. As a side-effect, it also advances the iterator so that next time `next()` is called, the following element is returned. When iterating over an iterable with a for-loop, `next()` is called repeatedly on the iterable's iterator until the iterator is exhausted.\n",
    "\n",
    "It is important to distinguish between iterables and iterators. For example, calling next on an iterable will fail unless the iterable is also an iterator:\n",
    "\n",
    "```Python\n",
    "my_list = [1, 2, 3]\n",
    "my_list_iterator = iter(my_list)\n",
    "next(my_list_iterator) # evaluates to 1 and advances the iterator\n",
    "next(my_list) # fails\n",
    "```\n",
    "\n",
    "It is not uncommon that an iterable is its own iterator (so that calling `iter()` on the iterable returns the iterable itself). This is the case for `csv.reader`."
   ]
  },
  {
   "cell_type": "markdown",
   "metadata": {
    "colab_type": "text",
    "id": "uQR-ZUL8zVqS"
   },
   "source": [
    "#### Alternative 1: Representing a table as a list of rows\n",
    "\n",
    "The code below instantiates two variables; `heading_row`, which contains the first row as a list, and `data_rows`, which is a list of lists."
   ]
  },
  {
   "cell_type": "code",
   "execution_count": 0,
   "metadata": {
    "colab": {},
    "colab_type": "code",
    "id": "GqSxiJuvzVqT"
   },
   "outputs": [],
   "source": [
    "data_rows = []\n",
    "with open('honeyproduction.csv', 'r') as csvfile:\n",
    "    reader = csv.reader(csvfile, delimiter=',')\n",
    "    heading_row = next(reader)\n",
    "    for row in reader:\n",
    "        for i, col in enumerate(row[1:5], start=1):\n",
    "            row[i] = int(float(col))\n",
    "        row[5] = float(row[5])\n",
    "        for i, col in enumerate(row[6:], start=6):\n",
    "            row[i] = int(float(col))\n",
    "        data_rows.append(row)"
   ]
  },
  {
   "cell_type": "markdown",
   "metadata": {
    "colab_type": "text",
    "id": "7seQy1wYzVqV"
   },
   "source": [
    "Let's also create a `heading_dict` that maps the name of each column to the column's index. This will allow us to refer to a column by its name rather than by its index."
   ]
  },
  {
   "cell_type": "code",
   "execution_count": 0,
   "metadata": {
    "colab": {
     "base_uri": "https://localhost:8080/",
     "height": 156
    },
    "colab_type": "code",
    "executionInfo": {
     "elapsed": 355,
     "status": "ok",
     "timestamp": 1567724203588,
     "user": {
      "displayName": "Erik Colban",
      "photoUrl": "",
      "userId": "07941460183810655247"
     },
     "user_tz": 420
    },
    "id": "JDRj2MEhzVqV",
    "outputId": "e1a0c538-cf75-4a38-9f11-082082b57eb7"
   },
   "outputs": [
    {
     "data": {
      "text/plain": [
       "{'numcol': 1,\n",
       " 'priceperlb': 5,\n",
       " 'prodvalue': 6,\n",
       " 'state': 0,\n",
       " 'stocks': 4,\n",
       " 'totalprod': 3,\n",
       " 'year': 7,\n",
       " 'yieldpercol': 2}"
      ]
     },
     "execution_count": 17,
     "metadata": {
      "tags": []
     },
     "output_type": "execute_result"
    }
   ],
   "source": [
    "heading_dict = {}\n",
    "for idx, name in enumerate(heading_row):\n",
    "    heading_dict[name] = idx\n",
    "heading_dict"
   ]
  },
  {
   "cell_type": "markdown",
   "metadata": {
    "colab_type": "text",
    "id": "igu24uIgzVqY"
   },
   "source": [
    "An alternative way of defining the `heading_dict` is to use *comprehension* as shown in the cell below. We will address comprehensions in more detail later in this course, so don't worry if you don't quite understand how to read (and write) them yet. This is just a small sample of what is to come later."
   ]
  },
  {
   "cell_type": "code",
   "execution_count": 0,
   "metadata": {
    "colab": {
     "base_uri": "https://localhost:8080/",
     "height": 156
    },
    "colab_type": "code",
    "executionInfo": {
     "elapsed": 394,
     "status": "ok",
     "timestamp": 1567713715321,
     "user": {
      "displayName": "Erik Colban",
      "photoUrl": "",
      "userId": "07941460183810655247"
     },
     "user_tz": 420
    },
    "id": "zIyNcytUzVqY",
    "outputId": "4f63a2e2-dd22-4f4f-ec29-0cb696395853"
   },
   "outputs": [
    {
     "data": {
      "text/plain": [
       "{'numcol': 1,\n",
       " 'priceperlb': 5,\n",
       " 'prodvalue': 6,\n",
       " 'state': 0,\n",
       " 'stocks': 4,\n",
       " 'totalprod': 3,\n",
       " 'year': 7,\n",
       " 'yieldpercol': 2}"
      ]
     },
     "execution_count": 14,
     "metadata": {
      "tags": []
     },
     "output_type": "execute_result"
    }
   ],
   "source": [
    "heading_dict = {name:idx for idx, name in enumerate(heading_row)}\n",
    "heading_dict"
   ]
  },
  {
   "cell_type": "markdown",
   "metadata": {
    "colab_type": "text",
    "id": "z5wltOzrzVqa"
   },
   "source": [
    "We can reference any row by index:"
   ]
  },
  {
   "cell_type": "code",
   "execution_count": 0,
   "metadata": {
    "colab": {
     "base_uri": "https://localhost:8080/",
     "height": 35
    },
    "colab_type": "code",
    "executionInfo": {
     "elapsed": 3741,
     "status": "ok",
     "timestamp": 1567703355258,
     "user": {
      "displayName": "Erik Colban",
      "photoUrl": "",
      "userId": "07941460183810655247"
     },
     "user_tz": 420
    },
    "id": "n0muHfVJzVqb",
    "outputId": "b0c399f2-5457-4e24-f935-3c7e4fb412ca"
   },
   "outputs": [
    {
     "data": {
      "text/plain": [
       "['IN', 9000, 92, 828000, 489000, 0.85, 704000, 1998]"
      ]
     },
     "execution_count": 9,
     "metadata": {
      "tags": []
     },
     "output_type": "execute_result"
    }
   ],
   "source": [
    "data_rows[10]"
   ]
  },
  {
   "cell_type": "markdown",
   "metadata": {
    "colab_type": "text",
    "id": "z-lLa0jUzVqd"
   },
   "source": [
    "And we can get the value at a given column in a row by index. Instead of having to count the columns to find the index to use, we can use `heading_dict`."
   ]
  },
  {
   "cell_type": "code",
   "execution_count": 0,
   "metadata": {
    "colab": {
     "base_uri": "https://localhost:8080/",
     "height": 35
    },
    "colab_type": "code",
    "executionInfo": {
     "elapsed": 293,
     "status": "ok",
     "timestamp": 1567713720470,
     "user": {
      "displayName": "Erik Colban",
      "photoUrl": "",
      "userId": "07941460183810655247"
     },
     "user_tz": 420
    },
    "id": "sz1a0_JkzVqe",
    "outputId": "7dcf5d39-6e00-4b7f-dea5-1af5459d5c78"
   },
   "outputs": [
    {
     "data": {
      "text/plain": [
       "'The price per pound is: 0.85'"
      ]
     },
     "execution_count": 15,
     "metadata": {
      "tags": []
     },
     "output_type": "execute_result"
    }
   ],
   "source": [
    "f'The price per pound is: {data_rows[10][heading_dict[\"priceperlb\"]]}'"
   ]
  },
  {
   "cell_type": "markdown",
   "metadata": {
    "colab_type": "text",
    "id": "WxD6zS0WzVqg"
   },
   "source": [
    "We can make queries on our table. For example, give me all rows where totalprod is greater than 35000000. "
   ]
  },
  {
   "cell_type": "code",
   "execution_count": 0,
   "metadata": {
    "colab": {
     "base_uri": "https://localhost:8080/",
     "height": 69
    },
    "colab_type": "code",
    "executionInfo": {
     "elapsed": 362,
     "status": "ok",
     "timestamp": 1567724435947,
     "user": {
      "displayName": "Erik Colban",
      "photoUrl": "",
      "userId": "07941460183810655247"
     },
     "user_tz": 420
    },
    "id": "xGFWPIy4zVqg",
    "outputId": "cc4e631c-37f6-43cc-e5a6-a01dde16ec72"
   },
   "outputs": [
    {
     "data": {
      "text/plain": [
       "[['CA', 450000, 83, 37350000, 12326000, 0.62, 23157000, 1998],\n",
       " ['ND', 400000, 90, 36000000, 8640000, 1.36, 48960000, 2008],\n",
       " ['ND', 510000, 91, 46410000, 12995000, 1.5, 69615000, 2010]]"
      ]
     },
     "execution_count": 18,
     "metadata": {
      "tags": []
     },
     "output_type": "execute_result"
    }
   ],
   "source": [
    "query_result = []\n",
    "for row in data_rows:\n",
    "    if row[heading_dict['totalprod']] > 35000000:\n",
    "        query_result.append(row)\n",
    "query_result"
   ]
  },
  {
   "cell_type": "markdown",
   "metadata": {
    "colab_type": "text",
    "id": "EHPhzbRwzVqj"
   },
   "source": [
    "Alternatively, we can use comprehension. Compare the code in the cell below with the way we would write the query in SQL.\n",
    "```SQL\n",
    "select * in honeyproductiontable where totalprod > 35000000\n",
    "```"
   ]
  },
  {
   "cell_type": "code",
   "execution_count": 0,
   "metadata": {
    "colab": {
     "base_uri": "https://localhost:8080/",
     "height": 69
    },
    "colab_type": "code",
    "executionInfo": {
     "elapsed": 359,
     "status": "ok",
     "timestamp": 1567724506282,
     "user": {
      "displayName": "Erik Colban",
      "photoUrl": "",
      "userId": "07941460183810655247"
     },
     "user_tz": 420
    },
    "id": "aVMIS5-jzVqk",
    "outputId": "f6f15f69-1733-425c-9daf-4b722e77a62b"
   },
   "outputs": [
    {
     "data": {
      "text/plain": [
       "[['CA', 450000, 83, 37350000, 12326000, 0.62, 23157000, 1998],\n",
       " ['ND', 400000, 90, 36000000, 8640000, 1.36, 48960000, 2008],\n",
       " ['ND', 510000, 91, 46410000, 12995000, 1.5, 69615000, 2010]]"
      ]
     },
     "execution_count": 19,
     "metadata": {
      "tags": []
     },
     "output_type": "execute_result"
    }
   ],
   "source": [
    "query_result = [row for row in data_rows if row[heading_dict['totalprod']] > 35000000]\n",
    "query_result"
   ]
  },
  {
   "cell_type": "markdown",
   "metadata": {
    "colab_type": "text",
    "id": "kRpylWu7zVql"
   },
   "source": [
    "#### Alternative 2: Representing a table as a dictionary\n",
    "\n",
    "In this alternative, we represent the table as a dictionary where the keys are the column headings and the values are lists of all the data entries in the corresponding column."
   ]
  },
  {
   "cell_type": "code",
   "execution_count": 0,
   "metadata": {
    "colab": {},
    "colab_type": "code",
    "id": "HBV1dnPHzVqm"
   },
   "outputs": [],
   "source": [
    "table_dict = {}\n",
    "for col_idx, heading in enumerate(heading_row): \n",
    "    column = []\n",
    "    for row in data_rows:\n",
    "        column.append(row[col_idx])\n",
    "    table_dict[heading] = column"
   ]
  },
  {
   "cell_type": "markdown",
   "metadata": {
    "colab_type": "text",
    "id": "6ga_fPODzVqo"
   },
   "source": [
    "Or, using comprehension:"
   ]
  },
  {
   "cell_type": "code",
   "execution_count": 0,
   "metadata": {
    "colab": {},
    "colab_type": "code",
    "id": "U_oivOXzzVqp"
   },
   "outputs": [],
   "source": [
    "table_dict = {heading:[row[col_idx] for row in data_rows] \n",
    "              for col_idx, heading in enumerate(heading_row)}"
   ]
  },
  {
   "cell_type": "markdown",
   "metadata": {
    "colab_type": "text",
    "id": "n1AqTjT2zVq2"
   },
   "source": [
    "We can get a *slice* of the table:"
   ]
  },
  {
   "cell_type": "code",
   "execution_count": 0,
   "metadata": {
    "colab": {
     "base_uri": "https://localhost:8080/",
     "height": 156
    },
    "colab_type": "code",
    "executionInfo": {
     "elapsed": 3935,
     "status": "ok",
     "timestamp": 1567703355503,
     "user": {
      "displayName": "Erik Colban",
      "photoUrl": "",
      "userId": "07941460183810655247"
     },
     "user_tz": 420
    },
    "id": "u6WbtvswzVq2",
    "outputId": "a23a0db6-a278-4f3d-b356-2d29f63e30f5"
   },
   "outputs": [
    {
     "data": {
      "text/plain": [
       "{'numcol': [16000, 55000, 53000, 450000],\n",
       " 'priceperlb': [0.72, 0.64, 0.59, 0.62],\n",
       " 'prodvalue': [818000, 2112000, 2033000, 23157000],\n",
       " 'state': ['AL', 'AZ', 'AR', 'CA'],\n",
       " 'stocks': [159000, 1485000, 1688000, 12326000],\n",
       " 'totalprod': [1136000, 3300000, 3445000, 37350000],\n",
       " 'year': [1998, 1998, 1998, 1998],\n",
       " 'yieldpercol': [71, 60, 65, 83]}"
      ]
     },
     "execution_count": 15,
     "metadata": {
      "tags": []
     },
     "output_type": "execute_result"
    }
   ],
   "source": [
    "{heading:column[:4] for heading, column in table_dict.items()}"
   ]
  },
  {
   "cell_type": "markdown",
   "metadata": {
    "colab_type": "text",
    "id": "A4BYtCMVzVqq"
   },
   "source": [
    "Now that we have our dictionary representing the table, we don't need `data_rows` any longer. We can get a row, represented as a dictionary mapping column heading to column entry, with the following function:"
   ]
  },
  {
   "cell_type": "code",
   "execution_count": 0,
   "metadata": {
    "colab": {},
    "colab_type": "code",
    "id": "Z2v_pG10zVqr"
   },
   "outputs": [],
   "source": [
    "def row(row_idx):\n",
    "    row = {}\n",
    "    for heading, column in table_dict.items():\n",
    "        row[heading] = column[row_idx]\n",
    "    return row"
   ]
  },
  {
   "cell_type": "code",
   "execution_count": 0,
   "metadata": {
    "colab": {},
    "colab_type": "code",
    "id": "y45q8ymuzVqu"
   },
   "outputs": [],
   "source": [
    "def row(row_idx):\n",
    "    return {heading:column[row_idx] for heading, column in table_dict.items() }"
   ]
  },
  {
   "cell_type": "code",
   "execution_count": 0,
   "metadata": {
    "colab": {
     "base_uri": "https://localhost:8080/",
     "height": 156
    },
    "colab_type": "code",
    "executionInfo": {
     "elapsed": 417,
     "status": "ok",
     "timestamp": 1567714075403,
     "user": {
      "displayName": "Erik Colban",
      "photoUrl": "",
      "userId": "07941460183810655247"
     },
     "user_tz": 420
    },
    "id": "O6NXn8L0zVqz",
    "outputId": "321d4a52-5bf6-4ad6-d438-8a3180aac0ca"
   },
   "outputs": [
    {
     "data": {
      "text/plain": [
       "{'numcol': 9000,\n",
       " 'priceperlb': 0.85,\n",
       " 'prodvalue': 704000,\n",
       " 'state': 'IN',\n",
       " 'stocks': 489000,\n",
       " 'totalprod': 828000,\n",
       " 'year': 1998,\n",
       " 'yieldpercol': 92}"
      ]
     },
     "execution_count": 22,
     "metadata": {
      "tags": []
     },
     "output_type": "execute_result"
    }
   ],
   "source": [
    "row(10)"
   ]
  },
  {
   "cell_type": "markdown",
   "metadata": {
    "colab_type": "text",
    "id": "FuwHBn4FzVq5"
   },
   "source": [
    "We can make queries:"
   ]
  },
  {
   "cell_type": "code",
   "execution_count": 0,
   "metadata": {
    "colab": {
     "base_uri": "https://localhost:8080/",
     "height": 433
    },
    "colab_type": "code",
    "executionInfo": {
     "elapsed": 3901,
     "status": "ok",
     "timestamp": 1567703355506,
     "user": {
      "displayName": "Erik Colban",
      "photoUrl": "",
      "userId": "07941460183810655247"
     },
     "user_tz": 420
    },
    "id": "Qs-xSmRrzVq5",
    "outputId": "b4a9bc0e-82d3-411c-dc72-38a81a58cf72"
   },
   "outputs": [
    {
     "data": {
      "text/plain": [
       "[{'numcol': 450000,\n",
       "  'priceperlb': 0.62,\n",
       "  'prodvalue': 23157000,\n",
       "  'state': 'CA',\n",
       "  'stocks': 12326000,\n",
       "  'totalprod': 37350000,\n",
       "  'year': 1998,\n",
       "  'yieldpercol': 83},\n",
       " {'numcol': 400000,\n",
       "  'priceperlb': 1.36,\n",
       "  'prodvalue': 48960000,\n",
       "  'state': 'ND',\n",
       "  'stocks': 8640000,\n",
       "  'totalprod': 36000000,\n",
       "  'year': 2008,\n",
       "  'yieldpercol': 90},\n",
       " {'numcol': 510000,\n",
       "  'priceperlb': 1.5,\n",
       "  'prodvalue': 69615000,\n",
       "  'state': 'ND',\n",
       "  'stocks': 12995000,\n",
       "  'totalprod': 46410000,\n",
       "  'year': 2010,\n",
       "  'yieldpercol': 91}]"
      ]
     },
     "execution_count": 19,
     "metadata": {
      "tags": []
     },
     "output_type": "execute_result"
    }
   ],
   "source": [
    "query_result = []\n",
    "for row_idx, total_prod in enumerate(table_dict['totalprod']):\n",
    "    if total_prod > 35000000:\n",
    "        query_result.append(row(row_idx))  \n",
    "query_result"
   ]
  },
  {
   "cell_type": "markdown",
   "metadata": {
    "colab_type": "text",
    "id": "5gO91e66zVq7"
   },
   "source": [
    "Using comprehension, the query becomes more declarative and succinct:"
   ]
  },
  {
   "cell_type": "code",
   "execution_count": 0,
   "metadata": {
    "colab": {
     "base_uri": "https://localhost:8080/",
     "height": 433
    },
    "colab_type": "code",
    "executionInfo": {
     "elapsed": 425,
     "status": "ok",
     "timestamp": 1567714240769,
     "user": {
      "displayName": "Erik Colban",
      "photoUrl": "",
      "userId": "07941460183810655247"
     },
     "user_tz": 420
    },
    "id": "gy8mvvNWzVq8",
    "outputId": "bd9d86ba-f55a-4975-fe27-742e4fa1ef54"
   },
   "outputs": [
    {
     "data": {
      "text/plain": [
       "[{'numcol': 450000,\n",
       "  'priceperlb': 0.62,\n",
       "  'prodvalue': 23157000,\n",
       "  'state': 'CA',\n",
       "  'stocks': 12326000,\n",
       "  'totalprod': 37350000,\n",
       "  'year': 1998,\n",
       "  'yieldpercol': 83},\n",
       " {'numcol': 400000,\n",
       "  'priceperlb': 1.36,\n",
       "  'prodvalue': 48960000,\n",
       "  'state': 'ND',\n",
       "  'stocks': 8640000,\n",
       "  'totalprod': 36000000,\n",
       "  'year': 2008,\n",
       "  'yieldpercol': 90},\n",
       " {'numcol': 510000,\n",
       "  'priceperlb': 1.5,\n",
       "  'prodvalue': 69615000,\n",
       "  'state': 'ND',\n",
       "  'stocks': 12995000,\n",
       "  'totalprod': 46410000,\n",
       "  'year': 2010,\n",
       "  'yieldpercol': 91}]"
      ]
     },
     "execution_count": 25,
     "metadata": {
      "tags": []
     },
     "output_type": "execute_result"
    }
   ],
   "source": [
    "[row(row_idx) \n",
    " for row_idx, total_prod in enumerate(table_dict['totalprod']) \n",
    " if total_prod > 35000000]"
   ]
  },
  {
   "cell_type": "markdown",
   "metadata": {
    "colab_type": "text",
    "id": "uz5rFlznhWXj"
   },
   "source": [
    "### Exercises"
   ]
  },
  {
   "cell_type": "code",
   "execution_count": 7,
   "metadata": {
    "colab": {},
    "colab_type": "code",
    "id": "KBaO7NqIhs4-"
   },
   "outputs": [],
   "source": [
    "# Replace None with a data structure that holds 5 country names.\n",
    "names = ['USA', 'Mexico', 'Ireland', 'Cuba', 'Canada']"
   ]
  },
  {
   "cell_type": "code",
   "execution_count": 8,
   "metadata": {
    "colab": {},
    "colab_type": "code",
    "id": "5jdWfORDiGjU"
   },
   "outputs": [],
   "source": [
    "# Replace None with a data structure that holds the capitals of the countries.\n",
    "capitals = ['Washington', 'Mexico City', 'Dublin', 'Havana', 'Ottawa']"
   ]
  },
  {
   "cell_type": "code",
   "execution_count": 0,
   "metadata": {
    "colab": {},
    "colab_type": "code",
    "id": "HokSSpD7i2pS"
   },
   "outputs": [],
   "source": [
    "# Replace None with the populations (in millions) of the 5 countries\n",
    "populations = [329, 127, 5, 11, 37]"
   ]
  },
  {
   "cell_type": "code",
   "execution_count": 6,
   "metadata": {
    "colab": {
     "base_uri": "https://localhost:8080/",
     "height": 104
    },
    "colab_type": "code",
    "executionInfo": {
     "elapsed": 359,
     "status": "ok",
     "timestamp": 1567725539483,
     "user": {
      "displayName": "Erik Colban",
      "photoUrl": "",
      "userId": "07941460183810655247"
     },
     "user_tz": 420
    },
    "id": "g0wTIE4bjLvi",
    "outputId": "b52870c1-e7e6-40a4-f854-b2c463e8c6c1"
   },
   "outputs": [
    {
     "ename": "NameError",
     "evalue": "name 'names' is not defined",
     "output_type": "error",
     "traceback": [
      "\u001b[0;31m---------------------------------------------------------------------------\u001b[0m",
      "\u001b[0;31mNameError\u001b[0m                                 Traceback (most recent call last)",
      "\u001b[0;32m<ipython-input-6-c4093e105e67>\u001b[0m in \u001b[0;36m<module>\u001b[0;34m()\u001b[0m\n\u001b[1;32m      6\u001b[0m \u001b[0;31m#   countries.append(country)\u001b[0m\u001b[0;34m\u001b[0m\u001b[0;34m\u001b[0m\u001b[0m\n\u001b[1;32m      7\u001b[0m countries = [{'name':name, 'capital':capital, 'population': population} \n\u001b[0;32m----> 8\u001b[0;31m              for name, capital, population in zip(names, capitals, populations)]\n\u001b[0m\u001b[1;32m      9\u001b[0m \u001b[0mcountries\u001b[0m\u001b[0;34m\u001b[0m\u001b[0m\n",
      "\u001b[0;31mNameError\u001b[0m: name 'names' is not defined"
     ]
    }
   ],
   "source": [
    "# Replace None with an appropriate data structure\n",
    "usa = {'name': 'USA', 'capital':'Washington', 'population':329}\n",
    "# countries = []\n",
    "# for i in range(len(names)):\n",
    "#   country = {'name':names[i], 'capital':capitals[i], 'population': populations[i]}\n",
    "#   countries.append(country)\n",
    "countries = [{'name':name, 'capital':capital, 'population': population} \n",
    "             for name, capital, population in zip(names, capitals, populations)]\n",
    "countries"
   ]
  },
  {
   "cell_type": "code",
   "execution_count": 4,
   "metadata": {
    "colab": {},
    "colab_type": "code",
    "id": "hm-by-B8Xz15"
   },
   "outputs": [],
   "source": [
    "# Complete\n",
    "\n",
    "def country_by_capital(capital):\n",
    "    \"\"\"Returns the name of the country whose capital is capital\"\"\"\n",
    "#       for country in countries:\n",
    "#         if country['capital'] == capital:\n",
    "#             return country['name']\n",
    "    \n",
    "    return next((country['name'] \n",
    "             for country in countries if country['capital'] == capital), None)"
   ]
  },
  {
   "cell_type": "code",
   "execution_count": 5,
   "metadata": {
    "colab": {
     "base_uri": "https://localhost:8080/",
     "height": 35
    },
    "colab_type": "code",
    "executionInfo": {
     "elapsed": 343,
     "status": "ok",
     "timestamp": 1567725813468,
     "user": {
      "displayName": "Erik Colban",
      "photoUrl": "",
      "userId": "07941460183810655247"
     },
     "user_tz": 420
    },
    "id": "D3PH2eIZENwz",
    "outputId": "0dbb0834-3849-47f2-ca4e-065396f88def"
   },
   "outputs": [
    {
     "ename": "NameError",
     "evalue": "name 'countries' is not defined",
     "output_type": "error",
     "traceback": [
      "\u001b[0;31m---------------------------------------------------------------------------\u001b[0m",
      "\u001b[0;31mNameError\u001b[0m                                 Traceback (most recent call last)",
      "\u001b[0;32m<ipython-input-5-ba3f3528de7f>\u001b[0m in \u001b[0;36m<module>\u001b[0;34m()\u001b[0m\n\u001b[0;32m----> 1\u001b[0;31m \u001b[0mcountry_by_capital\u001b[0m\u001b[0;34m(\u001b[0m\u001b[0;34m'Dublin'\u001b[0m\u001b[0;34m)\u001b[0m\u001b[0;34m\u001b[0m\u001b[0m\n\u001b[0m",
      "\u001b[0;32m<ipython-input-4-bd3cd602c523>\u001b[0m in \u001b[0;36mcountry_by_capital\u001b[0;34m(capital)\u001b[0m\n\u001b[1;32m      8\u001b[0m \u001b[0;34m\u001b[0m\u001b[0m\n\u001b[1;32m      9\u001b[0m     return next((country['name'] \n\u001b[0;32m---> 10\u001b[0;31m              for country in countries if country['capital'] == capital), None)\n\u001b[0m",
      "\u001b[0;31mNameError\u001b[0m: name 'countries' is not defined"
     ]
    }
   ],
   "source": [
    "country_by_capital('Dublin') "
   ]
  }
 ],
 "metadata": {
  "colab": {
   "collapsed_sections": [
    "uQR-ZUL8zVqS"
   ],
   "name": "data_types.ipynb",
   "provenance": [],
   "version": "0.3.2"
  },
  "kernelspec": {
   "display_name": "Python 3",
   "language": "python",
   "name": "python3"
  },
  "language_info": {
   "codemirror_mode": {
    "name": "ipython",
    "version": 3
   },
   "file_extension": ".py",
   "mimetype": "text/x-python",
   "name": "python",
   "nbconvert_exporter": "python",
   "pygments_lexer": "ipython3",
   "version": "3.7.3"
  }
 },
 "nbformat": 4,
 "nbformat_minor": 1
}
