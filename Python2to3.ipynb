{
 "cells": [
  {
   "cell_type": "markdown",
   "metadata": {},
   "source": [
    "# From Python 2 to Python 3\n",
    "\n",
    "Python 2 will no longer be maintained after the end of the year. Already some of the modules are not being maintained for Python 2. So making the move from Python 2 to Python 3 is highly recommended, although the move is not always unproblematic.\n",
    "\n",
    "## An example\n"
   ]
  },
  {
   "cell_type": "markdown",
   "metadata": {},
   "source": [
    "[Here](https://stash.ec2.local/projects/MON/repos/android/diff/util/bamboo_scripts/gplay/generate_store_resources.py?until=9e65b9e46b4f559566fe3a25e63502d341b8aa01)'s a pull request that was made in order to enable a script to be run in a Python 3 environment while still being able to run in a Python 2 environment.\n",
    "\n",
    "There are three things to notice in this example:\n",
    "\n",
    "1. Lines 1-8: Module names and module structures may be different. The modules `Tkinter` and `tkFont` have changed to `tkinter` and `tkinter.Font`.\n",
    "\n",
    "2. Line 97: The function `filter` used to be eagerly evaluated and is now lazily evaluated. The logic behind this line before the change was that `filter` returns a list. If this list is not empty then the body of the while loop is executed. However, in Python 3, `filter` returns a filter object. To force the execution, we could have converted the filter object into a list by passing it to the `list` function. But that is just a bad way of doing things, since we don't need the full list.\n",
    "\n",
    "3. Lines 122-125: `print` used to be a keyword in Python 2, bit is a regular function in Python 3. The parenthesis are required.\n",
    "\n"
   ]
  },
  {
   "cell_type": "code",
   "execution_count": null,
   "metadata": {},
   "outputs": [],
   "source": []
  }
 ],
 "metadata": {
  "kernelspec": {
   "display_name": "Python 3",
   "language": "python",
   "name": "python3"
  },
  "language_info": {
   "codemirror_mode": {
    "name": "ipython",
    "version": 3
   },
   "file_extension": ".py",
   "mimetype": "text/x-python",
   "name": "python",
   "nbconvert_exporter": "python",
   "pygments_lexer": "ipython3",
   "version": "3.7.4"
  }
 },
 "nbformat": 4,
 "nbformat_minor": 2
}
