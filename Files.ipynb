{
 "cells": [
  {
   "cell_type": "markdown",
   "metadata": {},
   "source": [
    "# Files\n",
    "\n",
    "There are several libraries in Python that can be used for sending files across the Internet: `urllib`, `urllib2`, `urllib3`. Having all these libraries can be [confusing](https://stackoverflow.com/questions/2018026/what-are-the-differences-between-the-urllib-urllib2-urllib3-and-requests-modul). The library that is probably the easiest to use is [`requests`](https://2.python-requests.org//en/latest/). Common to all these libraries is that they use HTTP as the protocol for transferring files.\n",
    "\n",
    "If you need to parse or build URLs, `urllib.parse` contains some useful functions."
   ]
  },
  {
   "cell_type": "code",
   "execution_count": null,
   "metadata": {},
   "outputs": [],
   "source": [
    "import requests"
   ]
  },
  {
   "cell_type": "code",
   "execution_count": null,
   "metadata": {},
   "outputs": [],
   "source": [
    "from urllib.parse import urlparse, quote, quote_plus, unquote, unquote_plus"
   ]
  },
  {
   "cell_type": "code",
   "execution_count": null,
   "metadata": {},
   "outputs": [],
   "source": [
    "quote_plus('My books: Python Crash Course, 2nd Ed.')"
   ]
  },
  {
   "cell_type": "code",
   "execution_count": null,
   "metadata": {},
   "outputs": [],
   "source": [
    "unquote_plus(_)"
   ]
  },
  {
   "cell_type": "code",
   "execution_count": null,
   "metadata": {},
   "outputs": [],
   "source": [
    "import os\n",
    "\n",
    "assets_url = 'https://raw.githubusercontent.com/ehmatthes/pcc_2e/master/chapter_10'\n",
    "\n",
    "pi_digits_url = os.path.join(assets_url, 'pi_digits.txt')\n",
    "response = requests.get(pi_digits_url)"
   ]
  },
  {
   "cell_type": "markdown",
   "metadata": {},
   "source": [
    "The `response` object has several attributes, among others `status_code` and `contents`. The contents is encoded as a byte string. If the contents is a plain text string, it can be accessed through the attribute `text`. When the contents is a JSON object representation, it can be loaded into a JSON object, using the method `json()`."
   ]
  },
  {
   "cell_type": "code",
   "execution_count": null,
   "metadata": {},
   "outputs": [],
   "source": [
    "response.status_code, response.content"
   ]
  },
  {
   "cell_type": "code",
   "execution_count": null,
   "metadata": {},
   "outputs": [],
   "source": [
    "response.text == response.content.decode()"
   ]
  },
  {
   "cell_type": "code",
   "execution_count": null,
   "metadata": {},
   "outputs": [],
   "source": [
    "len(response.text)"
   ]
  },
  {
   "cell_type": "code",
   "execution_count": null,
   "metadata": {},
   "outputs": [],
   "source": [
    "for line in response.text.split('\\n'):\n",
    "    print(line)"
   ]
  },
  {
   "cell_type": "code",
   "execution_count": null,
   "metadata": {},
   "outputs": [],
   "source": [
    "response = requests.get(os.path.join(assets_url, 'pi_million_digits.txt'))"
   ]
  },
  {
   "cell_type": "code",
   "execution_count": null,
   "metadata": {},
   "outputs": [],
   "source": [
    "len(response.content)"
   ]
  },
  {
   "cell_type": "markdown",
   "metadata": {},
   "source": [
    "We can save the response to a local file:"
   ]
  },
  {
   "cell_type": "code",
   "execution_count": null,
   "metadata": {},
   "outputs": [],
   "source": [
    "with open('assets/pi_million_digits.txt', mode='w') as f:\n",
    "    f.write(response.text)    "
   ]
  },
  {
   "cell_type": "markdown",
   "metadata": {},
   "source": [
    "And then test that the contents of the local file is as we would expect."
   ]
  },
  {
   "cell_type": "code",
   "execution_count": null,
   "metadata": {},
   "outputs": [],
   "source": [
    "with open('assets/pi_million_digits.txt', mode='r') as f:\n",
    "    pi_txt = f.read()\n",
    "    \n",
    "pi_txt == response.text"
   ]
  },
  {
   "cell_type": "code",
   "execution_count": null,
   "metadata": {},
   "outputs": [],
   "source": [
    "# Count the frequencies of digits.\n",
    "from collections import Counter\n",
    "\n",
    "Counter(pi_txt).most_common()"
   ]
  },
  {
   "cell_type": "markdown",
   "metadata": {},
   "source": [
    "Let's create a small multi-line file by taking the 32 first characters of the decimal expansion of π and writing them on four lines with eight characters on each line. To do this, we could take 4 slices of `pi_txt`, but for illustration purposes, we will create an in-memory file with `pi_txt` as contents using `io.StringIO`."
   ]
  },
  {
   "cell_type": "markdown",
   "metadata": {},
   "source": [
    "Let's look at different ways we can read this file into a string with no newlines."
   ]
  },
  {
   "cell_type": "code",
   "execution_count": null,
   "metadata": {},
   "outputs": [],
   "source": [
    "!head -2 assets/pi_million_digits.txt"
   ]
  },
  {
   "cell_type": "code",
   "execution_count": 3,
   "metadata": {},
   "outputs": [
    {
     "data": {
      "text/plain": [
       "'3.141592653589793238462643383279'"
      ]
     },
     "execution_count": 3,
     "metadata": {},
     "output_type": "execute_result"
    }
   ],
   "source": [
    "with open('assets/pi_digits.txt', mode='r') as f:\n",
    "    pi_txt = ''\n",
    "    line = f.readline()\n",
    "    while line:\n",
    "        pi_txt += line.strip()\n",
    "        line = f.readline()\n",
    "pi_txt[:4] + '...' + pi_txt[-3:]\n",
    "pi_txt"
   ]
  },
  {
   "cell_type": "markdown",
   "metadata": {},
   "source": [
    "The following has an syntax error on line 3. In Python (unlike Java), an assignment is *not* an expression. In Python 3.8, *assignment expressions* are introduced. An assignment expression uses the 'walrus operator' `:=` to assign a value to a variable. The assignment is then an expression that evaluates to the assigned value. "
   ]
  },
  {
   "cell_type": "code",
   "execution_count": 1,
   "metadata": {},
   "outputs": [
    {
     "ename": "SyntaxError",
     "evalue": "invalid syntax (<ipython-input-1-c2f30f2274f3>, line 3)",
     "output_type": "error",
     "traceback": [
      "\u001b[0;36m  File \u001b[0;32m\"<ipython-input-1-c2f30f2274f3>\"\u001b[0;36m, line \u001b[0;32m3\u001b[0m\n\u001b[0;31m    while line = f.readline(): # This is invalid syntax in Python!\u001b[0m\n\u001b[0m               ^\u001b[0m\n\u001b[0;31mSyntaxError\u001b[0m\u001b[0;31m:\u001b[0m invalid syntax\n"
     ]
    }
   ],
   "source": [
    "with open('assets/pi_million_digits.txt', mode='r') as f:\n",
    "    pi_txt = ''\n",
    "    while line = f.readline(): # This is invalid syntax in Python!\n",
    "        pi_txt += line.strip()\n",
    "pi_txt[:10] + '...' + pi_txt[-10:]"
   ]
  },
  {
   "cell_type": "markdown",
   "metadata": {},
   "source": [
    "`f.readlines()` reads all the lines into a list. "
   ]
  },
  {
   "cell_type": "code",
   "execution_count": null,
   "metadata": {},
   "outputs": [],
   "source": [
    "with open('assets/pi_million_digits.txt', mode='r') as f:\n",
    "    pi_txt = ''.join(line.strip() for line in f.readlines())\n",
    "'...'.join((pi_txt[:12], pi_txt[-10:]))"
   ]
  },
  {
   "cell_type": "markdown",
   "metadata": {},
   "source": [
    "`f` is an iterator. It has the advantage over `f.readlines()` that it does not store all the lines in a list, but reads the lines from the file as the iteration progresses. "
   ]
  },
  {
   "cell_type": "code",
   "execution_count": 1,
   "metadata": {},
   "outputs": [
    {
     "data": {
      "text/plain": [
       "'3.1415926535...5779458151'"
      ]
     },
     "execution_count": 1,
     "metadata": {},
     "output_type": "execute_result"
    }
   ],
   "source": [
    "with open('assets/pi_million_digits.txt', mode='r') as f:\n",
    "    pi_txt = ''.join(line.strip() for line in f)\n",
    "'...'.join((pi_txt[:12], pi_txt[-10:]))"
   ]
  },
  {
   "cell_type": "code",
   "execution_count": 2,
   "metadata": {},
   "outputs": [
    {
     "data": {
      "text/plain": [
       "'3.1415926535...5779458151'"
      ]
     },
     "execution_count": 2,
     "metadata": {},
     "output_type": "execute_result"
    }
   ],
   "source": [
    "with open('assets/pi_million_digits.txt', mode='r') as f:\n",
    "    head = next(f).strip()\n",
    "    for line in f: pass\n",
    "    tail = line.strip()\n",
    "'...'.join((head[:12], tail[-10:]))"
   ]
  },
  {
   "cell_type": "code",
   "execution_count": 16,
   "metadata": {},
   "outputs": [
    {
     "name": "stdout",
     "output_type": "stream",
     "text": [
      "590330\n"
     ]
    },
    {
     "data": {
      "text/plain": [
       "'590330 found at position 293014'"
      ]
     },
     "execution_count": 16,
     "metadata": {},
     "output_type": "execute_result"
    }
   ],
   "source": [
    "from datetime import date\n",
    "\n",
    "today_str = str(date.today()).replace('-', '')[2:]\n",
    "today_str = '590330'\n",
    "print(today_str)\n",
    "try:\n",
    "    res = f'{today_str} found at position {pi_txt.index(today_str)}'\n",
    "except ValueError as e:\n",
    "    res = f'{today_str} not found amond the first 1000000 digits of pi'\n",
    "res"
   ]
  },
  {
   "cell_type": "code",
   "execution_count": null,
   "metadata": {},
   "outputs": [],
   "source": []
  },
  {
   "cell_type": "code",
   "execution_count": null,
   "metadata": {},
   "outputs": [],
   "source": []
  }
 ],
 "metadata": {
  "kernelspec": {
   "display_name": "Python 3",
   "language": "python",
   "name": "python3"
  },
  "language_info": {
   "codemirror_mode": {
    "name": "ipython",
    "version": 3
   },
   "file_extension": ".py",
   "mimetype": "text/x-python",
   "name": "python",
   "nbconvert_exporter": "python",
   "pygments_lexer": "ipython3",
   "version": "3.7.6"
  }
 },
 "nbformat": 4,
 "nbformat_minor": 3
}
