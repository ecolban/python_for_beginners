{
 "cells": [
  {
   "cell_type": "markdown",
   "metadata": {},
   "source": [
    "# Files\n",
    "\n",
    "There are several libraries in Python that can be used for sending files across the Internet: `urllib`, `urllib2`, `urllib3`. Having all these libraries can be [confusing](https://stackoverflow.com/questions/2018026/what-are-the-differences-between-the-urllib-urllib2-urllib3-and-requests-modul). The library that is probably the easiest to use is [`requests`](https://2.python-requests.org//en/latest/). Common to all these libraries is that they use HTTP as the protocol for transferring files.\n",
    "\n",
    "If you need to parse or build URLs, `urllib.parse` contains some useful functions."
   ]
  },
  {
   "cell_type": "code",
   "execution_count": 1,
   "metadata": {},
   "outputs": [],
   "source": [
    "import requests"
   ]
  },
  {
   "cell_type": "code",
   "execution_count": 2,
   "metadata": {},
   "outputs": [],
   "source": [
    "from urllib.parse import urlparse, quote, quote_plus, unquote, unquote_plus, urljoin"
   ]
  },
  {
   "cell_type": "code",
   "execution_count": 3,
   "metadata": {},
   "outputs": [
    {
     "data": {
      "text/plain": [
       "'My+books%3A+Python+Crash+Course%2C+2nd+Ed.'"
      ]
     },
     "execution_count": 3,
     "metadata": {},
     "output_type": "execute_result"
    }
   ],
   "source": [
    "quote_plus('My books: Python Crash Course, 2nd Ed.')"
   ]
  },
  {
   "cell_type": "code",
   "execution_count": 4,
   "metadata": {},
   "outputs": [
    {
     "data": {
      "text/plain": [
       "'My books: Python Crash Course, 2nd Ed.'"
      ]
     },
     "execution_count": 4,
     "metadata": {},
     "output_type": "execute_result"
    }
   ],
   "source": [
    "unquote_plus(_)"
   ]
  },
  {
   "cell_type": "code",
   "execution_count": 5,
   "metadata": {},
   "outputs": [
    {
     "name": "stdout",
     "output_type": "stream",
     "text": [
      "https://introcs.cs.princeton.edu/java/data/pi-1million.txt\n"
     ]
    }
   ],
   "source": [
    "assets_url = 'https://introcs.cs.princeton.edu/java/data/'\n",
    "\n",
    "pi_digits_url = urljoin(assets_url, 'pi-1million.txt')\n",
    "print(pi_digits_url)\n",
    "response = requests.get(pi_digits_url)"
   ]
  },
  {
   "cell_type": "markdown",
   "metadata": {},
   "source": [
    "The `response` object has several attributes, among others `status_code` and `contents`. The contents is encoded as a byte string. If the contents is a plain text string, it can be accessed through the attribute `text`. When the contents is a JSON object representation, it can be loaded into a JSON object, using the method `json()`."
   ]
  },
  {
   "cell_type": "code",
   "execution_count": 6,
   "metadata": {},
   "outputs": [
    {
     "data": {
      "text/plain": [
       "200"
      ]
     },
     "execution_count": 6,
     "metadata": {},
     "output_type": "execute_result"
    }
   ],
   "source": [
    "response.status_code"
   ]
  },
  {
   "cell_type": "code",
   "execution_count": 7,
   "metadata": {},
   "outputs": [
    {
     "data": {
      "text/plain": [
       "b'3141592653589793238462643383279502884197169399375105820974944592307816406286208998628034825342117067'"
      ]
     },
     "execution_count": 7,
     "metadata": {},
     "output_type": "execute_result"
    }
   ],
   "source": [
    "response.content[:100]"
   ]
  },
  {
   "cell_type": "code",
   "execution_count": 8,
   "metadata": {},
   "outputs": [
    {
     "data": {
      "text/plain": [
       "True"
      ]
     },
     "execution_count": 8,
     "metadata": {},
     "output_type": "execute_result"
    }
   ],
   "source": [
    "response.text == response.content.decode()"
   ]
  },
  {
   "cell_type": "code",
   "execution_count": 9,
   "metadata": {},
   "outputs": [
    {
     "data": {
      "text/plain": [
       "1000000"
      ]
     },
     "execution_count": 9,
     "metadata": {},
     "output_type": "execute_result"
    }
   ],
   "source": [
    "len(response.text)"
   ]
  },
  {
   "cell_type": "code",
   "execution_count": 10,
   "metadata": {},
   "outputs": [
    {
     "data": {
      "text/plain": [
       "1"
      ]
     },
     "execution_count": 10,
     "metadata": {},
     "output_type": "execute_result"
    }
   ],
   "source": [
    "len(response.text.split('\\n'))"
   ]
  },
  {
   "cell_type": "code",
   "execution_count": 11,
   "metadata": {},
   "outputs": [
    {
     "data": {
      "text/plain": [
       "1000000"
      ]
     },
     "execution_count": 11,
     "metadata": {},
     "output_type": "execute_result"
    }
   ],
   "source": [
    "len(response.content)"
   ]
  },
  {
   "cell_type": "markdown",
   "metadata": {},
   "source": [
    "We can save the response to a local file:"
   ]
  },
  {
   "cell_type": "code",
   "execution_count": 12,
   "metadata": {},
   "outputs": [],
   "source": [
    "with open('assets/pi_million_digits.txt', mode='w') as f:\n",
    "    for i in range(0, 1000000, 100):\n",
    "        print(response.text[i: i + 100], file=f)"
   ]
  },
  {
   "cell_type": "markdown",
   "metadata": {},
   "source": [
    "And then test that the contents of the local file is as we would expect."
   ]
  },
  {
   "cell_type": "code",
   "execution_count": 13,
   "metadata": {},
   "outputs": [
    {
     "data": {
      "text/plain": [
       "True"
      ]
     },
     "execution_count": 13,
     "metadata": {},
     "output_type": "execute_result"
    }
   ],
   "source": [
    "with open('assets/pi_million_digits.txt', mode='r') as f:\n",
    "    pi_txt = f.read().replace('\\n', '')\n",
    "    \n",
    "pi_txt == response.text"
   ]
  },
  {
   "cell_type": "code",
   "execution_count": 14,
   "metadata": {},
   "outputs": [
    {
     "data": {
      "text/plain": [
       "[('5', 100359),\n",
       " ('3', 100230),\n",
       " ('4', 100230),\n",
       " ('9', 100106),\n",
       " ('2', 100026),\n",
       " ('8', 99985),\n",
       " ('0', 99959),\n",
       " ('7', 99800),\n",
       " ('1', 99757),\n",
       " ('6', 99548)]"
      ]
     },
     "execution_count": 14,
     "metadata": {},
     "output_type": "execute_result"
    }
   ],
   "source": [
    "# Count the frequencies of digits.\n",
    "from collections import Counter\n",
    "\n",
    "Counter(pi_txt).most_common()"
   ]
  },
  {
   "cell_type": "markdown",
   "metadata": {},
   "source": [
    "Let's create a small multi-line file by taking the 32 first characters of the decimal expansion of π and writing them on four lines with eight characters on each line. To do this, we could take 4 slices of `pi_txt`, but for illustration purposes, we will create an in-memory file with `pi_txt` as contents using `io.StringIO`."
   ]
  },
  {
   "cell_type": "markdown",
   "metadata": {},
   "source": [
    "Let's look at different ways we can read this file into a string with no newlines."
   ]
  },
  {
   "cell_type": "code",
   "execution_count": 15,
   "metadata": {},
   "outputs": [
    {
     "name": "stdout",
     "output_type": "stream",
     "text": [
      "3141592653589793238462643383279502884197169399375105820974944592307816406286208998628034825342117067\n",
      "9821480865132823066470938446095505822317253594081284811174502841027019385211055596446229489549303819\n"
     ]
    }
   ],
   "source": [
    "!head -2 assets/pi_million_digits.txt"
   ]
  },
  {
   "cell_type": "code",
   "execution_count": 22,
   "metadata": {},
   "outputs": [
    {
     "data": {
      "text/plain": [
       "'3.14...279'"
      ]
     },
     "execution_count": 22,
     "metadata": {},
     "output_type": "execute_result"
    }
   ],
   "source": [
    "with open('assets/pi_digits.txt', mode='r') as f:\n",
    "    pi_txt = ''\n",
    "    line = f.readline()\n",
    "    while line:\n",
    "        pi_txt += line.strip()\n",
    "        line = f.readline()\n",
    "pi_txt[:4] + '...' + pi_txt[-3:]"
   ]
  },
  {
   "cell_type": "markdown",
   "metadata": {},
   "source": [
    "The following has an syntax error on line 3. In Python (unlike Java), an assignment is *not* an expression. In Python 3.8, *assignment expressions* are introduced. An assignment expression uses the 'walrus operator' `:=` to assign a value to a variable. The assignment is then an expression that evaluates to the assigned value. "
   ]
  },
  {
   "cell_type": "code",
   "execution_count": 17,
   "metadata": {},
   "outputs": [
    {
     "data": {
      "text/plain": [
       "'3141592653...0577945815'"
      ]
     },
     "execution_count": 17,
     "metadata": {},
     "output_type": "execute_result"
    }
   ],
   "source": [
    "with open('assets/pi_million_digits.txt', mode='r') as f:\n",
    "    pi_txt = ''\n",
    "    while line := f.readline(): # This is invalid syntax in Python!\n",
    "        pi_txt += line.strip()\n",
    "pi_txt[:10] + '...' + pi_txt[-10:]"
   ]
  },
  {
   "cell_type": "markdown",
   "metadata": {},
   "source": [
    "`f.readlines()` reads all the lines into a list. "
   ]
  },
  {
   "cell_type": "code",
   "execution_count": 18,
   "metadata": {},
   "outputs": [
    {
     "data": {
      "text/plain": [
       "'314159265358...0577945815'"
      ]
     },
     "execution_count": 18,
     "metadata": {},
     "output_type": "execute_result"
    }
   ],
   "source": [
    "with open('assets/pi_million_digits.txt', mode='r') as f:\n",
    "    pi_txt = ''.join(line.strip() for line in f.readlines())\n",
    "'...'.join((pi_txt[:12], pi_txt[-10:]))"
   ]
  },
  {
   "cell_type": "markdown",
   "metadata": {},
   "source": [
    "`f` is an iterator. It has the advantage over `f.readlines()` that it does not store all the lines in a list, but reads the lines from the file as the iteration progresses. "
   ]
  },
  {
   "cell_type": "code",
   "execution_count": 19,
   "metadata": {},
   "outputs": [
    {
     "data": {
      "text/plain": [
       "'314159265358...0577945815'"
      ]
     },
     "execution_count": 19,
     "metadata": {},
     "output_type": "execute_result"
    }
   ],
   "source": [
    "with open('assets/pi_million_digits.txt', mode='r') as f:\n",
    "    pi_txt = ''.join(line.strip() for line in f)\n",
    "'...'.join((pi_txt[:12], pi_txt[-10:]))"
   ]
  },
  {
   "cell_type": "code",
   "execution_count": 20,
   "metadata": {},
   "outputs": [
    {
     "data": {
      "text/plain": [
       "'314159265358...0577945815'"
      ]
     },
     "execution_count": 20,
     "metadata": {},
     "output_type": "execute_result"
    }
   ],
   "source": [
    "with open('assets/pi_million_digits.txt', mode='r') as f:\n",
    "    head = next(f).strip()\n",
    "    for line in f: pass\n",
    "    tail = line.strip()\n",
    "'...'.join((head[:12], tail[-10:]))"
   ]
  },
  {
   "cell_type": "code",
   "execution_count": 21,
   "metadata": {},
   "outputs": [
    {
     "name": "stdout",
     "output_type": "stream",
     "text": [
      "250123\n"
     ]
    },
    {
     "data": {
      "text/plain": [
       "'250123 not found among the first 1000000 digits of pi'"
      ]
     },
     "execution_count": 21,
     "metadata": {},
     "output_type": "execute_result"
    }
   ],
   "source": [
    "from datetime import date\n",
    "\n",
    "today_str = str(date.today()).replace('-', '')[2:]\n",
    "print(today_str)\n",
    "try:\n",
    "    res = f'{today_str} found at position {pi_txt.index(today_str)}'\n",
    "except ValueError as e:\n",
    "    res = f'{today_str} not found among the first 1000000 digits of pi'\n",
    "res"
   ]
  }
 ],
 "metadata": {
  "kernelspec": {
   "display_name": "Python 3 (ipykernel)",
   "language": "python",
   "name": "python3"
  },
  "language_info": {
   "codemirror_mode": {
    "name": "ipython",
    "version": 3
   },
   "file_extension": ".py",
   "mimetype": "text/x-python",
   "name": "python",
   "nbconvert_exporter": "python",
   "pygments_lexer": "ipython3",
   "version": "3.12.4"
  }
 },
 "nbformat": 4,
 "nbformat_minor": 4
}
