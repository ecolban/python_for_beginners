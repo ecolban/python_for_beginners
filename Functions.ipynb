{
 "cells": [
  {
   "cell_type": "markdown",
   "metadata": {
    "colab_type": "text",
    "id": "PXWZ6gFAbXHw"
   },
   "source": [
    "# Functions\n",
    "\n",
    "## Function calls\n",
    "\n",
    "Functions are pieces of code that take some input, do somthing, and produce an output. We have already used functions in many places:\n",
    "\n",
    "1. `len([1, 2, 3])`\n",
    "1. `range(2, 21, 2)`\n",
    "2. `print('Hello, world!')`\n",
    "4. `my_list.sort(key=len)`\n",
    "3. `sorted(my_list, reverse=True)`\n",
    "\n",
    "The list above are examples of functions that are _called_. The syntax of a function call is the function name (e.g., `len`, `range`, `print`, etc.) followed by the  _arguments_ inside parentheses. The parentheses must always be present even if no arguments are passed to the function.\n",
    "\n",
    "Let's look more closely at the function calls above. The function `len` takes a single argument. The argument must be associated with a length or a size of some kind. For example, a `str`, a `list`, a `dict`, or a `set` may be arguments to `len`, but not an `int` or a `float`. \n",
    "\n",
    "The function `range` takes 3 arguments, but if only 1 or 2 arguments are passed, the remaining arguments take default values. The 3 arguments of `range` are `start`, `stop`, and `step`. The `stop` argument must always be passed, `start`, if not present, defaults to 0, and `step`, if not present, defaults to 1. If `step` is present, then `start` must also be present. You can retrieve the documentation of a function by typing the function name followed by a question mark in a notebook cell, e.g., type `range?` in its own cell.\n",
    "\n",
    "The function `print` prints its arguments to the console followed by a newline. This function can take an arbitrary number of argument (0 or more) and will print each argument separated by a space. In addition, `print` can take some _keyword_ arguments, such as `end`, and `sep`. For example, if you don't want a newline to be printed, because you want to print more stuff on the same line, you can call `print('Hello', end=', ')`. If you then call `print('world!')`, then `Hello, world!` will be printed on one line. The arguments to a function that are not keyword arguments are called _positional_ arguments and must always precede the keyword arguments. \n",
    "\n",
    "In the example `my_list.sort(key=len)`, the function `sort` is applied to `my_list`. We say that `sort` is a _method_ of `my_list`. We will revisit methods when studying classes. For now, think of the object preceding the function call as an argument of the function. Note that `sort` takes a keyword argument `key` which is a function; in this case, the function `len`. Functions, just like any other type such as `int`, `list`, `str`, etc. can be passed as arguments to other functions and be returned by other functions. We express this by saying that functions are _first class citizens_. \n",
    "\n",
    "The function `sorted` is similar to `sort`, but is not a method. Another main difference between `sorted` and `sort` is that `sort` sorts the object it is applied to _in place_ and returns nothing (or more precisely, returns `None`). For example, if `a = ['a', 'c', 'b']` and `a.sort()` is called, then the list `a` is modified in place and becomes `['a', 'b', 'c']`. On the other hand, if `sorted(a)` is called instead of `a.sort()`, then `a` is left unmodified, and a new sorted list `['a', 'b', 'c']` is returned.\n",
    "\n",
    "## Side effects\n",
    "\n",
    "Some functions, when called, do more than just return an output. For example, `print`, when called returns `None`. This function is clearly not called for its return value, because there is a more direct way of obtaining 'None'. The main purpose of this function is what it does in addition to returning a result, namely printing something to the console. What a function does in addition to returning a value is called a _side effect_. A function that does not produce any side effect is called a pure function. Pure functions match the concept of a function as we use it in mathematics. \n",
    "\n",
    "Of the five functions listed in the beginning of this section, `len`, `range`, and `sorted` are pure, whereas `print` and `sort` have side effects. When calling `my_list.sort()`, `my_list` is modified, which is a side effect. \n",
    "\n",
    "Some functions act as pure functions depending on the argument that they are passed. For example, when we call `list('hello')`, the list `['h', 'e', 'l', 'l', 'o']` is returned and there are no side-effects. But if we call `list` on an iterator, then the iterator will be _consumed_, which is a side effect.\n",
    "\n",
    "Pure functions are one of the tenets of _functional programming (FP)_ and have certain benefits. We are not going to go into a discussion of the benefits of pure functions here. Just keep in mind that a function may or may not have side effects, and when they do, it's important to account for them. As a general principle, favor pure functions.\n",
    "\n",
    "## Defining functions\n",
    "\n",
    "The general syntax of a function definition is:\n",
    "\n",
    "```Python\n",
    "def function_name(arg_1, arg_2, ..., arg_n):\n",
    "    <do some stuff>\n",
    "    <do some more stuff>\n",
    "    return something\n",
    "```\n",
    "\n",
    "The best way to familiarize oneself with function definitions is through examples, so let's get started.\n",
    "\n",
    "\n"
   ]
  },
  {
   "cell_type": "code",
   "execution_count": null,
   "metadata": {},
   "outputs": [],
   "source": [
    "a = len('Hello')\n",
    "a"
   ]
  },
  {
   "cell_type": "markdown",
   "metadata": {
    "colab_type": "text",
    "id": "GoggZHputDWu"
   },
   "source": [
    "Write a function that takes two numbers and returns their sum."
   ]
  },
  {
   "cell_type": "code",
   "execution_count": null,
   "metadata": {
    "colab": {},
    "colab_type": "code",
    "id": "SzLEyO1ZtP0Z"
   },
   "outputs": [],
   "source": [
    "def add_numbers(first_number, second_number):\n",
    "    result = first_number + second_number\n",
    "    return result\n"
   ]
  },
  {
   "cell_type": "markdown",
   "metadata": {
    "colab_type": "text",
    "id": "diZrbZEytfvf"
   },
   "source": [
    "We can test this function by calling it with different arguments."
   ]
  },
  {
   "cell_type": "code",
   "execution_count": null,
   "metadata": {
    "colab": {
     "base_uri": "https://localhost:8080/",
     "height": 35
    },
    "colab_type": "code",
    "executionInfo": {
     "elapsed": 1574,
     "status": "ok",
     "timestamp": 1568161369846,
     "user": {
      "displayName": "Erik Colban",
      "photoUrl": "",
      "userId": "07941460183810655247"
     },
     "user_tz": 420
    },
    "id": "57VYJ0Vntoqe",
    "outputId": "8a7a188a-9128-4268-fb8a-03ac7c6527ad"
   },
   "outputs": [],
   "source": [
    "add_numbers(1, 2)"
   ]
  },
  {
   "cell_type": "code",
   "execution_count": null,
   "metadata": {
    "colab": {
     "base_uri": "https://localhost:8080/",
     "height": 35
    },
    "colab_type": "code",
    "executionInfo": {
     "elapsed": 1545,
     "status": "ok",
     "timestamp": 1568161369847,
     "user": {
      "displayName": "Erik Colban",
      "photoUrl": "",
      "userId": "07941460183810655247"
     },
     "user_tz": 420
    },
    "id": "kFCGqOvHts-n",
    "outputId": "606a942d-97e7-4ab8-c953-82d932f4e841"
   },
   "outputs": [],
   "source": [
    "add_numbers(279, 721)"
   ]
  },
  {
   "cell_type": "code",
   "execution_count": null,
   "metadata": {
    "colab": {
     "base_uri": "https://localhost:8080/",
     "height": 35
    },
    "colab_type": "code",
    "executionInfo": {
     "elapsed": 1533,
     "status": "ok",
     "timestamp": 1568161369847,
     "user": {
      "displayName": "Erik Colban",
      "photoUrl": "",
      "userId": "07941460183810655247"
     },
     "user_tz": 420
    },
    "id": "pmT7IM7Ot6dQ",
    "outputId": "f56ade92-14d3-47fb-cc34-3514ab6809dc"
   },
   "outputs": [],
   "source": [
    "add_numbers(2.79, 7.21)"
   ]
  },
  {
   "cell_type": "code",
   "execution_count": null,
   "metadata": {},
   "outputs": [],
   "source": [
    "add_numbers([1, 2, 3], [4, 5, 6])"
   ]
  },
  {
   "cell_type": "markdown",
   "metadata": {
    "colab_type": "text",
    "id": "obDPVXgSuBfR"
   },
   "source": [
    "Is it possible to call `add_numbers` with arguments that are not numbers? What do you think? Add a cell below and try it. "
   ]
  },
  {
   "cell_type": "markdown",
   "metadata": {
    "colab_type": "text",
    "id": "P5Mh6yj5w0FA"
   },
   "source": [
    "Define a function that takes a `str` as an argument and returns a `str` consisting of all the characters in even positions. For example, if the input string is `\"012345678\"`, the function should return `\"02468\"`."
   ]
  },
  {
   "cell_type": "code",
   "execution_count": null,
   "metadata": {
    "colab": {},
    "colab_type": "code",
    "id": "6p5ZKpCQxMvT"
   },
   "outputs": [],
   "source": [
    "def even_chars(a_string):\n",
    "#     res = []\n",
    "#     for i in range(0, len(a_string), 2):\n",
    "#         res.append(a_string[i])\n",
    "#     return ''.join(res)\n",
    "\n",
    "#     return ''.join(a_string[i] for i in range(0, len(a_string), 2))\n",
    "\n",
    "    return a_string[::2]"
   ]
  },
  {
   "cell_type": "code",
   "execution_count": null,
   "metadata": {
    "colab": {
     "base_uri": "https://localhost:8080/",
     "height": 35
    },
    "colab_type": "code",
    "executionInfo": {
     "elapsed": 469,
     "status": "ok",
     "timestamp": 1568204010680,
     "user": {
      "displayName": "Erik Colban",
      "photoUrl": "",
      "userId": "07941460183810655247"
     },
     "user_tz": 420
    },
    "id": "CvPXGVgpxgyl",
    "outputId": "fe2ed5e7-e063-43e0-b0cc-c27733ba3f29"
   },
   "outputs": [],
   "source": [
    "even_chars('hellosleep')"
   ]
  },
  {
   "cell_type": "markdown",
   "metadata": {
    "colab_type": "text",
    "id": "pKcSkILox535"
   },
   "source": [
    "Define a function that takes a `str` as an argument and returns a `str` consisting of all the characters of the input in odd positions. For example, if the input string is `\"012345678\"`, the function should return `\"1357\"`.\n"
   ]
  },
  {
   "cell_type": "code",
   "execution_count": null,
   "metadata": {
    "colab": {},
    "colab_type": "code",
    "id": "IU_4lAcbyBxp"
   },
   "outputs": [],
   "source": [
    "def odd_chars(a_string):\n",
    "    return a_string[1::2]"
   ]
  },
  {
   "cell_type": "code",
   "execution_count": null,
   "metadata": {
    "colab": {},
    "colab_type": "code",
    "id": "-dYvpRSdyKdy"
   },
   "outputs": [],
   "source": [
    "odd_chars('hellosleep')"
   ]
  },
  {
   "cell_type": "markdown",
   "metadata": {
    "colab_type": "text",
    "id": "LqM-QUg7yRll"
   },
   "source": [
    "Define a function that takes two `str`'s as arguments and returns a `str` where all the characters in even positions are from the first argument, and all the characters in odd positions are from the second argument.  If the input strings are of different lengths, the longer is truncated to the length of the shorter. For example, if the two input strings are \"02468\" and \"1357\", then the function should return \"01234567\"."
   ]
  },
  {
   "cell_type": "code",
   "execution_count": null,
   "metadata": {
    "colab": {},
    "colab_type": "code",
    "id": "WaEPjr8-yrMW"
   },
   "outputs": [],
   "source": [
    "def interleave(s1, s2):\n",
    "#     shortest_len = min(len(s1), len(s2))\n",
    "#     res = []\n",
    "#     for i in range(shortest_len):\n",
    "#         res.append(s1[i])\n",
    "#         res.append(s2[i])\n",
    "#     return ''.join(res)\n",
    "    return ''.join(c for p in zip(s1, s2) for c in p)        "
   ]
  },
  {
   "cell_type": "code",
   "execution_count": null,
   "metadata": {
    "colab": {},
    "colab_type": "code",
    "id": "0DhqLT1fzBpx"
   },
   "outputs": [],
   "source": [
    "interleave(even_chars('hellosleep'), odd_chars('hellosleep'))"
   ]
  },
  {
   "cell_type": "code",
   "execution_count": null,
   "metadata": {
    "colab": {
     "base_uri": "https://localhost:8080/",
     "height": 35
    },
    "colab_type": "code",
    "executionInfo": {
     "elapsed": 1460,
     "status": "ok",
     "timestamp": 1568161369850,
     "user": {
      "displayName": "Erik Colban",
      "photoUrl": "",
      "userId": "07941460183810655247"
     },
     "user_tz": 420
    },
    "id": "aEzTX6hez4rj",
    "outputId": "e4bc527c-da1e-4947-f0b5-0dad5a7e4835"
   },
   "outputs": [],
   "source": [
    "print('hello', 'sleep', sep=', ', end=' --> ')\n",
    "interleaved = interleave('hello', 'sleep')\n",
    "print(interleaved, end=' --> ')\n",
    "print(even_chars(interleaved), odd_chars(interleaved), sep=', ')"
   ]
  },
  {
   "cell_type": "markdown",
   "metadata": {
    "colab_type": "text",
    "id": "ojdQt3TBbeV8"
   },
   "source": [
    "We've seen how we can use `random.shuffle` to shuffle a list. Does this function perform _in place_ shuffling or does it leave its argument unchanged and returns a new list? Can `shuffle` be used to shuffle the letters of a `str` object? Why or why not?\n",
    "\n",
    "Define a function `str_shuffle` that takes a `str` as input and returns a `str` with the characters of the input in random order?"
   ]
  },
  {
   "cell_type": "code",
   "execution_count": 1,
   "metadata": {},
   "outputs": [
    {
     "name": "stdout",
     "output_type": "stream",
     "text": [
      "[1, 2, 3, 4, 5, 6, 7, 8, 9, 10, 11, 12, 13, 14, 15, 16, 17, 18, 19]\n",
      "[9, 10, 1, 6, 18, 5, 16, 12, 15, 3, 7, 4, 17, 11, 2, 14, 19, 8, 13]\n"
     ]
    }
   ],
   "source": [
    "from random import shuffle\n",
    "\n",
    "a = list(range(1, 20))\n",
    "print(a)\n",
    "shuffle(a)\n",
    "print(a)\n"
   ]
  },
  {
   "cell_type": "code",
   "execution_count": 7,
   "metadata": {
    "colab": {},
    "colab_type": "code",
    "id": "ga5-C_hUaWqJ"
   },
   "outputs": [],
   "source": [
    "from random import shuffle\n",
    "\n",
    "def str_shuffle(a_str):\n",
    "    a = list(a_str)\n",
    "    print('a =', a)\n",
    "    shuffle(a)\n",
    "    print('a =', a)\n",
    "    return ''.join(a)"
   ]
  },
  {
   "cell_type": "code",
   "execution_count": 8,
   "metadata": {
    "colab": {},
    "colab_type": "code",
    "id": "6skGM3ieafTq"
   },
   "outputs": [
    {
     "name": "stdout",
     "output_type": "stream",
     "text": [
      "a =  ['i', 'n', ' ', 't', 'h', 'e', ' ', 'j', 'u', 'n', 'g', 'l', 'e', ' ', 't', 'h', 'e', ' ', 'l', 'i', 'o', 'n', ' ', 'i', 's', ' ', 'a', 's', 'l', 'e', 'e', 'p']\n",
      "a = ['e', 'l', 'n', ' ', 'i', 't', 'u', 'g', ' ', 'i', 'e', 'n', 'h', 'p', 'e', 'e', 'e', 'o', 'i', ' ', 'l', 'h', ' ', ' ', 'n', ' ', 'j', 't', 'l', 's', 's', 'a']\n"
     ]
    },
    {
     "data": {
      "text/plain": [
       "'eln itug ienhpeeeoi lh  n jtlssa'"
      ]
     },
     "execution_count": 8,
     "metadata": {},
     "output_type": "execute_result"
    }
   ],
   "source": [
    "str_shuffle('in the jungle the lion is asleep')"
   ]
  },
  {
   "cell_type": "markdown",
   "metadata": {},
   "source": [
    "### Some fun with strings\n",
    "\n",
    "For the next function definition, we are going to make use of `collections.Counter`. This function returns a dict where the distinct elements of its argument are keys and the number of times each element occurs in the argument is the corresponding value."
   ]
  },
  {
   "cell_type": "code",
   "execution_count": 9,
   "metadata": {},
   "outputs": [
    {
     "data": {
      "text/plain": [
       "Counter({'a': 5, 'b': 2, 'r': 2, 'c': 1, 'd': 1})"
      ]
     },
     "execution_count": 9,
     "metadata": {},
     "output_type": "execute_result"
    }
   ],
   "source": [
    "from collections import Counter\n",
    "\n",
    "Counter('abracadabra')"
   ]
  },
  {
   "cell_type": "markdown",
   "metadata": {},
   "source": [
    "Here is another example, which we shouldn't have to execute, but, just for the heck of it, let's do it. 🙂"
   ]
  },
  {
   "cell_type": "code",
   "execution_count": 10,
   "metadata": {},
   "outputs": [
    {
     "data": {
      "text/plain": [
       "[('\\n', 6),\n",
       " (' ', 91),\n",
       " ('!', 1),\n",
       " (\"'\", 23),\n",
       " (',', 27),\n",
       " ('-', 7),\n",
       " ('a', 10),\n",
       " ('b', 3),\n",
       " ('c', 4),\n",
       " ('d', 4),\n",
       " ('e', 46),\n",
       " ('f', 16),\n",
       " ('g', 4),\n",
       " ('h', 13),\n",
       " ('i', 15),\n",
       " ('k', 2),\n",
       " ('l', 9),\n",
       " ('m', 4),\n",
       " ('n', 25),\n",
       " ('o', 24),\n",
       " ('p', 5),\n",
       " ('r', 16),\n",
       " ('s', 41),\n",
       " ('t', 37),\n",
       " ('u', 10),\n",
       " ('v', 8),\n",
       " ('w', 8),\n",
       " ('x', 4),\n",
       " ('y', 11)]"
      ]
     },
     "execution_count": 10,
     "metadata": {},
     "output_type": "execute_result"
    }
   ],
   "source": [
    "def autogram_1():\n",
    "    counts = Counter('''Only the fool would take trouble to verify that\n",
    "    his sentence was composed of ten a's, three b's, four c's, four d's,\n",
    "    forty-six e's, sixteen f's, four g's, thirteen h's, fifteen i's, two\n",
    "    k's, nine l's, four m's, twenty-five n's, twenty-four o's, five p's,\n",
    "    sixteen r's, forty-one s's, thirty-seven t's, ten u's, eight v's,\n",
    "    eight w's, four x's, eleven y's, twenty-seven commas, twenty-three\n",
    "    apostrophes, seven hyphens and, last but not least, a single !'''.lower())\n",
    "\n",
    "    return sorted(counts.items())\n",
    "autogram_1()"
   ]
  },
  {
   "cell_type": "markdown",
   "metadata": {},
   "source": [
    "Self describing sentences like the one above are referred to as [_autograms_](https://en.wikipedia.org/wiki/Autogram). The first autogram to be published was composed by Lee Sallows and appeared in Douglas Hofstadter's \"Metamagical Themas\" column in Scientific American in 1982. Notice that the letter 'z' doesn't appear in this sentence and, hence, it's not a _pangram,_ a sentence in which every letter of the alphabet occurs at least once. Below is a pangramic autogram by Chris Patuzzo."
   ]
  },
  {
   "cell_type": "code",
   "execution_count": 12,
   "metadata": {},
   "outputs": [
    {
     "data": {
      "text/plain": [
       "['a:  4.5%',\n",
       " 'b:  0.1%',\n",
       " 'c:  4.3%',\n",
       " 'd:  0.9%',\n",
       " 'e: 20.1%',\n",
       " 'f:  1.5%',\n",
       " 'g:  0.4%',\n",
       " 'h:  1.5%',\n",
       " 'i:  6.8%',\n",
       " 'j:  0.1%',\n",
       " 'k:  0.1%',\n",
       " 'l:  1.1%',\n",
       " 'm:  0.3%',\n",
       " 'n: 12.1%',\n",
       " 'o:  8.1%',\n",
       " 'p:  7.3%',\n",
       " 'q:  0.1%',\n",
       " 'r:  9.9%',\n",
       " 's:  5.6%',\n",
       " 't:  9.9%',\n",
       " 'u:  0.7%',\n",
       " 'v:  1.4%',\n",
       " 'w:  0.7%',\n",
       " 'x:  0.5%',\n",
       " 'y:  0.3%',\n",
       " 'z:  1.6%']"
      ]
     },
     "execution_count": 12,
     "metadata": {},
     "output_type": "execute_result"
    }
   ],
   "source": [
    "from string import ascii_lowercase\n",
    "\n",
    "def autogram_2():\n",
    "    sentence = \"\"\"This sentence is dedicated to Lee Sallows and to within one decimal place\n",
    "    four point five percent of the letters in this sentence are a's, zero point one percent are b's,\n",
    "    four point three percent are c's, zero point nine percent are d's, twenty point one percent are e's,\n",
    "    one point five percent are f's, zero point four percent are g's, one point five percent are h's,\n",
    "    six point eight percent are i's, zero point one percent are j's, zero point one percent are k's,\n",
    "    one point one percent are l's, zero point three percent are m's, twelve point one percent are n's,\n",
    "    eight point one percent are o's, seven point three percent are p's, zero point one percent are q's,\n",
    "    nine point nine percent are r's, five point six percent are s's, nine point nine percent are t's,\n",
    "    zero point seven percent are u's, one point four percent are v's, zero point seven percent are w's,\n",
    "    zero point five percent are x's, zero point three percent are y's and one point six percent are z's.\"\"\"\n",
    "    total = sum(1 for c in sentence.lower() if c in ascii_lowercase)\n",
    "    counts = Counter(sentence.lower())\n",
    "    res = []\n",
    "    for c in ascii_lowercase:\n",
    "        res.append(f'{c}: {counts[c] / total :5.1%}')\n",
    "    return res\n",
    "#     return [f'{c}: {counts[c] / total :5.1%}' for c in ascii_lowercase]\n",
    "\n",
    "autogram_2()"
   ]
  },
  {
   "cell_type": "code",
   "execution_count": 19,
   "metadata": {},
   "outputs": [
    {
     "data": {
      "text/plain": [
       "False"
      ]
     },
     "execution_count": 19,
     "metadata": {},
     "output_type": "execute_result"
    }
   ],
   "source": [
    "# Write a function that checks if a sentence is a pangram\n",
    "def is_pangram(sentence):\n",
    "#     letters = set(ascii_lowercase)\n",
    "#     for c in sentence.lower():\n",
    "#         if c in letters:\n",
    "#             letters.remove(c)\n",
    "#     return letters == set()\n",
    "    return all(c in sentence.lower() for c in ascii_lowercase)\n",
    "\n",
    "is_pangram('The quick brown fox jumps over the lzy dog.')"
   ]
  },
  {
   "cell_type": "markdown",
   "metadata": {},
   "source": [
    "### Worked Example: Scrabble helper"
   ]
  },
  {
   "cell_type": "markdown",
   "metadata": {
    "colab_type": "text",
    "id": "7j8s33DAc--y"
   },
   "source": [
    "We've already seen how we can download an English dictionary from the web and store the results in a list. We will put that code in a function and call that function to get the word list.\n"
   ]
  },
  {
   "cell_type": "code",
   "execution_count": 4,
   "metadata": {
    "colab": {},
    "colab_type": "code",
    "id": "KIbApY5kaijQ"
   },
   "outputs": [],
   "source": [
    "import urllib.request\n",
    "from string import ascii_lowercase\n",
    "\n",
    "# print(ascii_lowercase)\n",
    "\n",
    "def load_word_list(url):\n",
    "    \n",
    "    def is_clean(word):\n",
    "        return word != '' and all(c in ascii_lowercase for c in word)\n",
    "    \n",
    "    response = urllib.request.urlopen(url) # response is a http.client.HTTPResponse\n",
    "    data = response.read() # data is a bytes object\n",
    "    return [w for w in data.decode('utf-8').split('\\n') if is_clean(w)]\n",
    "\n",
    "word_list = load_word_list('https://svnweb.freebsd.org/csrg/share/dict/words?view=co')"
   ]
  },
  {
   "cell_type": "code",
   "execution_count": 5,
   "metadata": {},
   "outputs": [
    {
     "data": {
      "text/plain": [
       "20409"
      ]
     },
     "execution_count": 5,
     "metadata": {},
     "output_type": "execute_result"
    }
   ],
   "source": [
    "# How many words does word_list contain?\n",
    "len(word_list)"
   ]
  },
  {
   "cell_type": "code",
   "execution_count": 6,
   "metadata": {},
   "outputs": [
    {
     "data": {
      "text/plain": [
       "['a',\n",
       " 'aardvark',\n",
       " 'aback',\n",
       " 'abacus',\n",
       " 'abalone',\n",
       " 'abandon',\n",
       " 'abase',\n",
       " 'abash',\n",
       " 'abate',\n",
       " 'abbas']"
      ]
     },
     "execution_count": 6,
     "metadata": {},
     "output_type": "execute_result"
    }
   ],
   "source": [
    "# What are the 10 first words in word_list?\n",
    "word_list[:10]"
   ]
  },
  {
   "cell_type": "code",
   "execution_count": 7,
   "metadata": {},
   "outputs": [
    {
     "data": {
      "text/plain": [
       "['zygote',\n",
       " 'zucchini',\n",
       " 'zounds',\n",
       " 'zooplankton',\n",
       " 'zoom',\n",
       " 'zoology',\n",
       " 'zoo',\n",
       " 'zone',\n",
       " 'zombie',\n",
       " 'zodiacal']"
      ]
     },
     "execution_count": 7,
     "metadata": {},
     "output_type": "execute_result"
    }
   ],
   "source": [
    "# What are the 10 last words in word_list?\n",
    "word_list[::-1][:10]"
   ]
  },
  {
   "cell_type": "markdown",
   "metadata": {},
   "source": [
    "Let's define a function `make_words` that returns all the words in word_list that can be made from given letters. The given letters will be the argument of the function. Inside the body of this function, we'll define another helper function `check_word` that takes a word as argument and returns `True` if the word can be made from the given letters, and `False` otherwise."
   ]
  },
  {
   "cell_type": "code",
   "execution_count": 8,
   "metadata": {
    "colab": {},
    "colab_type": "code",
    "id": "y_lF3_zxarRr"
   },
   "outputs": [],
   "source": [
    "from collections import Counter\n",
    "\n",
    "def make_words(source_letters):\n",
    "    \"\"\"source_letters is an iterable of letters. This function returns\n",
    "    a list of words that can be made from letters in source_letters. A\n",
    "    letter cannot be used more times than the number of times it occurs\n",
    "    in source_letters.\"\"\"\n",
    "\n",
    "    letters_dict = Counter(source_letters)\n",
    "\n",
    "    def check_word(word):\n",
    "        return all(c in letters_dict and n <= letters_dict[c] \n",
    "               for c, n in Counter(word).items())\n",
    "\n",
    "    return [w for w in word_list if len(w) >= 2 and check_word(w)]"
   ]
  },
  {
   "cell_type": "markdown",
   "metadata": {
    "colab_type": "text",
    "id": "tx2PV-zliabf"
   },
   "source": [
    "Call this function to get the list of all words of length 2 or longer that can be made from the letters: s, a, n, d, i, e, g, o. What are the three longest words in this list?"
   ]
  },
  {
   "cell_type": "code",
   "execution_count": 18,
   "metadata": {
    "colab": {},
    "colab_type": "code",
    "id": "eP2Emwv1a7Yd"
   },
   "outputs": [
    {
     "data": {
      "text/plain": [
       "['design', 'dosage', 'diagnose']"
      ]
     },
     "execution_count": 18,
     "metadata": {},
     "output_type": "execute_result"
    }
   ],
   "source": [
    "# Replace [] with a function call\n",
    "words_made_from_sandiego = make_words('sandiego')\n",
    "# Write an expression for the list of the three longest words in words_made_from_sandiego\n",
    "words_made_from_sandiego.sort(key=len)\n",
    "words_made_from_sandiego[-3:]\n"
   ]
  },
  {
   "cell_type": "markdown",
   "metadata": {
    "colab_type": "text",
    "id": "VoDrNOtlkNAa"
   },
   "source": [
    "Write a function `longest_words` that takes an _iterable_ of letters as input and returns the list of longest words that can be made from the input. For example,\n",
    "\n",
    "```Python\n",
    "longest_words(ascii_lowercase)\n",
    "```\n",
    "should return:\n",
    "\n",
    "`['ambidextrous',\n",
    " 'bluestocking',\n",
    " 'exclusionary',\n",
    " 'incomputable',\n",
    " 'lexicography',\n",
    " 'loudspeaking',\n",
    " 'malnourished']`\n",
    "\n",
    "In this case, there are no words with 13 or more letters, but there are seven 12-letter words."
   ]
  },
  {
   "cell_type": "code",
   "execution_count": 35,
   "metadata": {
    "colab": {},
    "colab_type": "code",
    "id": "ZfZl73PLkrQj"
   },
   "outputs": [],
   "source": [
    "def longest_words(letters):\n",
    "    all_words = make_words(letters)\n",
    "    max_len = max(len(w) for w in all_words)\n",
    "    return [w for w in all_words if len(w) == max_len]"
   ]
  },
  {
   "cell_type": "code",
   "execution_count": 36,
   "metadata": {},
   "outputs": [
    {
     "data": {
      "text/plain": [
       "['ambidextrous',\n",
       " 'bluestocking',\n",
       " 'exclusionary',\n",
       " 'incomputable',\n",
       " 'lexicography',\n",
       " 'loudspeaking',\n",
       " 'malnourished']"
      ]
     },
     "execution_count": 36,
     "metadata": {},
     "output_type": "execute_result"
    }
   ],
   "source": [
    "# The longest words where all letters are different\n",
    "longest_words(ascii_lowercase)"
   ]
  },
  {
   "cell_type": "code",
   "execution_count": 46,
   "metadata": {
    "colab": {
     "base_uri": "https://localhost:8080/",
     "height": 139
    },
    "colab_type": "code",
    "executionInfo": {
     "elapsed": 438,
     "status": "ok",
     "timestamp": 1568203099534,
     "user": {
      "displayName": "Erik Colban",
      "photoUrl": "",
      "userId": "07941460183810655247"
     },
     "user_tz": 420
    },
    "id": "CyOoQe0jm2UT",
    "outputId": "5b63313e-fb50-41ff-a016-687a6b6603d9"
   },
   "outputs": [
    {
     "data": {
      "text/plain": [
       "['cf', 'vs']"
      ]
     },
     "execution_count": 46,
     "metadata": {},
     "output_type": "execute_result"
    }
   ],
   "source": [
    "# Write an expression for the longest words that \n",
    "# 1) do not contain the letter 'e', and \n",
    "# 2) where all letters are different.\n",
    "longest_words(c for c in ascii_lowercase if c not in 'aeiouy')"
   ]
  },
  {
   "cell_type": "code",
   "execution_count": null,
   "metadata": {},
   "outputs": [],
   "source": []
  }
 ],
 "metadata": {
  "colab": {
   "collapsed_sections": [],
   "name": "Functions.ipynb",
   "provenance": [],
   "version": "0.3.2"
  },
  "kernelspec": {
   "display_name": "Python 3",
   "language": "python",
   "name": "python3"
  },
  "language_info": {
   "codemirror_mode": {
    "name": "ipython",
    "version": 3
   },
   "file_extension": ".py",
   "mimetype": "text/x-python",
   "name": "python",
   "nbconvert_exporter": "python",
   "pygments_lexer": "ipython3",
   "version": "3.7.3"
  }
 },
 "nbformat": 4,
 "nbformat_minor": 1
}
