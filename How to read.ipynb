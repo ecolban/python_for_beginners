{
 "cells": [
  {
   "cell_type": "markdown",
   "id": "d16931b4-26fc-4ea2-8168-52e3d963dc21",
   "metadata": {},
   "source": [
    "# How to read"
   ]
  },
  {
   "cell_type": "markdown",
   "id": "9789d967-428d-408e-9d83-77c1a04651fb",
   "metadata": {},
   "source": [
    "The notebooks do not introduce Python in any systematic way. You'll see code examples with no prior introduction of the syntax or semantics, and you'll just need to make the best of it by guessing what they mean and how they work. Nevertheless, here is a suggested order in which you can read the notebooks."
   ]
  },
  {
   "cell_type": "markdown",
   "id": "b4f96d0b-117a-4efc-b34c-72ecccf97dad",
   "metadata": {},
   "source": [
    "1. Jupiter Notebook Intro.ipynb\n",
    "2. Data Types.ipynb\n",
    "3. Files.ipynb\n",
    "5. Iteration.ipynb\n",
    "6. Comprehensions.ipynb\n",
    "7. Functions.ipynb\n",
    "8. Keyword Arguments.ipynb\n",
    "9. Scope.ipynb\n",
    "10. Exceptions.ipynb\n",
    "11. Classes.ipynb"
   ]
  },
  {
   "cell_type": "code",
   "execution_count": null,
   "id": "371ffad5-68fa-4f6a-a374-af97e6e911a5",
   "metadata": {},
   "outputs": [],
   "source": []
  }
 ],
 "metadata": {
  "kernelspec": {
   "display_name": "Python 3 (ipykernel)",
   "language": "python",
   "name": "python3"
  },
  "language_info": {
   "codemirror_mode": {
    "name": "ipython",
    "version": 3
   },
   "file_extension": ".py",
   "mimetype": "text/x-python",
   "name": "python",
   "nbconvert_exporter": "python",
   "pygments_lexer": "ipython3",
   "version": "3.12.4"
  }
 },
 "nbformat": 4,
 "nbformat_minor": 5
}
