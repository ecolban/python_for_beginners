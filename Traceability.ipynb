{
 "cells": [
  {
   "cell_type": "code",
   "execution_count": null,
   "metadata": {},
   "outputs": [],
   "source": [
    "import http.client\n",
    "import os\n",
    "import re\n",
    "import sys\n",
    "import requests\n",
    "\n",
    "from bs4 import BeautifulSoup\n",
    "from getpass import getpass\n",
    "from time import sleep, time as now\n",
    "from urllib.parse import urljoin\n",
    "from urllib.request import urlopen"
   ]
  },
  {
   "cell_type": "code",
   "execution_count": null,
   "metadata": {},
   "outputs": [],
   "source": [
    "# Set this to 1 for debugging HTTP server communication\n",
    "http.client.HTTPConnection.debuglevel = 0"
   ]
  },
  {
   "cell_type": "code",
   "execution_count": null,
   "metadata": {},
   "outputs": [],
   "source": [
    "bamboo_base_url = \"https://bamboo.ec2.local\"\n",
    "local_dir = os.path.expanduser('./assets/traceability')\n",
    "security_certificate = os.path.expanduser(\"~/Americas-Root.pem\")\n",
    "# ec2_username = input('user: ')\n",
    "# ec2_password = getpass()\n",
    "ec2_username = \"automatedservices\"\n",
    "ec2_password = \"EC2RO-ResMed123+\""
   ]
  },
  {
   "cell_type": "code",
   "execution_count": null,
   "metadata": {},
   "outputs": [],
   "source": [
    "def get_dir_name_from_url(url):\n",
    "    m = re.match(r'.*/(build-\\d+/Acceptance-Test-Results-\\d+)/?', url)\n",
    "    return m.group(1) if m else None"
   ]
  },
  {
   "cell_type": "code",
   "execution_count": null,
   "metadata": {},
   "outputs": [],
   "source": [
    "def download_report(results_url):\n",
    "    target_dir = os.path.join(local_dir, get_dir_name_from_url(results_url))\n",
    "    os.makedirs(target_dir, exist_ok=True)\n",
    "    url = f'{results_url}/cucumberReports/report.json'\n",
    "    print(f\"Downloading {url} ...\", end='')\n",
    "\n",
    "    response = requests.get(url,\n",
    "                            auth=(ec2_username, ec2_password),\n",
    "                            verify=security_certificate)\n",
    "    with open(os.path.join(target_dir, 'report.json'), mode='wb') as f:\n",
    "        f.write(response.content)\n",
    "    print('done!')"
   ]
  },
  {
   "cell_type": "code",
   "execution_count": null,
   "metadata": {},
   "outputs": [],
   "source": [
    "def extract_links_from_contents(contents):\n",
    "    soup = BeautifulSoup(markup=contents, features=\"html\")\n",
    "    links = soup.find_all(\"a\")\n",
    "    return [\n",
    "        link['href'] for link in links\n",
    "        if re.match(r'.*Acceptance-Test-Results-\\d+', str(link.contents))\n",
    "    ]"
   ]
  },
  {
   "cell_type": "code",
   "execution_count": null,
   "metadata": {},
   "outputs": [],
   "source": [
    "def download_reports(build_number):\n",
    "    # https://bamboo.ec2.local/artifact/MON-ATEST/shared/build-2059/\n",
    "    build_path = f\"artifact/MON-ATEST/shared/build-{build_number}/\"\n",
    "    bamboo_build_url = urljoin(bamboo_base_url, build_path)\n",
    "    response = requests.get(bamboo_build_url,\n",
    "                            auth=(ec2_username, ec2_password),\n",
    "                            verify=security_certificate)\n",
    "    refs = extract_links_from_contents(response.content)\n",
    "    for ref in refs:\n",
    "        download_report(urljoin(bamboo_base_url, ref))"
   ]
  },
  {
   "cell_type": "code",
   "execution_count": null,
   "metadata": {},
   "outputs": [],
   "source": [
    "download_reports(input('Build number:'))"
   ]
  },
  {
   "cell_type": "code",
   "execution_count": null,
   "metadata": {},
   "outputs": [],
   "source": [
    "def get_local_reports(build_number):\n",
    "    \"\"\"Returns the file path of all the reports.json files \n",
    "    that belong to a build\"\"\"\n",
    "    root = os.path.join(local_dir, f'build-{build_number}')\n",
    "    result = []\n",
    "    for dir_path, dir_names, file_names in os.walk(root):\n",
    "        if file_names and 'report.json' in file_names:\n",
    "            result.append(os.path.join(dir_path, 'report.json'))\n",
    "    result.sort()\n",
    "    return result"
   ]
  },
  {
   "cell_type": "code",
   "execution_count": null,
   "metadata": {},
   "outputs": [],
   "source": [
    "get_local_reports(input('build number:'))"
   ]
  },
  {
   "cell_type": "code",
   "execution_count": null,
   "metadata": {},
   "outputs": [],
   "source": [
    "def post_to_transform(file_name):\n",
    "    transform_url = 'https://taas-traceability-service.apps.us6.paas.easycareonline.com/taas/traceability/report/transform'\n",
    "    headers = {'Content-Type': 'multipart/form-data', 'Accept': 'application/json'}\n",
    "    multipart_form_data = {'file': ('report.json', open(file_name, 'rb'), 'application/json', headers)}\n",
    "    return requests.post(transform_url, files=multipart_form_data, verify=security_certificate)"
   ]
  },
  {
   "cell_type": "code",
   "execution_count": null,
   "metadata": {},
   "outputs": [],
   "source": [
    "file_name = get_local_reports(2059)[0]\n",
    "response = post_to_transform(file_name)\n",
    "print(response.status_code)\n",
    "print(response.json())"
   ]
  },
  {
   "cell_type": "code",
   "execution_count": null,
   "metadata": {},
   "outputs": [],
   "source": [
    "!ls assets/traceability/build-2059/\n"
   ]
  },
  {
   "cell_type": "code",
   "execution_count": null,
   "metadata": {},
   "outputs": [],
   "source": [
    "response.content"
   ]
  },
  {
   "cell_type": "code",
   "execution_count": null,
   "metadata": {},
   "outputs": [],
   "source": [
    "response.json()"
   ]
  },
  {
   "cell_type": "code",
   "execution_count": null,
   "metadata": {},
   "outputs": [],
   "source": []
  }
 ],
 "metadata": {
  "kernelspec": {
   "display_name": "Python 3",
   "language": "python",
   "name": "python3"
  },
  "language_info": {
   "codemirror_mode": {
    "name": "ipython",
    "version": 3
   },
   "file_extension": ".py",
   "mimetype": "text/x-python",
   "name": "python",
   "nbconvert_exporter": "python",
   "pygments_lexer": "ipython3",
   "version": "3.7.4"
  }
 },
 "nbformat": 4,
 "nbformat_minor": 2
}
