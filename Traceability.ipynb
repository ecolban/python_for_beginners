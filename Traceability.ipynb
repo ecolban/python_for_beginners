{
 "cells": [
  {
   "cell_type": "code",
   "execution_count": 1,
   "metadata": {},
   "outputs": [],
   "source": [
    "import http.client\n",
    "import os\n",
    "import re\n",
    "import sys\n",
    "import requests\n",
    "\n",
    "from bs4 import BeautifulSoup\n",
    "from getpass import getpass\n",
    "from time import sleep, time as now\n",
    "from urllib.parse import urljoin\n",
    "from urllib.request import urlopen"
   ]
  },
  {
   "cell_type": "code",
   "execution_count": 2,
   "metadata": {},
   "outputs": [],
   "source": [
    "# Set this to 1 for debugging HTTP server communication\n",
    "http.client.HTTPConnection.debuglevel = 0"
   ]
  },
  {
   "cell_type": "code",
   "execution_count": 3,
   "metadata": {},
   "outputs": [],
   "source": [
    "bamboo_base_url = \"https://bamboo.ec2.local\"\n",
    "local_dir = os.path.expanduser('~/traceability')\n",
    "security_certificate = os.path.expanduser(\"~/Americas-Root.pem\")\n",
    "# ec2_username = input('user: ')\n",
    "# ec2_password = getpass()\n",
    "ec2_username = \"automatedservices\"\n",
    "ec2_password = \"EC2RO-ResMed123+\""
   ]
  },
  {
   "cell_type": "code",
   "execution_count": 4,
   "metadata": {},
   "outputs": [],
   "source": [
    "def get_dir_name_from_url(url):\n",
    "    m = re.match(r'.*/(build-\\d+/Acceptance-Test-Results-\\d+)/?', url)\n",
    "    return m.group(1) if m else None"
   ]
  },
  {
   "cell_type": "code",
   "execution_count": 5,
   "metadata": {},
   "outputs": [],
   "source": [
    "def download_report(results_url):\n",
    "    target_dir = os.path.join(local_dir, get_dir_name_from_url(results_url))\n",
    "    os.makedirs(target_dir, exist_ok=True)\n",
    "    url = f'{results_url}/cucumberReports/report.json'\n",
    "    print(f\"Downloading {url} ...\", end='')\n",
    "\n",
    "    response = requests.get(url,\n",
    "                            auth=(ec2_username, ec2_password),\n",
    "                            verify=security_certificate)\n",
    "    with open(os.path.join(target_dir, 'report.json'), mode='wb') as f:\n",
    "        f.write(response.content)\n",
    "    print('done!')"
   ]
  },
  {
   "cell_type": "code",
   "execution_count": 6,
   "metadata": {},
   "outputs": [],
   "source": [
    "def extract_links_from_contents(contents):\n",
    "    soup = BeautifulSoup(markup=contents, features=\"html\")\n",
    "    links = soup.find_all(\"a\")\n",
    "    return [\n",
    "        link['href'] for link in links\n",
    "        if re.match(r'.*Acceptance-Test-Results-\\d+', str(link.contents))\n",
    "    ]"
   ]
  },
  {
   "cell_type": "code",
   "execution_count": 7,
   "metadata": {},
   "outputs": [],
   "source": [
    "def download_reports(build_number):\n",
    "    # https://bamboo.ec2.local/artifact/MON-ATEST/shared/build-2059/\n",
    "    build_path = f\"artifact/MON-ATEST/shared/build-{build_number}/\"\n",
    "    bamboo_build_url = urljoin(bamboo_base_url, build_path)\n",
    "    response = requests.get(bamboo_build_url,\n",
    "                            auth=(ec2_username, ec2_password),\n",
    "                            verify=security_certificate)\n",
    "    refs = extract_links_from_contents(response.content)\n",
    "    for ref in refs:\n",
    "        download_report(urljoin(bamboo_base_url, ref))"
   ]
  },
  {
   "cell_type": "code",
   "execution_count": 9,
   "metadata": {},
   "outputs": [
    {
     "name": "stdout",
     "output_type": "stream",
     "text": [
      "Build number:2059\n",
      "Downloading https://bamboo.ec2.local/artifact/MON-ATEST/shared/build-2059/Acceptance-Test-Results-01/cucumberReports/report.json ...done!\n",
      "Downloading https://bamboo.ec2.local/artifact/MON-ATEST/shared/build-2059/Acceptance-Test-Results-02/cucumberReports/report.json ...done!\n",
      "Downloading https://bamboo.ec2.local/artifact/MON-ATEST/shared/build-2059/Acceptance-Test-Results-03/cucumberReports/report.json ...done!\n",
      "Downloading https://bamboo.ec2.local/artifact/MON-ATEST/shared/build-2059/Acceptance-Test-Results-04/cucumberReports/report.json ...done!\n",
      "Downloading https://bamboo.ec2.local/artifact/MON-ATEST/shared/build-2059/Acceptance-Test-Results-05/cucumberReports/report.json ...done!\n",
      "Downloading https://bamboo.ec2.local/artifact/MON-ATEST/shared/build-2059/Acceptance-Test-Results-06/cucumberReports/report.json ...done!\n",
      "Downloading https://bamboo.ec2.local/artifact/MON-ATEST/shared/build-2059/Acceptance-Test-Results-07/cucumberReports/report.json ...done!\n",
      "Downloading https://bamboo.ec2.local/artifact/MON-ATEST/shared/build-2059/Acceptance-Test-Results-08/cucumberReports/report.json ...done!\n",
      "Downloading https://bamboo.ec2.local/artifact/MON-ATEST/shared/build-2059/Acceptance-Test-Results-09/cucumberReports/report.json ...done!\n",
      "Downloading https://bamboo.ec2.local/artifact/MON-ATEST/shared/build-2059/Acceptance-Test-Results-10/cucumberReports/report.json ...done!\n",
      "Downloading https://bamboo.ec2.local/artifact/MON-ATEST/shared/build-2059/Acceptance-Test-Results-11/cucumberReports/report.json ...done!\n",
      "Downloading https://bamboo.ec2.local/artifact/MON-ATEST/shared/build-2059/Acceptance-Test-Results-12/cucumberReports/report.json ...done!\n",
      "Downloading https://bamboo.ec2.local/artifact/MON-ATEST/shared/build-2059/Acceptance-Test-Results-13/cucumberReports/report.json ...done!\n",
      "Downloading https://bamboo.ec2.local/artifact/MON-ATEST/shared/build-2059/Acceptance-Test-Results-14/cucumberReports/report.json ...done!\n",
      "Downloading https://bamboo.ec2.local/artifact/MON-ATEST/shared/build-2059/Acceptance-Test-Results-15/cucumberReports/report.json ...done!\n"
     ]
    }
   ],
   "source": [
    "download_reports(input('Build number:'))"
   ]
  },
  {
   "cell_type": "code",
   "execution_count": 27,
   "metadata": {},
   "outputs": [],
   "source": [
    "def get_local_reports(build_number):\n",
    "    \"\"\"Returns the file path of all the reports.json files \n",
    "    that belong to a build\"\"\"\n",
    "    root = os.path.join(local_dir, f'build-{build_number}')\n",
    "    result = []\n",
    "    for dir_path, dir_names, file_names in os.walk(root):\n",
    "        if file_names and 'report.json' in file_names:\n",
    "            result.append(os.path.join(dir_path, 'report.json'))\n",
    "    result.sort()\n",
    "    return result"
   ]
  },
  {
   "cell_type": "code",
   "execution_count": 28,
   "metadata": {},
   "outputs": [
    {
     "name": "stdout",
     "output_type": "stream",
     "text": [
      "build number:2058\n"
     ]
    },
    {
     "data": {
      "text/plain": [
       "['/Users/erikc/traceability/build-2058/Acceptance-Test-Results-01/report.json',\n",
       " '/Users/erikc/traceability/build-2058/Acceptance-Test-Results-02/report.json',\n",
       " '/Users/erikc/traceability/build-2058/Acceptance-Test-Results-03/report.json',\n",
       " '/Users/erikc/traceability/build-2058/Acceptance-Test-Results-04/report.json',\n",
       " '/Users/erikc/traceability/build-2058/Acceptance-Test-Results-05/report.json',\n",
       " '/Users/erikc/traceability/build-2058/Acceptance-Test-Results-06/report.json',\n",
       " '/Users/erikc/traceability/build-2058/Acceptance-Test-Results-07/report.json',\n",
       " '/Users/erikc/traceability/build-2058/Acceptance-Test-Results-08/report.json',\n",
       " '/Users/erikc/traceability/build-2058/Acceptance-Test-Results-09/report.json',\n",
       " '/Users/erikc/traceability/build-2058/Acceptance-Test-Results-10/report.json',\n",
       " '/Users/erikc/traceability/build-2058/Acceptance-Test-Results-11/report.json',\n",
       " '/Users/erikc/traceability/build-2058/Acceptance-Test-Results-12/report.json',\n",
       " '/Users/erikc/traceability/build-2058/Acceptance-Test-Results-13/report.json',\n",
       " '/Users/erikc/traceability/build-2058/Acceptance-Test-Results-14/report.json',\n",
       " '/Users/erikc/traceability/build-2058/Acceptance-Test-Results-15/report.json']"
      ]
     },
     "execution_count": 28,
     "metadata": {},
     "output_type": "execute_result"
    }
   ],
   "source": [
    "get_local_reports(input('build number:'))"
   ]
  },
  {
   "cell_type": "code",
   "execution_count": 36,
   "metadata": {},
   "outputs": [
    {
     "data": {
      "text/plain": [
       "<Response [406]>"
      ]
     },
     "execution_count": 36,
     "metadata": {},
     "output_type": "execute_result"
    }
   ],
   "source": [
    "transform_url = 'https://taas-traceability-service.apps.us6.paas.easycareonline.com/taas/traceability/report/transform'\n",
    "file_name = get_local_reports(2059)[0]\n",
    "response = requests.post(transform_url, files=dict(file=file_name), auth=(ec2_username, ec2_password),\n",
    "                            verify=security_certificate)\n",
    "response"
   ]
  },
  {
   "cell_type": "code",
   "execution_count": 37,
   "metadata": {},
   "outputs": [
    {
     "data": {
      "text/plain": [
       "b'{\"timestamp\":\"2019-11-21 10:53:12\",\"description\":\"Error occured during processing report\",\"error\":null}'"
      ]
     },
     "execution_count": 37,
     "metadata": {},
     "output_type": "execute_result"
    }
   ],
   "source": [
    "response.content"
   ]
  },
  {
   "cell_type": "code",
   "execution_count": null,
   "metadata": {},
   "outputs": [],
   "source": []
  },
  {
   "cell_type": "code",
   "execution_count": null,
   "metadata": {},
   "outputs": [],
   "source": []
  }
 ],
 "metadata": {
  "kernelspec": {
   "display_name": "Python 3",
   "language": "python",
   "name": "python3"
  },
  "language_info": {
   "codemirror_mode": {
    "name": "ipython",
    "version": 3
   },
   "file_extension": ".py",
   "mimetype": "text/x-python",
   "name": "python",
   "nbconvert_exporter": "python",
   "pygments_lexer": "ipython3",
   "version": "3.7.4"
  }
 },
 "nbformat": 4,
 "nbformat_minor": 2
}
