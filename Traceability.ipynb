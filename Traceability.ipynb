{
 "cells": [
  {
   "cell_type": "code",
   "execution_count": null,
   "metadata": {},
   "outputs": [],
   "source": [
    "import http.client\n",
    "import json\n",
    "import os\n",
    "import re\n",
    "import requests\n",
    "import pyperclip\n",
    "import sys\n",
    "\n",
    "from bs4 import BeautifulSoup\n",
    "from getpass import getpass\n",
    "from time import sleep, time as now\n",
    "from urllib.parse import urljoin\n",
    "from urllib.request import urlopen"
   ]
  },
  {
   "cell_type": "code",
   "execution_count": null,
   "metadata": {},
   "outputs": [],
   "source": [
    "# Set this to 1 for debugging HTTP server communication\n",
    "http.client.HTTPConnection.debuglevel = 0"
   ]
  },
  {
   "cell_type": "code",
   "execution_count": null,
   "metadata": {},
   "outputs": [],
   "source": [
    "bamboo_base_url = \"https://bamboo.ec2.local\"\n",
    "local_dir = os.path.expanduser('./assets/traceability') # local directory where all reports are stored\n",
    "security_certificate = os.path.expanduser(\"~/Americas-Root.pem\")\n",
    "# ec2_username = input('user: ')\n",
    "# ec2_password = getpass()\n",
    "ec2_username = \"automatedservices\"\n",
    "ec2_password = \"EC2RO-ResMed123+\""
   ]
  },
  {
   "cell_type": "code",
   "execution_count": null,
   "metadata": {},
   "outputs": [],
   "source": [
    "def last_successful_build():\n",
    "    \"\"\"Gets the build number of the last successful build\"\"\"\n",
    "    response = requests.get('https://bamboo.ec2.local/browse/MON-ATEST',\n",
    "                            auth=(ec2_username, ec2_password),\n",
    "                            verify=security_certificate)\n",
    "    soup = BeautifulSoup(markup=response.content.decode(), features=\"html\")\n",
    "    table = soup.find(\"table\", { \"id\" : \"buildResultsTable\" })\n",
    "    table_body = table.find('tbody')\n",
    "    return next(node.find('a').text.strip()[1:] \n",
    "                for row in table_body.find_all('tr')\n",
    "                for node in (row.find('td', {'class': 'Successful'}),) if node)"
   ]
  },
  {
   "cell_type": "code",
   "execution_count": null,
   "metadata": {},
   "outputs": [],
   "source": [
    "last_successful_build()"
   ]
  },
  {
   "cell_type": "code",
   "execution_count": null,
   "metadata": {},
   "outputs": [],
   "source": [
    "def download_all_reports(build_number=None):\n",
    "    \"\"\"Downloads all report.json files for a given build number.\"\"\"\n",
    "    # https://bamboo.ec2.local/artifact/MON-ATEST/shared/build-2059/\n",
    "    build_path = f\"artifact/MON-ATEST/shared/build-{build_number or last_successful_build()}/\"\n",
    "    bamboo_build_url = urljoin(bamboo_base_url, build_path)\n",
    "    response = requests.get(bamboo_build_url,\n",
    "                            auth=(ec2_username, ec2_password),\n",
    "                            verify=security_certificate)\n",
    "    refs = extract_links_from_contents(response.content)\n",
    "    for ref in refs:\n",
    "        download_report(urljoin(bamboo_base_url, ref))"
   ]
  },
  {
   "cell_type": "code",
   "execution_count": null,
   "metadata": {},
   "outputs": [],
   "source": [
    "def extract_links_from_contents(contents):\n",
    "    \"\"\"Return a list of URLs found in given contents.\"\"\"\n",
    "    soup = BeautifulSoup(markup=contents, features=\"html\")\n",
    "    links = soup.find_all(\"a\")\n",
    "    return [\n",
    "        link['href'] for link in links\n",
    "        if re.match(r'.*Acceptance-Test-Results-\\d+', str(link.contents))\n",
    "    ]"
   ]
  },
  {
   "cell_type": "code",
   "execution_count": null,
   "metadata": {},
   "outputs": [],
   "source": [
    "def download_report(results_url):\n",
    "    \"\"\"Downloads and stores a report.json file from given URL\"\"\"\n",
    "    target_dir = os.path.join(local_dir, get_local_sub_dir(results_url))\n",
    "    os.makedirs(target_dir, exist_ok=True)\n",
    "    url = f'{results_url}/cucumberReports/report.json'\n",
    "    print(f\"Downloading {url} ...\", end='')\n",
    "\n",
    "    response = requests.get(url,\n",
    "                            auth=(ec2_username, ec2_password),\n",
    "                            verify=security_certificate)\n",
    "    with open(os.path.join(target_dir, 'report.json'), mode='wb') as f:\n",
    "        f.write(response.content)\n",
    "    print('done!')"
   ]
  },
  {
   "cell_type": "code",
   "execution_count": null,
   "metadata": {},
   "outputs": [],
   "source": [
    "def get_local_sub_dir(url):\n",
    "    \"Returns the local sub-directory to store report downloaded from given URL.\"\n",
    "    m = re.match(r'.*/(build-\\d+/Acceptance-Test-Results-\\d+)/?', url)\n",
    "    return m.group(1) if m else None"
   ]
  },
  {
   "cell_type": "code",
   "execution_count": null,
   "metadata": {},
   "outputs": [],
   "source": [
    "download_all_reports()"
   ]
  },
  {
   "cell_type": "code",
   "execution_count": null,
   "metadata": {},
   "outputs": [],
   "source": [
    "def get_local_reports(build_number=None):\n",
    "    \"\"\"Returns the file path of all locally stored reports.json files \n",
    "    that belong to a build.\n",
    "    \n",
    "    If build_number is None, then the build number defaults to the last\n",
    "    successful build\"\"\"\n",
    "    root = os.path.join(local_dir, f'build-{build_number or last_successful_build()}')\n",
    "    result = []\n",
    "    for dir_path, dir_names, file_names in os.walk(root):\n",
    "        if file_names and 'report.json' in file_names:\n",
    "            result.append(os.path.join(dir_path, 'report.json'))\n",
    "    result.sort()\n",
    "    return result"
   ]
  },
  {
   "cell_type": "code",
   "execution_count": null,
   "metadata": {},
   "outputs": [],
   "source": [
    "get_local_reports()"
   ]
  },
  {
   "cell_type": "code",
   "execution_count": null,
   "metadata": {},
   "outputs": [],
   "source": [
    "def post_all_to_pipeline(build_number=None):\n",
    "    build_number = build_number or last_successful_build()\n",
    "    report_files = get_local_reports(build_number=build_number)\n",
    "    if not report_files:\n",
    "        download_all_reports(build_number)\n",
    "        report_files = get_local_reports(build_number=build_number)\n",
    "    for file_name in get_local_reports(build_number=build_number):\n",
    "        print(f'Transforming: {file_name}...', end='')\n",
    "        response = post_to_transform(file_name)\n",
    "        print(response.status_code)\n",
    "        if response.status_code != 200:\n",
    "            break\n",
    "        transformed_json = { \n",
    "            \"projectKey\": \"MCA\",\n",
    "            \"fixVersion\": \"Pacific TBD\",\n",
    "            \"testCycle\": \"Pacific Test\", \n",
    "            **response.json()\n",
    "        }\n",
    "        print('Posting to update...', end='')\n",
    "        response = post_to_update(transformed_json)\n",
    "        print(response.status_code)\n",
    "        if response.status_code != 200:\n",
    "            break\n",
    "        yield response"
   ]
  },
  {
   "cell_type": "code",
   "execution_count": null,
   "metadata": {},
   "outputs": [],
   "source": [
    "def post_to_transform(file_name):\n",
    "    transform_url = 'https://taas-traceability-service.apps.us6.paas.easycareonline.com/taas/traceability/report/transform'\n",
    "    headers = {'Content-Type': 'multipart/form-data', 'Accept': 'application/json'}\n",
    "    multipart_form_data = {'file': ('report.json', open(file_name, 'rb'), 'application/json', headers)}\n",
    "    return requests.post(transform_url, files=multipart_form_data, verify=security_certificate)"
   ]
  },
  {
   "cell_type": "code",
   "execution_count": null,
   "metadata": {},
   "outputs": [],
   "source": [
    "def post_to_update(transformed_json):\n",
    "    update_url = 'https://taas-traceability-service.apps.us6.paas.easycareonline.com/taas/traceability/report/update'\n",
    "    headers = {'Content-Type': 'application/json', 'Accept': 'application/json'}\n",
    "    return requests.post(update_url, headers=headers, data=json.dumps(transformed_json) , verify=security_certificate)"
   ]
  },
  {
   "cell_type": "markdown",
   "metadata": {},
   "source": [
    "Generate all the cards for a build:"
   ]
  },
  {
   "cell_type": "code",
   "execution_count": null,
   "metadata": {},
   "outputs": [],
   "source": [
    "results = list(post_all_to_pipeline())"
   ]
  },
  {
   "cell_type": "markdown",
   "metadata": {},
   "source": [
    "Let's save the results:"
   ]
  },
  {
   "cell_type": "code",
   "execution_count": null,
   "metadata": {},
   "outputs": [],
   "source": [
    "with open(f'assets/traceability/build-2081/results.json', mode='w') as f:\n",
    "    json.dump([result.json() for result in results], f, separators=[',', ':'])"
   ]
  },
  {
   "cell_type": "code",
   "execution_count": null,
   "metadata": {},
   "outputs": [],
   "source": []
  }
 ],
 "metadata": {
  "kernelspec": {
   "display_name": "Python 3",
   "language": "python",
   "name": "python3"
  },
  "language_info": {
   "codemirror_mode": {
    "name": "ipython",
    "version": 3
   },
   "file_extension": ".py",
   "mimetype": "text/x-python",
   "name": "python",
   "nbconvert_exporter": "python",
   "pygments_lexer": "ipython3",
   "version": "3.7.4"
  }
 },
 "nbformat": 4,
 "nbformat_minor": 2
}
