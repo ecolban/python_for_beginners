{
 "cells": [
  {
   "cell_type": "markdown",
   "metadata": {
    "colab_type": "text",
    "id": "3sjs7CDQ7P_g"
   },
   "source": [
    "# Scope\n",
    "\n",
    "Scope refers to the parts of a program in which a variable or a function definition can be referenced.\n",
    "\n",
    "A variable is introduced through an assignment. Writing:\n",
    "```Python\n",
    "my_var = None\n",
    "```\n",
    "introduces the variable `my_var`. If this assignment is outside a function definition, the variable becomes visible anywhere after it has been introduced. We say that `my_var` has global scope. You can get all the global variables by calling `dir()`. This gives you a list of the global variables' names. If you want to see their values, you can call `globals()`, which returns a dict that maps the global variables to their value."
   ]
  },
  {
   "cell_type": "code",
   "execution_count": null,
   "metadata": {
    "colab": {},
    "colab_type": "code",
    "id": "j4ho5AEb8e8e"
   },
   "outputs": [],
   "source": [
    "dir_at_startup = dir()\n",
    "dir_at_startup"
   ]
  },
  {
   "cell_type": "code",
   "execution_count": null,
   "metadata": {
    "colab": {},
    "colab_type": "code",
    "id": "lL9TTTKE8gwA"
   },
   "outputs": [],
   "source": [
    "[f'{k} => {v}' for k, v in globals().items() if k not in dir_at_startup]"
   ]
  },
  {
   "cell_type": "markdown",
   "metadata": {
    "colab_type": "text",
    "id": "RoWTJv_Z_Tnf"
   },
   "source": [
    "We see that we introduced a new variable with global scope, namely `dir_at_startup`. The variables `_1` and `_i2` are introduced by Jupyter notebook. Note that the variables `k` and `v` that were used in the comprehension above are not globals, but are local to the comprehension. If I try to reference them in the cells below, I get an error."
   ]
  },
  {
   "cell_type": "code",
   "execution_count": null,
   "metadata": {
    "colab": {},
    "colab_type": "code",
    "id": "T1dkz5yu9obw"
   },
   "outputs": [],
   "source": [
    "# Uncomment line below to test\n",
    "# k"
   ]
  },
  {
   "cell_type": "code",
   "execution_count": null,
   "metadata": {
    "colab": {},
    "colab_type": "code",
    "id": "g7D6MvNoASYY"
   },
   "outputs": [],
   "source": [
    "# Uncomment line below to test\n",
    "# v"
   ]
  },
  {
   "cell_type": "markdown",
   "metadata": {
    "colab_type": "text",
    "id": "XBm9e35AAhCX"
   },
   "source": [
    "What happens with the variables used in a for-loop?"
   ]
  },
  {
   "cell_type": "code",
   "execution_count": null,
   "metadata": {
    "colab": {},
    "colab_type": "code",
    "id": "PvrViaQtAy7O"
   },
   "outputs": [],
   "source": [
    "'i' in dir()"
   ]
  },
  {
   "cell_type": "code",
   "execution_count": null,
   "metadata": {
    "colab": {},
    "colab_type": "code",
    "id": "ZMRZWgyaATMw"
   },
   "outputs": [],
   "source": [
    "for i in range(3):\n",
    "    print(i)"
   ]
  },
  {
   "cell_type": "code",
   "execution_count": null,
   "metadata": {
    "colab": {},
    "colab_type": "code",
    "id": "U_7xN-XRAsIw"
   },
   "outputs": [],
   "source": [
    "'i' in dir()"
   ]
  },
  {
   "cell_type": "code",
   "execution_count": null,
   "metadata": {
    "colab": {},
    "colab_type": "code",
    "id": "awfywI6GA1dn"
   },
   "outputs": [],
   "source": [
    "i"
   ]
  },
  {
   "cell_type": "markdown",
   "metadata": {
    "colab_type": "text",
    "id": "8ajP65mjA733"
   },
   "source": [
    "We see that the for-loop introduced `i` as a global. When we reference `i`, we see that it is assigned the value 2, which is the last value assigned to it in the for loop. This differs in the way that loop variables in comprehensions are treated.\n",
    "\n",
    "What about variables introduced in an indented code block?"
   ]
  },
  {
   "cell_type": "code",
   "execution_count": null,
   "metadata": {
    "colab": {},
    "colab_type": "code",
    "id": "xkIhbZt_A5k4"
   },
   "outputs": [],
   "source": [
    "'k' in dir()"
   ]
  },
  {
   "cell_type": "code",
   "execution_count": null,
   "metadata": {
    "colab": {},
    "colab_type": "code",
    "id": "c7L8aREPCBjn"
   },
   "outputs": [],
   "source": [
    "if True:\n",
    "    k = 13"
   ]
  },
  {
   "cell_type": "code",
   "execution_count": null,
   "metadata": {
    "colab": {},
    "colab_type": "code",
    "id": "jwFbOaZWCJyI"
   },
   "outputs": [],
   "source": [
    "'k' in dir()"
   ]
  },
  {
   "cell_type": "code",
   "execution_count": null,
   "metadata": {
    "colab": {},
    "colab_type": "code",
    "id": "uFR_9iQrCLxn"
   },
   "outputs": [],
   "source": [
    "k"
   ]
  },
  {
   "cell_type": "markdown",
   "metadata": {
    "colab_type": "text",
    "id": "9-uefN2WCOyY"
   },
   "source": [
    "We see that variables introduced in indented code blocks have global scope too. So far, the rule is that every variable that is introduced outside a comprehension has global scope, even loop variables and variables used only inside indented blocks. \n",
    "\n",
    "But there is yet another exception to this rule; variables introduced inside functions."
   ]
  },
  {
   "cell_type": "code",
   "execution_count": null,
   "metadata": {
    "colab": {},
    "colab_type": "code",
    "id": "OkZEZ0jSCNbf"
   },
   "outputs": [],
   "source": [
    "def test_local_variable():\n",
    "    j = 42\n",
    "    print(j)"
   ]
  },
  {
   "cell_type": "code",
   "execution_count": null,
   "metadata": {
    "colab": {},
    "colab_type": "code",
    "id": "SjujL0JRDwrf"
   },
   "outputs": [],
   "source": [
    "'j' in dir()"
   ]
  },
  {
   "cell_type": "code",
   "execution_count": null,
   "metadata": {
    "colab": {},
    "colab_type": "code",
    "id": "TtMJZLv5DzA_"
   },
   "outputs": [],
   "source": [
    "test_local_variable()"
   ]
  },
  {
   "cell_type": "code",
   "execution_count": null,
   "metadata": {
    "colab": {},
    "colab_type": "code",
    "id": "f9-UbehFD2L3"
   },
   "outputs": [],
   "source": [
    "'j' in dir()"
   ]
  },
  {
   "cell_type": "code",
   "execution_count": null,
   "metadata": {},
   "outputs": [],
   "source": [
    "'test_local_variable' in dir()"
   ]
  },
  {
   "cell_type": "code",
   "execution_count": null,
   "metadata": {},
   "outputs": [],
   "source": [
    "test_local_variable"
   ]
  },
  {
   "cell_type": "markdown",
   "metadata": {
    "colab_type": "text",
    "id": "BEe-aPdkET-A"
   },
   "source": [
    "The variable `j` introduced inside the body of `test_fun` is a _local variable_. Its scope is the body of the function.  \n",
    "\n",
    "Global variables may be _referenced_ inside functions:"
   ]
  },
  {
   "cell_type": "code",
   "execution_count": null,
   "metadata": {
    "colab": {},
    "colab_type": "code",
    "id": "KIQTkoc_D4G_"
   },
   "outputs": [],
   "source": [
    "def test_reference_global():\n",
    "    j = 42\n",
    "    print(j)\n",
    "    print(k) # global variable"
   ]
  },
  {
   "cell_type": "code",
   "execution_count": null,
   "metadata": {
    "colab": {},
    "colab_type": "code",
    "id": "d_fCgSWpFQ04"
   },
   "outputs": [],
   "source": [
    "test_reference_global()"
   ]
  },
  {
   "cell_type": "markdown",
   "metadata": {
    "colab_type": "text",
    "id": "NZqO47kXFb0n"
   },
   "source": [
    "If we assign a value to a variable inside a function, we introduce a new local variable. If there is already a global variable with the same name, then that variable gets _shadowed_ by the local variable."
   ]
  },
  {
   "cell_type": "code",
   "execution_count": null,
   "metadata": {
    "colab": {},
    "colab_type": "code",
    "id": "oh78ogr1FTNH"
   },
   "outputs": [],
   "source": [
    "def test_shadowing():\n",
    "    k = 43\n",
    "    print(k)"
   ]
  },
  {
   "cell_type": "code",
   "execution_count": null,
   "metadata": {
    "colab": {},
    "colab_type": "code",
    "id": "SPvVivJSF8TA"
   },
   "outputs": [],
   "source": [
    "test_shadowing()"
   ]
  },
  {
   "cell_type": "code",
   "execution_count": null,
   "metadata": {
    "colab": {},
    "colab_type": "code",
    "id": "Ws0sAHvvF-uA"
   },
   "outputs": [],
   "source": [
    "'k' in dir()"
   ]
  },
  {
   "cell_type": "code",
   "execution_count": null,
   "metadata": {
    "colab": {},
    "colab_type": "code",
    "id": "th-ybF7AGCkn"
   },
   "outputs": [],
   "source": [
    "k"
   ]
  },
  {
   "cell_type": "markdown",
   "metadata": {
    "colab_type": "text",
    "id": "Dgoxze_9GoyP"
   },
   "source": [
    "To avoid _shadowing_ , you can declare a variable inside a function to be global, but that is usually a bad idea, as it introduces unnecessary complexity to your code."
   ]
  },
  {
   "cell_type": "code",
   "execution_count": null,
   "metadata": {
    "colab": {},
    "colab_type": "code",
    "id": "66c1DiTVGDyH"
   },
   "outputs": [],
   "source": [
    "def test_updating_global():\n",
    "    global k\n",
    "    k = k + 1\n",
    "    print(k)"
   ]
  },
  {
   "cell_type": "code",
   "execution_count": null,
   "metadata": {
    "colab": {},
    "colab_type": "code",
    "id": "PKd2TUZPG9yg"
   },
   "outputs": [],
   "source": [
    "test_updating_global()"
   ]
  },
  {
   "cell_type": "code",
   "execution_count": null,
   "metadata": {
    "colab": {},
    "colab_type": "code",
    "id": "MWkWr7FNG_5t"
   },
   "outputs": [],
   "source": [
    "k"
   ]
  },
  {
   "cell_type": "markdown",
   "metadata": {},
   "source": [
    "In Python 3, a variable may also be declared `nonlocal`. This is useful when a function is defined inside another function and the inner fuunction updates a local variable of the outer function. For example:"
   ]
  },
  {
   "cell_type": "code",
   "execution_count": null,
   "metadata": {},
   "outputs": [],
   "source": [
    "def test_non_local(n):\n",
    "    count = 0\n",
    "    def inner_function():\n",
    "        nonlocal count\n",
    "        count += 1\n",
    "    for i in range(3):\n",
    "        inner_function()\n",
    "    return count"
   ]
  },
  {
   "cell_type": "code",
   "execution_count": null,
   "metadata": {},
   "outputs": [],
   "source": [
    "test_non_local(3)"
   ]
  },
  {
   "cell_type": "markdown",
   "metadata": {
    "colab_type": "text",
    "id": "6b4OuLatVPmv"
   },
   "source": [
    "The arguments of a function have local scope too."
   ]
  },
  {
   "cell_type": "code",
   "execution_count": null,
   "metadata": {
    "colab": {},
    "colab_type": "code",
    "id": "KeJiYO_MVO0A"
   },
   "outputs": [],
   "source": [
    "def test_fun_with_args(arg1):\n",
    "    print(arg1)"
   ]
  },
  {
   "cell_type": "code",
   "execution_count": null,
   "metadata": {
    "colab": {},
    "colab_type": "code",
    "id": "U26FvUxxVcej"
   },
   "outputs": [],
   "source": [
    "test_fun_with_args(13)"
   ]
  },
  {
   "cell_type": "code",
   "execution_count": null,
   "metadata": {
    "colab": {},
    "colab_type": "code",
    "id": "KlqxaKGcVf9k"
   },
   "outputs": [],
   "source": [
    "'args1' in dir()"
   ]
  },
  {
   "cell_type": "markdown",
   "metadata": {
    "colab_type": "text",
    "id": "t5W0xn81H2l3"
   },
   "source": [
    "**Summary:** Python is, unlike many other programming languages, _not_ \"block scoped\", but _function scoped_.\n",
    "\n",
    "Variables are introduced through an assignment. Variables introduced outside functions have global scope (with the exception of variables in comprehensions). This may very easily lead to a large number of global variables, which are hard to keep track of. Here are some suggestions for keeping your code _clean_ :\n",
    "\n",
    "1. Put most of your code inside functions. Give your functions good (long) descriptive names; avoid short names names such as `f` and `g`, or meaningless names such as `my_fun` and `a_function`. There are two good reasons for this; first, it makes the code where functions are called more readable, and, second, since (top level) functions are globals, it helps keep track of your globals.\n",
    "2. Don't be shy of defining functions inside functions; it reduces the global space. It also puts the inner functions in context, which makes your code more readable.\n",
    "3. Give _all_ your globals good (long) descriptive names.\n",
    "4. Keep the number of globals small.\n",
    "5. Adopt coding conventions. For example, although loop variables are global, I often give them short names such as `i` or `k`, but then treat them as if they were local to the loop. That is, I never reference their values outside the loop.\n",
    "6. Don't import more than you need. I.e., avoid things such as \n",
    "```Python\n",
    "from collections import *\n",
    "```\n",
    "7. Avoid name collisions. If you have many globals, there is a risk of mistakingly assigning a value to an already existing global. For example, if you uncomment the following cell, and run it, you'll really mess things up. Try it! This is yet another reason why you should put most of your code inside functions. What would happen if you put the line in the cell bellow inside a function?"
   ]
  },
  {
   "cell_type": "code",
   "execution_count": null,
   "metadata": {
    "scrolled": true
   },
   "outputs": [],
   "source": [
    "len = len([1, 2])"
   ]
  },
  {
   "cell_type": "code",
   "execution_count": null,
   "metadata": {},
   "outputs": [],
   "source": [
    "print(len)"
   ]
  },
  {
   "cell_type": "code",
   "execution_count": null,
   "metadata": {},
   "outputs": [],
   "source": [
    "len('abc')"
   ]
  }
 ],
 "metadata": {
  "colab": {
   "collapsed_sections": [],
   "name": "Scope.ipynb",
   "provenance": [],
   "version": "0.3.2"
  },
  "kernelspec": {
   "display_name": "Python 3 (ipykernel)",
   "language": "python",
   "name": "python3"
  },
  "language_info": {
   "codemirror_mode": {
    "name": "ipython",
    "version": 3
   },
   "file_extension": ".py",
   "mimetype": "text/x-python",
   "name": "python",
   "nbconvert_exporter": "python",
   "pygments_lexer": "ipython3",
   "version": "3.12.4"
  }
 },
 "nbformat": 4,
 "nbformat_minor": 4
}
