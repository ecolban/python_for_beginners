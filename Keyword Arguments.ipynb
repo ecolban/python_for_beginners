{
 "cells": [
  {
   "cell_type": "markdown",
   "metadata": {},
   "source": [
    "# Keyword Arguments\n",
    "\n",
    "\n",
    "When defining a function, we give each argument a name, which then can be referenced in the function body.\n",
    "Consider the following example:"
   ]
  },
  {
   "cell_type": "code",
   "execution_count": null,
   "metadata": {},
   "outputs": [],
   "source": [
    "def product_v0(numbers):\n",
    "    \"\"\"Returns the product of all numbers in numbers\"\"\"\n",
    "    res = 1\n",
    "    for n in numbers:\n",
    "        res *= n\n",
    "    return res"
   ]
  },
  {
   "cell_type": "code",
   "execution_count": null,
   "metadata": {},
   "outputs": [],
   "source": [
    "product_v0([1, 2, 3, 4, 5])"
   ]
  },
  {
   "cell_type": "markdown",
   "metadata": {},
   "source": [
    "If any of the numbers in `numbers` is zero, then the result will be zero. To avoid this, let's add an argument `ignore_zeroes`, which, when set to `True`, skips zeroes in the list"
   ]
  },
  {
   "cell_type": "code",
   "execution_count": null,
   "metadata": {},
   "outputs": [],
   "source": [
    "def product_v1(numbers, ignore_zeroes=False):\n",
    "    \"\"\"Returns the product of all numbers in numbers. \n",
    "    If ignore_zeroes is True, zeroes are skipped.\"\"\"\n",
    "    res = 1\n",
    "    for n in numbers:\n",
    "        if n == 0 and ignore_zeroes:\n",
    "            continue\n",
    "        res *= n\n",
    "    return res"
   ]
  },
  {
   "cell_type": "code",
   "execution_count": null,
   "metadata": {},
   "outputs": [],
   "source": [
    "product_v1([0, 1, 2, 3], False)"
   ]
  },
  {
   "cell_type": "code",
   "execution_count": null,
   "metadata": {},
   "outputs": [],
   "source": [
    "product_v1([0, 1, 2, 3], True)"
   ]
  },
  {
   "cell_type": "markdown",
   "metadata": {},
   "source": [
    "When calling `product`, it may be hard to remember what the last argument is. To avoid this it is possible to name some of the arguments, which often makes the code more readable."
   ]
  },
  {
   "cell_type": "code",
   "execution_count": null,
   "metadata": {},
   "outputs": [],
   "source": [
    "product_v1([0, 1, 2, 3], ignore_zeroes=True)"
   ]
  },
  {
   "cell_type": "markdown",
   "metadata": {},
   "source": [
    "When an argument is not specified by its name, we call it a _positional_ argument. In the cell above, the first argument is positional, and the second is a _keyword_ argument. Positional arguments must appear in the order they appear in the function definition and cannot follow keyword arguments. Keyword arguments, on the other hand may appear in any order. Note: Whether an argument is positional or keyword depends on how the function is _called_ and not on how the function is _defined_."
   ]
  },
  {
   "cell_type": "code",
   "execution_count": null,
   "metadata": {},
   "outputs": [],
   "source": [
    "product_v1(numbers=[0, 1, 2, 3], True)  # Fix this line"
   ]
  },
  {
   "cell_type": "code",
   "execution_count": null,
   "metadata": {},
   "outputs": [],
   "source": [
    "product_v1(ignore_zeroes=False, numbers=[1, 2, 3])"
   ]
  },
  {
   "cell_type": "markdown",
   "metadata": {},
   "source": [
    "Sometimes a function may take an arbitray number of arguments. We've seen this with `print`."
   ]
  },
  {
   "cell_type": "code",
   "execution_count": null,
   "metadata": {},
   "outputs": [],
   "source": [
    "print('Hello', 'world')"
   ]
  },
  {
   "cell_type": "markdown",
   "metadata": {},
   "source": [
    "Any arguments that follow the list of strings to be printed must be keyword arguments. Otherwise they will be interpreted as strings to be printed."
   ]
  },
  {
   "cell_type": "code",
   "execution_count": null,
   "metadata": {},
   "outputs": [],
   "source": [
    "print('Hello', 'world', sep='-')"
   ]
  },
  {
   "cell_type": "code",
   "execution_count": null,
   "metadata": {},
   "outputs": [],
   "source": [
    "print('Hello', 'world', '-')"
   ]
  },
  {
   "cell_type": "markdown",
   "metadata": {},
   "source": [
    "It's common to assign default values to some arguments. If an arguments has a default value, it may be omitted in a call and it will be assigned the default value. Default values are specified in the function definition by adding `=<default value>` after an argument. Example:\n",
    "\n",
    "```Python\n",
    "def product_v2(numbers, start=1):\n",
    "    res = start\n",
    "    for n in numbers:\n",
    "        res *= n\n",
    "    return res\n",
    "```\n",
    "\n",
    "Exercise: Modify the definition of `product` such that if `ignore_zeroes` is omitted, zeroes will not be ignored. \n",
    "\n",
    "__Discuss:__ Suppose you didn't know what the default value of `ignore_zeroes` was. What would be the most natural behavior to expect from calling `product([1, 2, 3, 0])`? In light of the answer to that question, what would the most natural default value of `ignore_zeroes` be?"
   ]
  },
  {
   "cell_type": "markdown",
   "metadata": {},
   "source": [
    "### Do _NOT_ assign mutable default values\n",
    "\n",
    "When a default value is assigned to an argument, that value is shared across all calls to the function. If a call to the function modifies a default value, that modification is visible in all subsequent calls. For this reason, one should avoid mutable default values. Compare the two function definitions below:"
   ]
  },
  {
   "cell_type": "code",
   "execution_count": null,
   "metadata": {},
   "outputs": [],
   "source": [
    "def func_with_mutable_default_value(arg1=[]):\n",
    "    arg1.append(1)\n",
    "    print(arg1)\n",
    "    \n",
    "func_with_mutable_default_value()\n",
    "func_with_mutable_default_value([1, 2, 3])\n",
    "func_with_mutable_default_value()"
   ]
  },
  {
   "cell_type": "code",
   "execution_count": null,
   "metadata": {},
   "outputs": [],
   "source": [
    "def func_with_immutable_default_value(arg1=None):\n",
    "    if not arg1:\n",
    "        arg1 = []\n",
    "    arg1.append(1)\n",
    "    print(arg1)\n",
    "    \n",
    "func_with_immutable_default_value()\n",
    "func_with_immutable_default_value([1, 2, 3])\n",
    "func_with_immutable_default_value()"
   ]
  },
  {
   "cell_type": "markdown",
   "metadata": {},
   "source": [
    "We've previously seen that when we initialize a `defaultdict`, it is initialized with, not a default value, but a function, which, when called, returns the default value. For example:\n",
    "\n",
    "```Python\n",
    "my_dict = defaultdict(list)\n",
    "```\n",
    "\n",
    "Calling `list()` with no arguments returns an empty list. \n",
    "\n",
    "__Discussion__: Why do you think the default value is not provided directly, like this?\n",
    "\n",
    "```Python\n",
    "my_dict = defaultdict([])\n",
    "```"
   ]
  },
  {
   "cell_type": "markdown",
   "metadata": {},
   "source": [
    "## The unpack operator\n",
    "\n",
    "Suppose you want to pass the `numbers` argument not as a list, but as separate numbers, such that you could call `product(1, 2, 3)` instead of `product([1, 2, 3])`. We can use the unpack operator, a.k.a. the `*`-operator to achieve this:"
   ]
  },
  {
   "cell_type": "code",
   "execution_count": null,
   "metadata": {},
   "outputs": [],
   "source": [
    "def product_v3(*numbers, ignore_zeroes=False):\n",
    "    \"\"\"Returns the product of all numbers in numbers. \n",
    "    If ignore_zeroes is True, zeroes are skipped.\"\"\"\n",
    "    res = 1\n",
    "    for n in numbers:\n",
    "        if n == 0 and ignore_zeroes:\n",
    "            continue\n",
    "        res *= n\n",
    "    return res"
   ]
  },
  {
   "cell_type": "code",
   "execution_count": null,
   "metadata": {},
   "outputs": [],
   "source": [
    "product_v3(1, 2, 3)"
   ]
  },
  {
   "cell_type": "code",
   "execution_count": null,
   "metadata": {},
   "outputs": [],
   "source": [
    "product_v3(*range(1, 4))"
   ]
  },
  {
   "cell_type": "markdown",
   "metadata": {},
   "source": [
    "Note that the `*`-operator can only be applied to one argument, and that all following arguments must be keyword arguments. \n",
    "\n",
    "__Exercise:__ Print all the letters in the English alphabet separated by an underscore character: `A_B_C_..._Z`"
   ]
  },
  {
   "cell_type": "code",
   "execution_count": null,
   "metadata": {},
   "outputs": [],
   "source": [
    "from string import ascii_uppercase\n",
    "print('_'.join(ascii_uppercase)) # Replace this line one that uses the *-operator"
   ]
  },
  {
   "cell_type": "markdown",
   "metadata": {},
   "source": [
    "As observed above, if one argument has a `*`-operator, all following arguments _must_ be keyword arguments. There is way to force any argument to be a keyword argument. Arguments that are forced to be keyword arguments are called _keyword only arguments_. Let's go back to `product_v1` and modify it as follows:"
   ]
  },
  {
   "cell_type": "code",
   "execution_count": null,
   "metadata": {},
   "outputs": [],
   "source": [
    "def product_v4(numbers, *, ignore_zeroes=False):\n",
    "    \"\"\"Returns the product of all numbers in numbers. \n",
    "    If ignore_zeroes is True, zeroes are skipped.\"\"\"\n",
    "    res = 1\n",
    "    for n in numbers:\n",
    "        if n == 0 and ignore_zeroes:\n",
    "            continue\n",
    "        res *= n\n",
    "    return res"
   ]
  },
  {
   "cell_type": "markdown",
   "metadata": {},
   "source": [
    "Note the `*` placed between the arguments `numbers` and `ignore_zeroes`. This makes all arguments after the `*` keyword only arguments."
   ]
  },
  {
   "cell_type": "code",
   "execution_count": null,
   "metadata": {},
   "outputs": [],
   "source": [
    "product_v4(range(1, 4), True) # Fix this line"
   ]
  },
  {
   "cell_type": "markdown",
   "metadata": {},
   "source": [
    "__Discussion:__ Why would one _force_ some arguments to be keyword arguments?"
   ]
  },
  {
   "cell_type": "markdown",
   "metadata": {},
   "source": [
    "## Unpacking a dict\n",
    "\n",
    "It's possible to call a function where some or all arguments are specified as a dict. Consider the dict: "
   ]
  },
  {
   "cell_type": "code",
   "execution_count": null,
   "metadata": {},
   "outputs": [],
   "source": [
    "args = {'numbers': [1, 2, 3], 'ignore_zeroes':True}"
   ]
  },
  {
   "cell_type": "markdown",
   "metadata": {},
   "source": [
    "This dict specifies arguments that could be passed to `product`. To do so, we could write:"
   ]
  },
  {
   "cell_type": "code",
   "execution_count": null,
   "metadata": {},
   "outputs": [],
   "source": [
    "product_v1(numbers=args['numbers'], ignore_zeroes=args['ignore_zeroes'])"
   ]
  },
  {
   "cell_type": "markdown",
   "metadata": {},
   "source": [
    "But there is a simpler way; use the `**`-operator to unpack the dict as shown below."
   ]
  },
  {
   "cell_type": "code",
   "execution_count": null,
   "metadata": {},
   "outputs": [],
   "source": [
    "product_v1(**args)"
   ]
  },
  {
   "cell_type": "markdown",
   "metadata": {},
   "source": [
    "This can be useful where the arguments are built one at the time before being passed to a function. Assume `setup_environment(home, docs, course)` is a function with the shown arguments. Then, one could do\n",
    "\n",
    "```Python\n",
    "env = {}\n",
    "env['home'] = '/Users/erikc'\n",
    "env['docs'] = env['home'] + '/Documents'\n",
    "env['course'] = env['docs'] + '/Learning/python_for_beginners'\n",
    "...\n",
    "setup_environment(**env)\n",
    "```"
   ]
  },
  {
   "cell_type": "markdown",
   "metadata": {},
   "source": [
    "Another example of dict unpacking is creating a dict that is the \"combination\" of two or more other dicts:"
   ]
  },
  {
   "cell_type": "code",
   "execution_count": null,
   "metadata": {},
   "outputs": [],
   "source": [
    "d1 = {1:2, 3:4}\n",
    "d2 = {5:6, 7:8}\n",
    "{**d1, **d2}"
   ]
  },
  {
   "cell_type": "markdown",
   "metadata": {},
   "source": [
    "Dict unpacking can be used to define functions that take an arbitrary list of keyword arguments. For example:"
   ]
  },
  {
   "cell_type": "code",
   "execution_count": null,
   "metadata": {},
   "outputs": [],
   "source": [
    "def print_scores(**scores):\n",
    "    for name, score in scores.items():\n",
    "        print(f\"{name.replace('_', ' '):18}:{score}\")"
   ]
  },
  {
   "cell_type": "code",
   "execution_count": null,
   "metadata": {},
   "outputs": [],
   "source": [
    "print_scores(Alice_Appleseed=5.7, Chris_Christensen=5.2, Bob_Burlington=5.0, Dan_Draper=4.9)"
   ]
  },
  {
   "cell_type": "markdown",
   "metadata": {},
   "source": [
    "Notice that the arguments are processed in the order they passed in, which is a requirement on Python since Python 3.6."
   ]
  },
  {
   "cell_type": "markdown",
   "metadata": {},
   "source": [
    "Sometimes, e.g., when overriding a method or working with higher order functions, one sometimes needs to express \"whatever positional and keyword arguments are passed to some function\". This often translates to code as `*args, **kwargs`.\n",
    "\n",
    "The following example illustrates the use of `*args, **kwargs`. The function `log` takes a function `f` as argument and returns a new function, which, when called, prints the name of `f` and the positional and keyword arguments that it was called with, and then calls `f` with those same arguments. The function `log` provides a non-intrusive (i.e., it doesn't require any modification of the function being logged) and reusable way of logging function calls. "
   ]
  },
  {
   "cell_type": "code",
   "execution_count": null,
   "metadata": {},
   "outputs": [],
   "source": [
    "def log(f):\n",
    "    def f_logged(*args, **kwargs):\n",
    "        all_args = []\n",
    "        if args:\n",
    "            args_str = ', '.join(repr(a) for a in args)\n",
    "            all_args.append(args_str)\n",
    "        if kwargs:\n",
    "            kwargs_str = ', '.join(f\"{k}={repr(v)}\" for k, v in kwargs.items())\n",
    "            all_args.append(kwargs_str)\n",
    "        print(f\"{f.__name__}({', '.join(all_args)})\")\n",
    "        return f(*args, **kwargs)\n",
    "    return f_logged"
   ]
  },
  {
   "cell_type": "code",
   "execution_count": null,
   "metadata": {},
   "outputs": [],
   "source": [
    "log(print)(*'abcde', sep='-')"
   ]
  },
  {
   "cell_type": "code",
   "execution_count": null,
   "metadata": {},
   "outputs": [],
   "source": [
    "nums = [n for n in [0, 2, 2, 2, 3, 3, 2 + 1 + 2] if n % 2 == 1]\n",
    "log(product_v1)(numbers=nums, ignore_zeroes=True)"
   ]
  },
  {
   "cell_type": "markdown",
   "metadata": {},
   "source": [
    "## Summary\n",
    "\n",
    "1. When calling a function, using keyword arguments can greatly enhance the readability of your program.\n",
    "2. Providing default values to some of the arguments is very common practice and provides flexibility when calling the function in that not all arguments need to be passed a value.\n",
    "3. Writing your own functions using the `*`- and `**`-operators may be considered an \"advanced\" feature. However, when looking up the documentation of an imported function, it's not uncommon to encounter the unpacking operators. It's good to know how they work. "
   ]
  }
 ],
 "metadata": {
  "kernelspec": {
   "display_name": "Python 3",
   "language": "python",
   "name": "python3"
  },
  "language_info": {
   "codemirror_mode": {
    "name": "ipython",
    "version": 3
   },
   "file_extension": ".py",
   "mimetype": "text/x-python",
   "name": "python",
   "nbconvert_exporter": "python",
   "pygments_lexer": "ipython3",
   "version": "3.7.4"
  }
 },
 "nbformat": 4,
 "nbformat_minor": 2
}
