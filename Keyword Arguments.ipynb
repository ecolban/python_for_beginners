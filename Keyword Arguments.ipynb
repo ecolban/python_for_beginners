{
 "cells": [
  {
   "cell_type": "markdown",
   "metadata": {},
   "source": [
    "# Keyword Arguments\n",
    "\n",
    "\n",
    "When defining a function, we give each argument a name, which then can be referenced in the function body.\n",
    "Consider the following example:"
   ]
  },
  {
   "cell_type": "code",
   "execution_count": null,
   "metadata": {},
   "outputs": [],
   "source": [
    "def product_v0(numbers):\n",
    "    \"\"\"Returns the product of all numbers in numbers\"\"\"\n",
    "    res = 1\n",
    "    for n in numbers:\n",
    "        res *= n\n",
    "    return res"
   ]
  },
  {
   "cell_type": "code",
   "execution_count": null,
   "metadata": {},
   "outputs": [],
   "source": [
    "product_v0([1, 2, 3, 4, 5])"
   ]
  },
  {
   "cell_type": "markdown",
   "metadata": {},
   "source": [
    "If any of the numbers in `numbers` is zero, then the result will be zero. To avoid this, let's add an argument `ignore_zeroes`, which, when set to `True`, skips zeroes in the list"
   ]
  },
  {
   "cell_type": "code",
   "execution_count": null,
   "metadata": {},
   "outputs": [],
   "source": [
    "def product_v1(numbers, ignore_zeroes):\n",
    "    \"\"\"Returns the product of all numbers in numbers. \n",
    "    If ignore_zeroes is True, zeroes are skipped.\"\"\"\n",
    "    res = 1\n",
    "    for n in numbers:\n",
    "        if n == 0 and ignore_zeroes:\n",
    "            continue\n",
    "        res *= n\n",
    "    return res"
   ]
  },
  {
   "cell_type": "code",
   "execution_count": null,
   "metadata": {},
   "outputs": [],
   "source": [
    "product_v1([0, 1, 2, 3], False)"
   ]
  },
  {
   "cell_type": "code",
   "execution_count": null,
   "metadata": {},
   "outputs": [],
   "source": [
    "product_v1([0, 1, 2, 3], True)"
   ]
  },
  {
   "cell_type": "markdown",
   "metadata": {},
   "source": [
    "When calling `product`, it may be hard to remember what the last argument is. To avoid this it is possible to name some of the arguments, which often makes the code more readable."
   ]
  },
  {
   "cell_type": "code",
   "execution_count": null,
   "metadata": {},
   "outputs": [],
   "source": [
    "product_v1([0, 1, 2, 3], ignore_zeroes=True)"
   ]
  },
  {
   "cell_type": "markdown",
   "metadata": {},
   "source": [
    "When an argument is not specified by its name, we call it a _positional_ argument. In the cell above, the first argument is positional, and the second is a _keyword_ argument. Positional arguments must appear in the order they appear in the function definition and cannot follow keyword arguments. Keyword arguments, on the other hand may appear in any order. Note: Whether an argument is positional or keyword depends on how the function is _called_ and not on how the function is _defined_."
   ]
  },
  {
   "cell_type": "code",
   "execution_count": null,
   "metadata": {},
   "outputs": [],
   "source": [
    "product_v1(numbers=[0, 1, 2, 3], True)  # Fix this line"
   ]
  },
  {
   "cell_type": "code",
   "execution_count": null,
   "metadata": {},
   "outputs": [],
   "source": [
    "product_v1(ignore_zeroes=False, numbers=[1, 2, 3])"
   ]
  },
  {
   "cell_type": "markdown",
   "metadata": {},
   "source": [
    "Sometimes a function may take an arbitray number of arguments. We've seen this with `print`."
   ]
  },
  {
   "cell_type": "code",
   "execution_count": null,
   "metadata": {},
   "outputs": [],
   "source": [
    "print('Hello', 'world')"
   ]
  },
  {
   "cell_type": "markdown",
   "metadata": {},
   "source": [
    "Any arguments that follow the list of strings to be printed must be keyword arguments. Otherwise they will be interpreted as strings to be printed."
   ]
  },
  {
   "cell_type": "code",
   "execution_count": null,
   "metadata": {},
   "outputs": [],
   "source": [
    "print('Hello', 'world', sep='-')"
   ]
  },
  {
   "cell_type": "code",
   "execution_count": null,
   "metadata": {},
   "outputs": [],
   "source": [
    "print('Hello', 'world', '-')"
   ]
  },
  {
   "cell_type": "markdown",
   "metadata": {},
   "source": [
    "It's common to assign default values to some arguments. If an arguments has a default value, it may be omitted in a call and it will be assigned the default value. Default values are specified in the function definition by adding `=<default value>` after an argument. Example:\n",
    "\n",
    "```Python\n",
    "def product_v2(numbers, start=1):\n",
    "    res = start\n",
    "    for n in numbers:\n",
    "        res *= n\n",
    "    return res\n",
    "```\n",
    "\n",
    "Note that default argument values can be viewed as an alternative to function overloading, which Python does not support. \n",
    "\n",
    "Exercise: Modify the definition of `product_v1` such that if `ignore_zeroes` is omitted, zeroes will not be ignored. \n",
    "\n",
    "__Discuss:__ Suppose you didn't know what the default value of `ignore_zeroes` was. What would be the most natural behavior to expect from calling `product([1, 2, 3, 0])`? In light of the answer to that question, what would the most natural default value of `ignore_zeroes` be?"
   ]
  },
  {
   "cell_type": "markdown",
   "metadata": {},
   "source": [
    "### Do _NOT_ assign mutable default values\n",
    "\n",
    "When a default value is assigned to an argument, that value is shared across all calls to the function. If a call to the function modifies a default value, that modification is visible in all subsequent calls. For this reason, one should avoid mutable default values. Compare the two function definitions below:"
   ]
  },
  {
   "cell_type": "code",
   "execution_count": null,
   "metadata": {},
   "outputs": [],
   "source": [
    "def func_with_mutable_default_value(arg1=[]):\n",
    "    arg1.append(1)\n",
    "    print(arg1)"
   ]
  },
  {
   "cell_type": "code",
   "execution_count": null,
   "metadata": {},
   "outputs": [],
   "source": [
    "func_with_mutable_default_value()"
   ]
  },
  {
   "cell_type": "code",
   "execution_count": null,
   "metadata": {},
   "outputs": [],
   "source": [
    "func_with_mutable_default_value([1, 2, 3])"
   ]
  },
  {
   "cell_type": "code",
   "execution_count": null,
   "metadata": {},
   "outputs": [],
   "source": [
    "func_with_mutable_default_value()"
   ]
  },
  {
   "cell_type": "code",
   "execution_count": null,
   "metadata": {},
   "outputs": [],
   "source": [
    "def func_with_immutable_default_value(arg1=None):\n",
    "    if not arg1:\n",
    "        arg1 = []\n",
    "    arg1.append(1)\n",
    "    print(arg1)"
   ]
  },
  {
   "cell_type": "code",
   "execution_count": null,
   "metadata": {},
   "outputs": [],
   "source": [
    "func_with_immutable_default_value()"
   ]
  },
  {
   "cell_type": "code",
   "execution_count": null,
   "metadata": {},
   "outputs": [],
   "source": [
    "func_with_immutable_default_value([1, 2, 3])"
   ]
  },
  {
   "cell_type": "code",
   "execution_count": null,
   "metadata": {},
   "outputs": [],
   "source": [
    "func_with_immutable_default_value()"
   ]
  },
  {
   "cell_type": "markdown",
   "metadata": {},
   "source": [
    "**Refresher:**\n",
    "    \n",
    "A `defaultdict` is a dictionary that avoids `KeyErrors` when accessing the dictionary with non-existing keys. For example, the following code would result in a `KeyError`:"
   ]
  },
  {
   "cell_type": "code",
   "execution_count": null,
   "metadata": {},
   "outputs": [],
   "source": [
    "a_list = [1, 2, 1, 3, 4, 2, 1, 3, 3, 1]"
   ]
  },
  {
   "cell_type": "code",
   "execution_count": null,
   "metadata": {},
   "outputs": [],
   "source": [
    "counts = {}\n",
    "for i in a_list:\n",
    "    counts[i] += 1\n",
    "counts"
   ]
  },
  {
   "cell_type": "markdown",
   "metadata": {},
   "source": [
    "To avoid the `KeyError`, I could modify the `for`-loop. (This is not necessarily the simplest way of doing things, but it's one way):"
   ]
  },
  {
   "cell_type": "code",
   "execution_count": null,
   "metadata": {},
   "outputs": [],
   "source": [
    "counts = {}\n",
    "for i in a_list:\n",
    "    try:\n",
    "        rhs = counts[i]\n",
    "    except KeyError:\n",
    "        rhs = 0\n",
    "    counts[i] = rhs + 1\n",
    "counts"
   ]
  },
  {
   "cell_type": "markdown",
   "metadata": {},
   "source": [
    "With a `defaultdict`, I can skip checking whether a key is already in the dictionary, because if a key is not in the dictionary, a default value is inserted first. In this case, the default value should be `0`. We don't specify the default value directly, but through a function that, when called with no arguments, returns the default value. Since `int()` returns `0`, `int` is the function we use to specify the default value."
   ]
  },
  {
   "cell_type": "code",
   "execution_count": null,
   "metadata": {},
   "outputs": [],
   "source": [
    "from collections import defaultdict\n",
    "\n",
    "counts = defaultdict(int)\n",
    "for i in a_list:\n",
    "    counts[i] += 1\n",
    "counts"
   ]
  },
  {
   "cell_type": "markdown",
   "metadata": {},
   "source": [
    "__Discussion__: Why do you think the default value is provided through a function and not directly, like this?\n",
    "\n",
    "```Python\n",
    "counter = defaultdict(0)\n",
    "```\n",
    "Hint:"
   ]
  },
  {
   "cell_type": "code",
   "execution_count": null,
   "metadata": {},
   "outputs": [],
   "source": [
    "empty = []\n",
    "\n",
    "def bad_list():\n",
    "    return empty\n",
    "\n",
    "counts = defaultdict(bad_list)\n",
    "for i in a_list:\n",
    "    counts[i % 2].append(i)\n",
    "counts"
   ]
  },
  {
   "cell_type": "markdown",
   "metadata": {},
   "source": [
    "## The unpack operator\n",
    "\n",
    "Suppose you want to pass the `numbers` argument not as a list, but as separate numbers, such that you could call `product(1, 2, 3)` instead of `product([1, 2, 3])`. We can use the unpack operator, a.k.a. the `*`-operator to achieve this:"
   ]
  },
  {
   "cell_type": "code",
   "execution_count": null,
   "metadata": {},
   "outputs": [],
   "source": [
    "def product_v3(*numbers, ignore_zeroes=False):\n",
    "    \"\"\"Returns the product of all numbers in numbers. \n",
    "    If ignore_zeroes is True, zeroes are skipped.\"\"\"\n",
    "    res = 1\n",
    "    for n in numbers:\n",
    "        if n == 0 and ignore_zeroes:\n",
    "            continue\n",
    "        res *= n\n",
    "    return res"
   ]
  },
  {
   "cell_type": "code",
   "execution_count": null,
   "metadata": {},
   "outputs": [],
   "source": [
    "product_v3(1, 2, 3)"
   ]
  },
  {
   "cell_type": "code",
   "execution_count": null,
   "metadata": {},
   "outputs": [],
   "source": [
    "product_v3(*range(1, 4))"
   ]
  },
  {
   "cell_type": "markdown",
   "metadata": {},
   "source": [
    "Note that the `*`-operator can only be applied to one argument, and that all following arguments must be keyword arguments. \n",
    "\n",
    "__Exercise:__ Print all the letters in the English alphabet separated by an underscore character: `A_B_C_..._Z`"
   ]
  },
  {
   "cell_type": "code",
   "execution_count": null,
   "metadata": {},
   "outputs": [],
   "source": [
    "from string import ascii_uppercase\n",
    "print('_'.join(ascii_uppercase)) # Replace this line one that uses the *-operator"
   ]
  },
  {
   "cell_type": "markdown",
   "metadata": {},
   "source": [
    "As observed above, if one argument has a `*`-operator, all following arguments _must_ be keyword arguments. There is way to force any argument to be a keyword argument. Arguments that are forced to be keyword arguments are called _keyword only arguments_. Let's go back to `product_v1` and modify it as follows:"
   ]
  },
  {
   "cell_type": "code",
   "execution_count": null,
   "metadata": {},
   "outputs": [],
   "source": [
    "def product_v4(numbers, *, ignore_zeroes=False):\n",
    "    \"\"\"Returns the product of all numbers in numbers. \n",
    "    If ignore_zeroes is True, zeroes are skipped.\"\"\"\n",
    "    res = 1\n",
    "    for n in numbers:\n",
    "        if n == 0 and ignore_zeroes:\n",
    "            continue\n",
    "        res *= n\n",
    "    return res"
   ]
  },
  {
   "cell_type": "markdown",
   "metadata": {},
   "source": [
    "Note the `*` placed between the arguments `numbers` and `ignore_zeroes`. This makes all arguments after the `*` keyword only arguments."
   ]
  },
  {
   "cell_type": "code",
   "execution_count": null,
   "metadata": {},
   "outputs": [],
   "source": [
    "# product_v4(range(1, 4), True) # Fix this line"
   ]
  },
  {
   "cell_type": "markdown",
   "metadata": {},
   "source": [
    "__Discussion:__ Why would one _force_ some arguments to be keyword arguments?"
   ]
  },
  {
   "cell_type": "markdown",
   "metadata": {},
   "source": [
    "### Unzipping (or how to undo `zip`)\n",
    "\n",
    "When you call the `zip` function on one or more iterables, the result is a zip-object which produces a stream of tuples. The first tuple contains the first element of each of the arguments, the second tuple contains the second item of each of the arguments, and so on. "
   ]
  },
  {
   "cell_type": "code",
   "execution_count": null,
   "metadata": {},
   "outputs": [],
   "source": [
    "a = [1, 2, 3]\n",
    "b = ['a', 'b', 'c']\n",
    "zip(a, b)"
   ]
  },
  {
   "cell_type": "code",
   "execution_count": null,
   "metadata": {},
   "outputs": [],
   "source": [
    "z = list(_)\n",
    "z"
   ]
  },
  {
   "cell_type": "markdown",
   "metadata": {},
   "source": [
    "The cells above illustrate how `zip` works. This function is lazily evaluated; it's only when you collect the item into a list, that they are evaluated.\n",
    "\n",
    "How does one unzip the result to get back to the original arguments? There is no `unzip` function. But because `zip` takes an arbitrary number of positional arguments, we can pass `*z` to `zip`. That will produce a zip-object, where the first tuple contains the first elements of each tuple of `z`, and the second element contains the second element of each tuple of `z`, i.e., the tuples `(1, 2, 3)` and `('a', 'b', 'c')`. "
   ]
  },
  {
   "cell_type": "code",
   "execution_count": null,
   "metadata": {},
   "outputs": [],
   "source": [
    "zz = zip(*z)\n",
    "zz"
   ]
  },
  {
   "cell_type": "code",
   "execution_count": null,
   "metadata": {},
   "outputs": [],
   "source": [
    "[list(p) for p in zz] == [a, b]"
   ]
  },
  {
   "cell_type": "markdown",
   "metadata": {},
   "source": [
    "**Exercise:** Use `zip` to transpose a matrix"
   ]
  },
  {
   "cell_type": "code",
   "execution_count": null,
   "metadata": {},
   "outputs": [],
   "source": [
    "# How to transpose a matrix using zip\n",
    "# A 4-by-3 matrix\n",
    "m = [[11, 12, 13], [21, 22, 23], [31, 32, 33], [41, 42, 43]]\n",
    "print('m = ')\n",
    "print(*m, sep='\\n')\n",
    "\n",
    "m_t = [] # Replace [] by an expression that evaluates to the transpose of m\n",
    "print('\\nm_t = ')\n",
    "print(*m_t, sep='\\n')"
   ]
  },
  {
   "cell_type": "markdown",
   "metadata": {},
   "source": [
    "## Unpacking a dict\n",
    "\n",
    "It's possible to call a function where some or all arguments are specified as a dict. Consider the dict: "
   ]
  },
  {
   "cell_type": "code",
   "execution_count": null,
   "metadata": {},
   "outputs": [],
   "source": [
    "kwargs = {'numbers': [1, 2, 3], 'ignore_zeroes':True}"
   ]
  },
  {
   "cell_type": "markdown",
   "metadata": {},
   "source": [
    "This dict specifies arguments that could be passed to `product`. To do so, we could write:"
   ]
  },
  {
   "cell_type": "code",
   "execution_count": null,
   "metadata": {},
   "outputs": [],
   "source": [
    "product_v1(numbers=kwargs['numbers'], ignore_zeroes=kwargs['ignore_zeroes'])"
   ]
  },
  {
   "cell_type": "markdown",
   "metadata": {},
   "source": [
    "But there is a simpler way; use the `**`-operator to unpack the dict as shown below."
   ]
  },
  {
   "cell_type": "code",
   "execution_count": null,
   "metadata": {},
   "outputs": [],
   "source": [
    "product_v1(**kwargs)"
   ]
  },
  {
   "cell_type": "markdown",
   "metadata": {},
   "source": [
    "This can be useful where the arguments are built one at the time before being passed to a function. Assume `setup_environment(home, docs, course)` is a function with the shown arguments. Then, one could do\n",
    "\n",
    "```Python\n",
    "env = {}\n",
    "env['home'] = '/Users/erikc'\n",
    "env['docs'] = env['home'] + '/Documents'\n",
    "env['course'] = env['docs'] + '/Learning/python_for_beginners'\n",
    "...\n",
    "setup_environment(**env)\n",
    "```"
   ]
  },
  {
   "cell_type": "markdown",
   "metadata": {},
   "source": [
    "Another example of dict unpacking is creating a dict that is the \"combination\" of two or more other dicts:"
   ]
  },
  {
   "cell_type": "code",
   "execution_count": null,
   "metadata": {},
   "outputs": [],
   "source": [
    "d1 = {'a':2, 'b':4}\n",
    "d2 = {'b':5, 'c':6, 'd':8}\n",
    "{**d1, **d2, 'e':2}"
   ]
  },
  {
   "cell_type": "markdown",
   "metadata": {},
   "source": [
    "Dict unpacking can be used to define functions that take an arbitrary list of keyword arguments. For example:"
   ]
  },
  {
   "cell_type": "code",
   "execution_count": null,
   "metadata": {},
   "outputs": [],
   "source": [
    "def print_scores(**scores):\n",
    "    for name, score in scores.items():\n",
    "        print(f\"{name.replace('_', ' '):18}: {score}\")"
   ]
  },
  {
   "cell_type": "code",
   "execution_count": null,
   "metadata": {},
   "outputs": [],
   "source": [
    "print_scores(Alice_Appleseed=5.7, Chris_Christensen=5.2, Bob_Burlington=5.0, Dan_Draper=4.9)"
   ]
  },
  {
   "cell_type": "markdown",
   "metadata": {},
   "source": [
    "Notice that the arguments are processed in the order they passed in, which is a requirement on Python since Python 3.6. (Which is not obvious, since `scores` is a dict, and there is no inherent ordering of dict elements.)"
   ]
  },
  {
   "cell_type": "markdown",
   "metadata": {},
   "source": [
    "### On `*args, **kwargs`\n",
    "\n",
    "Sometimes, e.g., when overriding a method or working with higher order functions, one needs to express \"whatever positional and keyword arguments are passed to some function\". This often translates to code as `*args, **kwargs`.\n",
    "\n",
    "The following example illustrates the use of `*args, **kwargs`. The function `log` takes a function `f` as argument and returns a new function, which, when called, prints the name of `f` and the positional and keyword arguments that it was called with, and then calls `f` with those same arguments. The function `log` provides a non-invasive (i.e., it doesn't require any modification of the function being logged) and reusable way of logging function calls. "
   ]
  },
  {
   "cell_type": "code",
   "execution_count": null,
   "metadata": {},
   "outputs": [],
   "source": [
    "def log(f):\n",
    "    def h(*args, **kwargs):\n",
    "        all_args = [repr(a) for a in args]\n",
    "        all_args += [f\"{k}={repr(v)}\" for k, v in kwargs.items()]\n",
    "        print(f\"{f.__name__}({', '.join(all_args)})\")\n",
    "        return f(*args, **kwargs)\n",
    "    return h"
   ]
  },
  {
   "cell_type": "markdown",
   "metadata": {},
   "source": [
    "If I were to debug `product_v1`, I could modify its definition and have it print a line telling that it has been called and the arguments that it has been called with. (Who hasn't done that? And forgotten to remove the debug statement afterwards?! :-)) The following is simpler:"
   ]
  },
  {
   "cell_type": "code",
   "execution_count": null,
   "metadata": {},
   "outputs": [],
   "source": [
    "nums = [n for n in [0, 2, 2, 2, 3, 3, 2 + 1 + 2] if n % 2 == 1]\n",
    "log(product_v1)(numbers=nums, ignore_zeroes=True)"
   ]
  },
  {
   "cell_type": "markdown",
   "metadata": {},
   "source": [
    "Sometimes the definition is not accessible to me, so I cannot modify it. Still, I can log a call."
   ]
  },
  {
   "cell_type": "code",
   "execution_count": null,
   "metadata": {},
   "outputs": [],
   "source": [
    "log(print)(*'abcde', sep=' + ')"
   ]
  },
  {
   "cell_type": "markdown",
   "metadata": {},
   "source": [
    "#### Quick peek into decorators\n",
    "\n",
    "We can think of the function `log` as something that modifies function *calls*. But we can also use it to modify function *definitions*.  When a higher order function is used to modify a function definition, it's called a *decorator*. Consider:"
   ]
  },
  {
   "cell_type": "code",
   "execution_count": null,
   "metadata": {},
   "outputs": [],
   "source": [
    "@log\n",
    "def fib(n):\n",
    "    if n < 2: return n\n",
    "    return fib(n - 2) + fib(n - 1)"
   ]
  },
  {
   "cell_type": "markdown",
   "metadata": {},
   "source": [
    "The decorator `@log` references the function `log` defined a few cells above. Now, every time `fib` is called, a log line is printed. "
   ]
  },
  {
   "cell_type": "code",
   "execution_count": null,
   "metadata": {},
   "outputs": [],
   "source": [
    "fib(n=5)"
   ]
  },
  {
   "cell_type": "markdown",
   "metadata": {},
   "source": [
    "## Summary\n",
    "\n",
    "1. When calling a function, using keyword arguments can greatly enhance the readability of your program.\n",
    "2. Providing default values to some of the arguments is very common practice and provides flexibility when calling the function in that not all arguments need to be passed a value.\n",
    "3. Writing your own functions using the `*`- and `**`-operators may be considered an \"advanced\" feature. However, when looking up the documentation of an imported function, it's not uncommon to encounter the unpacking operators. It's good to know how they work. "
   ]
  }
 ],
 "metadata": {
  "kernelspec": {
   "display_name": "Python 3 (ipykernel)",
   "language": "python",
   "name": "python3"
  },
  "language_info": {
   "codemirror_mode": {
    "name": "ipython",
    "version": 3
   },
   "file_extension": ".py",
   "mimetype": "text/x-python",
   "name": "python",
   "nbconvert_exporter": "python",
   "pygments_lexer": "ipython3",
   "version": "3.12.4"
  }
 },
 "nbformat": 4,
 "nbformat_minor": 4
}
