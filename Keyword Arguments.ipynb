{
 "cells": [
  {
   "cell_type": "markdown",
   "metadata": {},
   "source": [
    "# Keyword Arguments\n",
    "\n",
    "\n",
    "When defining a function, we give each argument a name, which then can be referenced in the function body.\n",
    "Consider the following example:"
   ]
  },
  {
   "cell_type": "code",
   "execution_count": 105,
   "metadata": {},
   "outputs": [],
   "source": [
    "def product(numbers):\n",
    "    \"\"\"Returns the product of all number in numbers\"\"\"\n",
    "    res = 1\n",
    "    for n in numbers:\n",
    "        res *= n\n",
    "    return res"
   ]
  },
  {
   "cell_type": "code",
   "execution_count": 23,
   "metadata": {},
   "outputs": [
    {
     "data": {
      "text/plain": [
       "120"
      ]
     },
     "execution_count": 23,
     "metadata": {},
     "output_type": "execute_result"
    }
   ],
   "source": [
    "product([1,2, 3, 4, 5])"
   ]
  },
  {
   "cell_type": "markdown",
   "metadata": {},
   "source": [
    "If any of the numbers in `numbers` is zero, then the result will be zero. To avoid this, let's add an argument `ignore_zeroes`, which, when set to `True`, skips zeroes in the list"
   ]
  },
  {
   "cell_type": "code",
   "execution_count": 106,
   "metadata": {},
   "outputs": [],
   "source": [
    "def product(numbers, ignore_zeroes):\n",
    "    \"\"\"Returns the product of all number in numbers. \n",
    "    If ignore_zeroes is True, zeroes are skipped.\"\"\"\n",
    "    res = 1\n",
    "    for n in numbers:\n",
    "        if n == 0 and ignore_zeroes:\n",
    "            continue\n",
    "        res *= n\n",
    "    return res"
   ]
  },
  {
   "cell_type": "code",
   "execution_count": 107,
   "metadata": {},
   "outputs": [
    {
     "data": {
      "text/plain": [
       "0"
      ]
     },
     "execution_count": 107,
     "metadata": {},
     "output_type": "execute_result"
    }
   ],
   "source": [
    "product([0, 1, 2, 3], False)"
   ]
  },
  {
   "cell_type": "code",
   "execution_count": 108,
   "metadata": {},
   "outputs": [
    {
     "data": {
      "text/plain": [
       "6"
      ]
     },
     "execution_count": 108,
     "metadata": {},
     "output_type": "execute_result"
    }
   ],
   "source": [
    "product([0, 1, 2, 3], True)"
   ]
  },
  {
   "cell_type": "markdown",
   "metadata": {},
   "source": [
    "When calling `product`, it may be hard to remember what the last argument is. To avoid this it is possible to name some of the arguments, which often makes the code more readable."
   ]
  },
  {
   "cell_type": "code",
   "execution_count": 30,
   "metadata": {},
   "outputs": [
    {
     "data": {
      "text/plain": [
       "6"
      ]
     },
     "execution_count": 30,
     "metadata": {},
     "output_type": "execute_result"
    }
   ],
   "source": [
    "product([0, 1, 2, 3], ignore_zeroes=True)"
   ]
  },
  {
   "cell_type": "markdown",
   "metadata": {},
   "source": [
    "When an argument is not specified by its name, we call it a _positional_ argument. In the cell above, the first argument is positional, and the second is a _keyword_ argument. Positional arguments must appear in the order they appear in the function definition and cannot follow keyword arguments. Keyword arguments, on the other hand may appear in any order."
   ]
  },
  {
   "cell_type": "code",
   "execution_count": null,
   "metadata": {},
   "outputs": [],
   "source": [
    "product(numbers=[0, 1, 2, 3], True)  # Fix this line"
   ]
  },
  {
   "cell_type": "code",
   "execution_count": 32,
   "metadata": {},
   "outputs": [
    {
     "data": {
      "text/plain": [
       "6"
      ]
     },
     "execution_count": 32,
     "metadata": {},
     "output_type": "execute_result"
    }
   ],
   "source": [
    "product(ignore_zeroes=False, numbers=[1, 2, 3])"
   ]
  },
  {
   "cell_type": "markdown",
   "metadata": {},
   "source": [
    "Sometimes a function may take an arbitray number of arguments. We've seen this with `print`."
   ]
  },
  {
   "cell_type": "code",
   "execution_count": 33,
   "metadata": {},
   "outputs": [
    {
     "name": "stdout",
     "output_type": "stream",
     "text": [
      "Hello world\n"
     ]
    }
   ],
   "source": [
    "print('Hello', 'world')"
   ]
  },
  {
   "cell_type": "markdown",
   "metadata": {},
   "source": [
    "Any arguments that follow the list of strings to be printed must be keyword arguments. Otherwise they will be interpreted as strings to be printed."
   ]
  },
  {
   "cell_type": "code",
   "execution_count": 34,
   "metadata": {},
   "outputs": [
    {
     "name": "stdout",
     "output_type": "stream",
     "text": [
      "Hello-world\n"
     ]
    }
   ],
   "source": [
    "print('Hello', 'world', sep='-')"
   ]
  },
  {
   "cell_type": "code",
   "execution_count": 35,
   "metadata": {},
   "outputs": [
    {
     "name": "stdout",
     "output_type": "stream",
     "text": [
      "Hello world -\n"
     ]
    }
   ],
   "source": [
    "print('Hello', 'world', '-')"
   ]
  },
  {
   "cell_type": "markdown",
   "metadata": {},
   "source": [
    "It's common to assign default values to some arguments. If an arguments has a default value, it may be omitted in a call and it will be assigned the default value. Exercise: Modify the definition of `product` such that if `ignore_zeroes` is omitted, zeroes will not be ignored. \n",
    "\n",
    "__Discuss:__ Suppose you didn't know what the default value was. What would be the most natural behavior to expect from `product([1, 2, 3, 0])`? In light of the answer to that question, what would the most natural default value of `ignore_zeroes` be?"
   ]
  },
  {
   "cell_type": "markdown",
   "metadata": {},
   "source": [
    "## The unpack operator\n",
    "\n",
    "Suppose you want to pass the `numbers` argument not as a list, but as separate numbers, such that you could call `product(1, 2, 3)` instead of `product([1, 2, 3])`. We can use the unpack operator, a.k.a. the `*`-operator to achieve this:"
   ]
  },
  {
   "cell_type": "code",
   "execution_count": 116,
   "metadata": {},
   "outputs": [],
   "source": [
    "def product(*numbers, ignore_zeroes=False):\n",
    "    \"\"\"Returns the product of all number is numbers. \n",
    "    If ignore_zeroes is True, zeroes are skipped.\"\"\"\n",
    "    res = 1\n",
    "    for n in numbers:\n",
    "        if n == 0 and ignore_zeroes:\n",
    "            continue\n",
    "        res *= n\n",
    "    return res"
   ]
  },
  {
   "cell_type": "code",
   "execution_count": 117,
   "metadata": {},
   "outputs": [
    {
     "data": {
      "text/plain": [
       "6"
      ]
     },
     "execution_count": 117,
     "metadata": {},
     "output_type": "execute_result"
    }
   ],
   "source": [
    "product(1, 2, 3)"
   ]
  },
  {
   "cell_type": "code",
   "execution_count": 39,
   "metadata": {},
   "outputs": [
    {
     "data": {
      "text/plain": [
       "6"
      ]
     },
     "execution_count": 39,
     "metadata": {},
     "output_type": "execute_result"
    }
   ],
   "source": [
    "product(*range(1, 4))"
   ]
  },
  {
   "cell_type": "markdown",
   "metadata": {},
   "source": [
    "Note that the `*`-operator can only be applied to one argument, and that all following arguments must be keyword arguments. \n",
    "\n",
    "__Exercise:__ Print all the letters in the English alphabet separated by an underscore character: `A_B_C_..._Z`"
   ]
  },
  {
   "cell_type": "code",
   "execution_count": 45,
   "metadata": {},
   "outputs": [
    {
     "name": "stdout",
     "output_type": "stream",
     "text": [
      "A_B_C_D_E_F_G_H_I_J_K_L_M_N_O_P_Q_R_S_T_U_V_W_X_Y_Z\n"
     ]
    }
   ],
   "source": [
    "from string import ascii_uppercase\n",
    "print('_'.join(ascii_uppercase)) # Replace this line one that uses the *-operator"
   ]
  },
  {
   "cell_type": "markdown",
   "metadata": {},
   "source": [
    "As observed above, if one argument has a `*`-operator, all following arguments _must_ be keyword arguments. There is way to force any argument to be a keyword argument. Let's go back to the previous definition of `product` and modify it as follows:"
   ]
  },
  {
   "cell_type": "code",
   "execution_count": 46,
   "metadata": {},
   "outputs": [],
   "source": [
    "def product(numbers, *, ignore_zeroes=False):\n",
    "    \"\"\"Returns the product of all number is numbers. \n",
    "    If ignore_zeroes is True, zeroes are skipped.\"\"\"\n",
    "    res = 1\n",
    "    for n in numbers:\n",
    "        if n == 0 and ignore_zeroes:\n",
    "            continue\n",
    "        res *= n\n",
    "    return res"
   ]
  },
  {
   "cell_type": "markdown",
   "metadata": {},
   "source": [
    "Note the `*` placed between the arguments `numbers` and `ignore_zeroes`. This forces all arguments after the `*` to be keyword arguments."
   ]
  },
  {
   "cell_type": "code",
   "execution_count": null,
   "metadata": {},
   "outputs": [],
   "source": [
    "product(range(1, 4), True) # Fix this line"
   ]
  },
  {
   "cell_type": "markdown",
   "metadata": {},
   "source": [
    "__Discussion:__ Why would one _force_ some arguments to be keyword arguments?"
   ]
  },
  {
   "cell_type": "markdown",
   "metadata": {},
   "source": [
    "## Unpacking a dict\n",
    "\n",
    "It's possible to call a function where some or all arguments are specified as a dict. Consider the dict: "
   ]
  },
  {
   "cell_type": "code",
   "execution_count": 60,
   "metadata": {},
   "outputs": [],
   "source": [
    "args = {'numbers': [1, 2, 3], 'ignore_zeroes':True}"
   ]
  },
  {
   "cell_type": "markdown",
   "metadata": {},
   "source": [
    "This dict specifies arguments that could be passed to `product`. To do so, we could write:"
   ]
  },
  {
   "cell_type": "code",
   "execution_count": 61,
   "metadata": {},
   "outputs": [
    {
     "data": {
      "text/plain": [
       "6"
      ]
     },
     "execution_count": 61,
     "metadata": {},
     "output_type": "execute_result"
    }
   ],
   "source": [
    "product(numbers=args['numbers'], ignore_zeroes=args['ignore_zeroes'])"
   ]
  },
  {
   "cell_type": "markdown",
   "metadata": {},
   "source": [
    "But there is a simpler way; use the `**`-operator to unpack the dict as shown below."
   ]
  },
  {
   "cell_type": "code",
   "execution_count": 62,
   "metadata": {},
   "outputs": [
    {
     "data": {
      "text/plain": [
       "6"
      ]
     },
     "execution_count": 62,
     "metadata": {},
     "output_type": "execute_result"
    }
   ],
   "source": [
    "product(**args)"
   ]
  },
  {
   "cell_type": "markdown",
   "metadata": {},
   "source": [
    "This can be useful where the arguments are built one at the time before being passed to a function. Assume `setup_environment(home, docs, course)` is a function with the shown arguments. Then, one could do\n",
    "\n",
    "```Python\n",
    "env = {}\n",
    "env['home'] = '/Users/erikc'\n",
    "env['docs'] = env['home'] + '/Documents'\n",
    "env['course'] = env['docs'] + '/Learning/python_for_beginners'\n",
    "...\n",
    "setup_environment(**env)\n",
    "```"
   ]
  },
  {
   "cell_type": "markdown",
   "metadata": {},
   "source": [
    "Another example of dict unpacking is creating a dict that is the \"combination\" of two or more other dicts:"
   ]
  },
  {
   "cell_type": "code",
   "execution_count": 119,
   "metadata": {},
   "outputs": [
    {
     "data": {
      "text/plain": [
       "{1: 2, 3: 4, 5: 6, 7: 8}"
      ]
     },
     "execution_count": 119,
     "metadata": {},
     "output_type": "execute_result"
    }
   ],
   "source": [
    "d1 = {1:2, 3:4}\n",
    "d2 = {5:6, 7:8}\n",
    "{**d1, **d2}"
   ]
  },
  {
   "cell_type": "markdown",
   "metadata": {},
   "source": [
    "Dict unpacking can be used to define functions that take an arbitrary list of keyword arguments. For example:"
   ]
  },
  {
   "cell_type": "code",
   "execution_count": 100,
   "metadata": {},
   "outputs": [],
   "source": [
    "def print_scores(**scores):\n",
    "    for name, score in scores.items():\n",
    "        print(f\"{name.replace('_', ' '):18}:{score}\")"
   ]
  },
  {
   "cell_type": "code",
   "execution_count": 103,
   "metadata": {},
   "outputs": [
    {
     "name": "stdout",
     "output_type": "stream",
     "text": [
      "Alice Appleseed   :5.7\n",
      "Bob Burlington    :5.0\n",
      "Chris Christensen :5.2\n",
      "Dan Draper        :4.9\n"
     ]
    }
   ],
   "source": [
    "print_scores(Alice_Appleseed=5.7, Bob_Burlington=5.0, Chris_Christensen=5.2, Dan_Draper=4.9)"
   ]
  },
  {
   "cell_type": "markdown",
   "metadata": {},
   "source": [
    "Notice that the arguments are processed in the order they passed in, which is a requirement on Python since Python 3.6."
   ]
  },
  {
   "cell_type": "markdown",
   "metadata": {},
   "source": [
    "## Summary\n",
    "\n",
    "1. When calling a function, using keyword arguments can greatly enhance the readability of your program.\n",
    "2. Providing default values to some of the arguments is very common practice and provides flexibility when calling the function in that not all arguments need to be passed a value.\n",
    "3. Writing your own functions using the `*`- and `**`-operators may be considered an \"advanced\" feature. However, when looking up the documentation of an imported function, it's not uncommon to encounter the unpacking operators. It's good to know how they work.\n",
    "4. Sometimes, e.g., when overriding a method or working with higher order functions, one sometimes needs to express \"whatever positional and keyword arguments are passed to some function\". This often translates to code as `*args, **kwargs`. \n"
   ]
  },
  {
   "cell_type": "code",
   "execution_count": null,
   "metadata": {},
   "outputs": [],
   "source": []
  }
 ],
 "metadata": {
  "kernelspec": {
   "display_name": "Python 3",
   "language": "python",
   "name": "python3"
  },
  "language_info": {
   "codemirror_mode": {
    "name": "ipython",
    "version": 3
   },
   "file_extension": ".py",
   "mimetype": "text/x-python",
   "name": "python",
   "nbconvert_exporter": "python",
   "pygments_lexer": "ipython3",
   "version": "3.7.3"
  }
 },
 "nbformat": 4,
 "nbformat_minor": 2
}
