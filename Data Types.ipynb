{
 "cells": [
  {
   "cell_type": "markdown",
   "metadata": {
    "colab_type": "text",
    "id": "5aSZJhOqzVqC"
   },
   "source": [
    "## Python data types "
   ]
  },
  {
   "cell_type": "markdown",
   "metadata": {
    "colab_type": "text",
    "id": "DjgqsgcczVqD"
   },
   "source": [
    "### Data types\n",
    "\n",
    "- int\n",
    "- float\n",
    "- range\n",
    "- str\n",
    "- list\n",
    "- tuple\n",
    "- dict\n",
    "- set\n",
    "\n",
    "#### Strings\n",
    "\n",
    "Typical uses:\n",
    "    \n",
    "- Human readable text\n",
    "- Mnemonic identifiers\n",
    "- Intermediate representation of objects saved to a file or transmitted over a network  \n",
    "    The process of converting an object (e.g. a list or a number) to a byte string (of type `bytes`) that can be written to a file or transmitted on a network is called *serialization*. The inverse process is called *deserialization*. Although not necessary, it is practial to first convert an object to a string which is subsequently *encoded* to a byte string.\n",
    "- Avoid uses beyond those above\n",
    "\n",
    "Characteristics:\n",
    "\n",
    "- Immutable\n",
    "- Ordered\n",
    "- Iterable\n",
    "- Indexable\n",
    "- Sliceable\n",
    "\n",
    "#### Lists\n",
    "\n",
    "Typical uses:\n",
    " \n",
    "- Used to hold multiple objects where order matters\n",
    "- Sometimes very large (tens of millions)\n",
    "- May hold multiple instances of same object\n",
    "- Used in implementation of queues, stacks and other data structures\n",
    "- Typically, all elements of a list are of same type (but not a requirement)\n",
    "\n",
    "Characteristics:\n",
    "\n",
    "- Mutable\n",
    "- Ordered\n",
    "- Iterable\n",
    "- Indexable\n",
    "- Sliceable\n",
    "\n",
    "#### Tuples\n",
    "\n",
    "Typical uses:\n",
    "\n",
    "- Used to hold multiple objects where order matters\n",
    "- Normally holds few elements (often created using literals)\n",
    "- Often holds elements of different types\n",
    "- Used to represent data points, the attributes of an object\n",
    "\n",
    "Characteristics:\n",
    "\n",
    "- Immutable\n",
    "- Otherwise, same as list\n",
    "\n",
    "#### Sets\n",
    "\n",
    "Typical uses:\n",
    "\n",
    "- Container of *distinct* objects where order does *not* matter\n",
    "- Sometimes very large (ten millions)\n",
    "- It's faster to check if a large set contains an element than to check if a list contains an element\n",
    "- Can do set operations such as union, intersection, set difference\n",
    "\n",
    "Characteristics:\n",
    "\n",
    "- Mutable (`frozenset` is the immutable counterpart)\n",
    "- Elements must be *hashable* (which implies immutable)\n",
    "- Not ordered\n",
    "- Iterable\n",
    "- Not indexable\n",
    "\n",
    "#### Dictionaries\n",
    "\n",
    "Typical uses:\n",
    "\n",
    "- Used to look up objects by key rather than by index\n",
    "- Used to map each object in a collection to some value, e.g. countries to population\n",
    "- Used as a representation of an object, e.g. represent a book as a dictionary with keys: `'title'`, `'author'`, `'publication_year'`, `'publisher'`, etc.\n",
    "- Used as caches\n",
    "\n",
    "Characteristics:\n",
    "\n",
    "- Mutable\n",
    "- Keys must be hashable\n",
    "- Not directly iterable, but keys, values, and items are"
   ]
  },
  {
   "cell_type": "markdown",
   "metadata": {
    "colab_type": "text",
    "id": "iK6Vq9XmzVqE"
   },
   "source": [
    "We can illustrate the difference between set and list with the following example. Assume we want a list of *distinct* random numbers between 1 and 10,000,000. We can try and produce this list directly. The code in the cell below works fine as long as the number of random numbers is small. Try increasing count to 1,000,000 and see what happens."
   ]
  },
  {
   "cell_type": "code",
   "execution_count": null,
   "metadata": {
    "colab": {
     "base_uri": "https://localhost:8080/",
     "height": 35
    },
    "colab_type": "code",
    "executionInfo": {
     "elapsed": 394,
     "status": "ok",
     "timestamp": 1567726326604,
     "user": {
      "displayName": "Erik Colban",
      "photoUrl": "",
      "userId": "07941460183810655247"
     },
     "user_tz": 420
    },
    "id": "vz7_52M8zVqE",
    "outputId": "af723afd-5133-4ed2-9095-b2ca5090d68a"
   },
   "outputs": [],
   "source": [
    "from random import randrange\n",
    "\n",
    "random_list = []\n",
    "count = 10_000\n",
    "while count > 0:\n",
    "    # choose a random number in the range from 1 inclusive to 10,000,000 exclusive\n",
    "    n = randrange(1, 10_000_000)\n",
    "    if n not in random_list:\n",
    "        random_list.append(n)\n",
    "        count -= 1\n",
    "random_list.sort()\n",
    "print(random_list[:10])\n",
    "print(len(random_list))"
   ]
  },
  {
   "cell_type": "markdown",
   "metadata": {
    "colab_type": "text",
    "id": "53IoLO6xzVqI"
   },
   "source": [
    "The problem is that the time it takes to the check `n not in random_list` is proportional with the size of the list. We can avoid this by using a set."
   ]
  },
  {
   "cell_type": "code",
   "execution_count": null,
   "metadata": {
    "colab": {
     "base_uri": "https://localhost:8080/",
     "height": 35
    },
    "colab_type": "code",
    "executionInfo": {
     "elapsed": 2877,
     "status": "ok",
     "timestamp": 1567726333658,
     "user": {
      "displayName": "Erik Colban",
      "photoUrl": "",
      "userId": "07941460183810655247"
     },
     "user_tz": 420
    },
    "id": "G18n8LB4zVqJ",
    "outputId": "886b4efb-0627-4d98-d734-3c2263e7d4ba"
   },
   "outputs": [],
   "source": [
    "from random import shuffle\n",
    "\n",
    "random_set = set()\n",
    "count = 1_000_000\n",
    "while count > 0:\n",
    "    n = randrange(1, 10_000_000)\n",
    "    if n not in random_set:\n",
    "        random_set.add(n)\n",
    "        count -= 1\n",
    "random_list = sorted(random_set)\n",
    "# shuffle(random_list)\n",
    "print(len(random_list))\n",
    "print(random_list[:20])\n",
    "len(set(random_list)) == len(random_list)"
   ]
  },
  {
   "cell_type": "markdown",
   "metadata": {
    "colab_type": "text",
    "id": "ZgY8jnmXzVqL"
   },
   "source": [
    "###  Worked example: Representing a database table\n",
    "\n",
    "The task is to represent a database table in Python in such a way that one can easily and efficiently perform typical queries on it. Select appropriate data structure, e.g., lists, dictionaries, etc. The table we will be using is already in the `assets/` [folder](assets/), but can alternatively be downloaded from [here](https://www.kaggle.com/jessicali9530/honey-production/download).\n",
    "\n",
    "(For the sake of the challenge, do not use `pandas`.)\n",
    "\n",
    "\n",
    "To read the `honeyproduction.csv` file, use the `csv` package."
   ]
  },
  {
   "cell_type": "code",
   "execution_count": null,
   "metadata": {
    "colab": {},
    "colab_type": "code",
    "id": "YkZl4mJwzVqL"
   },
   "outputs": [],
   "source": [
    "import csv"
   ]
  },
  {
   "cell_type": "markdown",
   "metadata": {
    "colab_type": "text",
    "id": "ZgKcdbSazVqN"
   },
   "source": [
    "Let's read a few rows of the file to see what it looks like. \n",
    "\n",
    "The lines below show how to read a file. We use `with open ...`, which is the recommended way of accessing a file since the file is automatically closed when execution leaves the indented block below.\n",
    "\n",
    "In the code lines below, `csv.reader` returns a reader, which allows us to *iterate* over the lines of the file. Anything we can iterate over is refered to as an *iterable*, so `reader` is an iterable. This means that we can, e.g., use it in a for-loop:\n",
    "\n",
    "```Python\n",
    "for line in reader:\n",
    "    print(line)\n",
    "```\n",
    "\n",
    "But `reader` is also an *iterator*, so we can also call `next` on the reader, which will return the next line."
   ]
  },
  {
   "cell_type": "markdown",
   "metadata": {
    "colab_type": "text",
    "id": "SFqI4NIEzVqR"
   },
   "source": [
    "We can see that the file contains a heading row followed by some data rows. `reader` has split each line into a list of strings corresponding to the values in each column. We will need to convert some of the column entries to `int` or `float`. "
   ]
  },
  {
   "cell_type": "markdown",
   "metadata": {
    "colab_type": "text",
    "id": "2JZujw9yzVqS"
   },
   "source": [
    "**A note on iterables and iterators.** An *iterable* is a thing that we can iterate over, e.g., using a for-loop. Examples of iterables that we have encountered so far are ranges, strings, lists, tuples, and sets. When iterating over an iterable, the iterable's *iterator* is used. The function `iter()` is used to access an iterable's iterator. The iterator is also used when iterating over an iterable with a for-loop, but this is done witout having to invoke `iter()` explicitly.\n",
    "\n",
    "The function `next()`, when invoked on an iterator, returns the next element of the iterator. As a side-effect, it also advances the iterator so that next time `next()` is called, the following element is returned. When iterating over an iterable with a for-loop, `next()` is called repeatedly on the iterable's iterator until the iterator is exhausted.\n",
    "\n",
    "It is important to distinguish between iterables and iterators. For example, calling next on an iterable will fail unless the iterable is also an iterator:\n",
    "\n",
    "```Python\n",
    "my_list = [1, 2, 3]\n",
    "my_list_iterator = iter(my_list)\n",
    "next(my_list_iterator) # evaluates to 1 and advances the iterator\n",
    "next(my_list) # fails\n",
    "```\n",
    "\n",
    "It is not uncommon that an iterable is its own iterator (so that calling `iter()` on the iterable returns the iterable itself). This is the case for `csv.reader`."
   ]
  },
  {
   "cell_type": "markdown",
   "metadata": {
    "colab_type": "text",
    "id": "uQR-ZUL8zVqS"
   },
   "source": [
    "#### Alternative 1: Representing a table as a list of rows\n",
    "\n",
    "The code below instantiates two variables; `heading_row`, which contains the first row as a list, and `data_rows`, which is a list of lists."
   ]
  },
  {
   "cell_type": "code",
   "execution_count": null,
   "metadata": {
    "colab": {},
    "colab_type": "code",
    "id": "GqSxiJuvzVqT"
   },
   "outputs": [],
   "source": [
    "data_rows = []\n",
    "with open('assets/honeyproduction.csv', 'r') as csvfile:\n",
    "    reader = csv.reader(csvfile, delimiter=',')\n",
    "    heading_row = next(reader)\n",
    "    for row in reader:\n",
    "        for i, col in enumerate(row[1:5], start=1):\n",
    "            row[i] = int(float(col))\n",
    "        row[5] = float(row[5])\n",
    "        for i, col in enumerate(row[6:], start=6):\n",
    "            row[i] = int(float(col))\n",
    "        data_rows.append(row)"
   ]
  },
  {
   "cell_type": "markdown",
   "metadata": {
    "colab_type": "text",
    "id": "7seQy1wYzVqV"
   },
   "source": [
    "Let's also create a `heading_dict` that maps the name of each column to the column's index. This will allow us to refer to a column by its name rather than by its index."
   ]
  },
  {
   "cell_type": "code",
   "execution_count": null,
   "metadata": {
    "colab": {
     "base_uri": "https://localhost:8080/",
     "height": 156
    },
    "colab_type": "code",
    "executionInfo": {
     "elapsed": 355,
     "status": "ok",
     "timestamp": 1567724203588,
     "user": {
      "displayName": "Erik Colban",
      "photoUrl": "",
      "userId": "07941460183810655247"
     },
     "user_tz": 420
    },
    "id": "JDRj2MEhzVqV",
    "outputId": "e1a0c538-cf75-4a38-9f11-082082b57eb7"
   },
   "outputs": [],
   "source": [
    "heading_dict = {}\n",
    "for idx, name in enumerate(heading_row):\n",
    "    heading_dict[name] = idx\n",
    "heading_dict"
   ]
  },
  {
   "cell_type": "markdown",
   "metadata": {
    "colab_type": "text",
    "id": "igu24uIgzVqY"
   },
   "source": [
    "An alternative way of defining the `heading_dict` is to use *comprehension* as shown in the cell below. We will address comprehensions in more detail later in this course, so don't worry if you don't quite understand how to read (and write) them yet. This is just a small sample of what is to come later."
   ]
  },
  {
   "cell_type": "code",
   "execution_count": null,
   "metadata": {
    "colab": {
     "base_uri": "https://localhost:8080/",
     "height": 156
    },
    "colab_type": "code",
    "executionInfo": {
     "elapsed": 394,
     "status": "ok",
     "timestamp": 1567713715321,
     "user": {
      "displayName": "Erik Colban",
      "photoUrl": "",
      "userId": "07941460183810655247"
     },
     "user_tz": 420
    },
    "id": "zIyNcytUzVqY",
    "outputId": "4f63a2e2-dd22-4f4f-ec29-0cb696395853"
   },
   "outputs": [],
   "source": [
    "heading_dict = {name:idx for idx, name in enumerate(heading_row)}\n",
    "heading_dict"
   ]
  },
  {
   "cell_type": "markdown",
   "metadata": {
    "colab_type": "text",
    "id": "z5wltOzrzVqa"
   },
   "source": [
    "We can reference any row by index:"
   ]
  },
  {
   "cell_type": "code",
   "execution_count": null,
   "metadata": {
    "colab": {
     "base_uri": "https://localhost:8080/",
     "height": 35
    },
    "colab_type": "code",
    "executionInfo": {
     "elapsed": 3741,
     "status": "ok",
     "timestamp": 1567703355258,
     "user": {
      "displayName": "Erik Colban",
      "photoUrl": "",
      "userId": "07941460183810655247"
     },
     "user_tz": 420
    },
    "id": "n0muHfVJzVqb",
    "outputId": "b0c399f2-5457-4e24-f935-3c7e4fb412ca"
   },
   "outputs": [],
   "source": [
    "data_rows[10]"
   ]
  },
  {
   "cell_type": "markdown",
   "metadata": {
    "colab_type": "text",
    "id": "z-lLa0jUzVqd"
   },
   "source": [
    "And we can get the value at a given column in a row by index. Instead of having to count the columns to find the index to use, we can use `heading_dict`."
   ]
  },
  {
   "cell_type": "code",
   "execution_count": null,
   "metadata": {
    "colab": {
     "base_uri": "https://localhost:8080/",
     "height": 35
    },
    "colab_type": "code",
    "executionInfo": {
     "elapsed": 293,
     "status": "ok",
     "timestamp": 1567713720470,
     "user": {
      "displayName": "Erik Colban",
      "photoUrl": "",
      "userId": "07941460183810655247"
     },
     "user_tz": 420
    },
    "id": "sz1a0_JkzVqe",
    "outputId": "7dcf5d39-6e00-4b7f-dea5-1af5459d5c78"
   },
   "outputs": [],
   "source": [
    "f'The price per pound is: {data_rows[10][heading_dict[\"priceperlb\"]]}'"
   ]
  },
  {
   "cell_type": "markdown",
   "metadata": {
    "colab_type": "text",
    "id": "WxD6zS0WzVqg"
   },
   "source": [
    "We can make queries on our table. For example, give me all rows where totalprod is greater than 35000000. "
   ]
  },
  {
   "cell_type": "code",
   "execution_count": null,
   "metadata": {
    "colab": {
     "base_uri": "https://localhost:8080/",
     "height": 69
    },
    "colab_type": "code",
    "executionInfo": {
     "elapsed": 362,
     "status": "ok",
     "timestamp": 1567724435947,
     "user": {
      "displayName": "Erik Colban",
      "photoUrl": "",
      "userId": "07941460183810655247"
     },
     "user_tz": 420
    },
    "id": "xGFWPIy4zVqg",
    "outputId": "cc4e631c-37f6-43cc-e5a6-a01dde16ec72"
   },
   "outputs": [],
   "source": [
    "query_result = []\n",
    "for row in data_rows:\n",
    "    if row[heading_dict['totalprod']] > 35000000:\n",
    "        query_result.append(row)\n",
    "query_result"
   ]
  },
  {
   "cell_type": "markdown",
   "metadata": {
    "colab_type": "text",
    "id": "EHPhzbRwzVqj"
   },
   "source": [
    "Alternatively, we can use comprehension. Compare the code in the cell below with the way we would write the query in SQL.\n",
    "```SQL\n",
    "select * in honeyproductiontable where totalprod > 35000000\n",
    "```"
   ]
  },
  {
   "cell_type": "code",
   "execution_count": null,
   "metadata": {
    "colab": {
     "base_uri": "https://localhost:8080/",
     "height": 69
    },
    "colab_type": "code",
    "executionInfo": {
     "elapsed": 359,
     "status": "ok",
     "timestamp": 1567724506282,
     "user": {
      "displayName": "Erik Colban",
      "photoUrl": "",
      "userId": "07941460183810655247"
     },
     "user_tz": 420
    },
    "id": "aVMIS5-jzVqk",
    "outputId": "f6f15f69-1733-425c-9daf-4b722e77a62b"
   },
   "outputs": [],
   "source": [
    "query_result = [row for row in data_rows if row[heading_dict['totalprod']] > 35000000]\n",
    "query_result"
   ]
  },
  {
   "cell_type": "markdown",
   "metadata": {
    "colab_type": "text",
    "id": "kRpylWu7zVql"
   },
   "source": [
    "#### Alternative 2: Representing a table as a dictionary\n",
    "\n",
    "In this alternative, we represent the table as a dictionary where the keys are the column headings and the values are lists of all the data entries in the corresponding column."
   ]
  },
  {
   "cell_type": "code",
   "execution_count": null,
   "metadata": {
    "colab": {},
    "colab_type": "code",
    "id": "HBV1dnPHzVqm"
   },
   "outputs": [],
   "source": [
    "from collections import OrderedDict\n",
    "\n",
    "table_dict = OrderedDict()\n",
    "for col_idx, heading in enumerate(heading_row): \n",
    "    column = []\n",
    "    for row in data_rows:\n",
    "        column.append(row[col_idx])\n",
    "    table_dict[heading] = column"
   ]
  },
  {
   "cell_type": "markdown",
   "metadata": {
    "colab_type": "text",
    "id": "6ga_fPODzVqo"
   },
   "source": [
    "Or, using comprehension:"
   ]
  },
  {
   "cell_type": "code",
   "execution_count": null,
   "metadata": {
    "colab": {},
    "colab_type": "code",
    "id": "U_oivOXzzVqp"
   },
   "outputs": [],
   "source": [
    "table_dict = {heading:[row[col_idx] for row in data_rows] \n",
    "              for col_idx, heading in enumerate(heading_row)}"
   ]
  },
  {
   "cell_type": "markdown",
   "metadata": {
    "colab_type": "text",
    "id": "n1AqTjT2zVq2"
   },
   "source": [
    "We can get a *slice* of the table:"
   ]
  },
  {
   "cell_type": "code",
   "execution_count": null,
   "metadata": {
    "colab": {
     "base_uri": "https://localhost:8080/",
     "height": 156
    },
    "colab_type": "code",
    "executionInfo": {
     "elapsed": 3935,
     "status": "ok",
     "timestamp": 1567703355503,
     "user": {
      "displayName": "Erik Colban",
      "photoUrl": "",
      "userId": "07941460183810655247"
     },
     "user_tz": 420
    },
    "id": "u6WbtvswzVq2",
    "outputId": "a23a0db6-a278-4f3d-b356-2d29f63e30f5"
   },
   "outputs": [],
   "source": [
    "{heading: column[:4] for heading, column in table_dict.items()}"
   ]
  },
  {
   "cell_type": "markdown",
   "metadata": {
    "colab_type": "text",
    "id": "A4BYtCMVzVqq"
   },
   "source": [
    "Now that we have our dictionary representing the table, we don't need `data_rows` any longer. We can get a row, represented as a dictionary mapping column heading to column entry, with the following function:"
   ]
  },
  {
   "cell_type": "code",
   "execution_count": null,
   "metadata": {
    "colab": {},
    "colab_type": "code",
    "id": "Z2v_pG10zVqr"
   },
   "outputs": [],
   "source": [
    "def row(row_idx):\n",
    "    row = []\n",
    "    for column in table_dict.values():\n",
    "        row.append(column[row_idx])\n",
    "    return row"
   ]
  },
  {
   "cell_type": "markdown",
   "metadata": {},
   "source": [
    "Or, using comprehension:"
   ]
  },
  {
   "cell_type": "code",
   "execution_count": null,
   "metadata": {},
   "outputs": [],
   "source": [
    "def row(row_idx):\n",
    "    return [column[row_idx] for column in table_dict.values()]"
   ]
  },
  {
   "cell_type": "code",
   "execution_count": null,
   "metadata": {
    "colab": {
     "base_uri": "https://localhost:8080/",
     "height": 156
    },
    "colab_type": "code",
    "executionInfo": {
     "elapsed": 417,
     "status": "ok",
     "timestamp": 1567714075403,
     "user": {
      "displayName": "Erik Colban",
      "photoUrl": "",
      "userId": "07941460183810655247"
     },
     "user_tz": 420
    },
    "id": "O6NXn8L0zVqz",
    "outputId": "321d4a52-5bf6-4ad6-d438-8a3180aac0ca"
   },
   "outputs": [],
   "source": [
    "row(10)"
   ]
  },
  {
   "cell_type": "markdown",
   "metadata": {
    "colab_type": "text",
    "id": "FuwHBn4FzVq5"
   },
   "source": [
    "We can make queries:"
   ]
  },
  {
   "cell_type": "code",
   "execution_count": null,
   "metadata": {
    "colab": {
     "base_uri": "https://localhost:8080/",
     "height": 433
    },
    "colab_type": "code",
    "executionInfo": {
     "elapsed": 3901,
     "status": "ok",
     "timestamp": 1567703355506,
     "user": {
      "displayName": "Erik Colban",
      "photoUrl": "",
      "userId": "07941460183810655247"
     },
     "user_tz": 420
    },
    "id": "Qs-xSmRrzVq5",
    "outputId": "b4a9bc0e-82d3-411c-dc72-38a81a58cf72"
   },
   "outputs": [],
   "source": [
    "query_result = []\n",
    "for row_idx, total_prod in enumerate(table_dict['totalprod']):\n",
    "    if total_prod > 35_000_000:\n",
    "        query_result.append(row(row_idx))  \n",
    "query_result"
   ]
  },
  {
   "cell_type": "markdown",
   "metadata": {
    "colab_type": "text",
    "id": "5gO91e66zVq7"
   },
   "source": [
    "Using comprehension, the query becomes more declarative and succinct:"
   ]
  },
  {
   "cell_type": "code",
   "execution_count": null,
   "metadata": {
    "colab": {
     "base_uri": "https://localhost:8080/",
     "height": 433
    },
    "colab_type": "code",
    "executionInfo": {
     "elapsed": 425,
     "status": "ok",
     "timestamp": 1567714240769,
     "user": {
      "displayName": "Erik Colban",
      "photoUrl": "",
      "userId": "07941460183810655247"
     },
     "user_tz": 420
    },
    "id": "gy8mvvNWzVq8",
    "outputId": "bd9d86ba-f55a-4975-fe27-742e4fa1ef54"
   },
   "outputs": [],
   "source": [
    "[row(row_idx) \n",
    " for row_idx, total_prod in enumerate(table_dict['totalprod']) \n",
    " if total_prod > 35_000_000]"
   ]
  },
  {
   "cell_type": "markdown",
   "metadata": {
    "colab_type": "text",
    "id": "uz5rFlznhWXj"
   },
   "source": [
    "### Exercises"
   ]
  },
  {
   "cell_type": "code",
   "execution_count": null,
   "metadata": {
    "colab": {},
    "colab_type": "code",
    "id": "KBaO7NqIhs4-"
   },
   "outputs": [],
   "source": [
    "# Replace None with a data structure that holds 5 country names.\n",
    "names = None"
   ]
  },
  {
   "cell_type": "code",
   "execution_count": null,
   "metadata": {
    "colab": {},
    "colab_type": "code",
    "id": "5jdWfORDiGjU"
   },
   "outputs": [],
   "source": [
    "# Replace None with a data structure that holds the capitals of the countries.\n",
    "capitals = None"
   ]
  },
  {
   "cell_type": "code",
   "execution_count": null,
   "metadata": {
    "colab": {},
    "colab_type": "code",
    "id": "HokSSpD7i2pS"
   },
   "outputs": [],
   "source": [
    "# Replace None with the populations (in millions) of the 5 countries\n",
    "populations = None"
   ]
  },
  {
   "cell_type": "code",
   "execution_count": null,
   "metadata": {
    "colab": {
     "base_uri": "https://localhost:8080/",
     "height": 104
    },
    "colab_type": "code",
    "executionInfo": {
     "elapsed": 359,
     "status": "ok",
     "timestamp": 1567725539483,
     "user": {
      "displayName": "Erik Colban",
      "photoUrl": "",
      "userId": "07941460183810655247"
     },
     "user_tz": 420
    },
    "id": "g0wTIE4bjLvi",
    "outputId": "b52870c1-e7e6-40a4-f854-b2c463e8c6c1"
   },
   "outputs": [],
   "source": [
    "# Replace None with an appropriate data structure\n",
    "countries = None\n",
    "countries"
   ]
  },
  {
   "cell_type": "code",
   "execution_count": null,
   "metadata": {
    "colab": {},
    "colab_type": "code",
    "id": "hm-by-B8Xz15"
   },
   "outputs": [],
   "source": [
    "# Complete\n",
    "\n",
    "def country_by_capital(capital):\n",
    "    \"\"\"Returns the name of the country whose capital is capital\"\"\"\n",
    "    pass"
   ]
  },
  {
   "cell_type": "code",
   "execution_count": null,
   "metadata": {
    "colab": {
     "base_uri": "https://localhost:8080/",
     "height": 35
    },
    "colab_type": "code",
    "executionInfo": {
     "elapsed": 343,
     "status": "ok",
     "timestamp": 1567725813468,
     "user": {
      "displayName": "Erik Colban",
      "photoUrl": "",
      "userId": "07941460183810655247"
     },
     "user_tz": 420
    },
    "id": "D3PH2eIZENwz",
    "outputId": "0dbb0834-3849-47f2-ca4e-065396f88def"
   },
   "outputs": [],
   "source": [
    "country_by_capital('Dublin') "
   ]
  }
 ],
 "metadata": {
  "colab": {
   "collapsed_sections": [
    "uQR-ZUL8zVqS"
   ],
   "name": "data_types.ipynb",
   "provenance": [],
   "version": "0.3.2"
  },
  "kernelspec": {
   "display_name": "Python 3 (ipykernel)",
   "language": "python",
   "name": "python3"
  },
  "language_info": {
   "codemirror_mode": {
    "name": "ipython",
    "version": 3
   },
   "file_extension": ".py",
   "mimetype": "text/x-python",
   "name": "python",
   "nbconvert_exporter": "python",
   "pygments_lexer": "ipython3",
   "version": "3.12.4"
  }
 },
 "nbformat": 4,
 "nbformat_minor": 4
}
