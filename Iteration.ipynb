{
 "cells": [
  {
   "cell_type": "markdown",
   "metadata": {},
   "source": [
    "# Iterables, iterators, and generators\n",
    "\n",
    "We've seen many examples of `for`-loops. Anything that one can iterate over is an _iterable_. Examples of iterables are ranges, lists, strings, sets, dicts, dicts items. "
   ]
  },
  {
   "cell_type": "code",
   "execution_count": null,
   "metadata": {},
   "outputs": [],
   "source": [
    "# Iterating over a dict is the same as iterating over the dict's keys\n",
    "d = {1: 'a', 2: 'b'}\n",
    "items = [i for i in d]\n",
    "print(*items, sep=\", \")"
   ]
  },
  {
   "cell_type": "code",
   "execution_count": null,
   "metadata": {},
   "outputs": [],
   "source": [
    "# Iterating over a dict's items returns key-value pairs\n",
    "items = [i for i in d.items()]\n",
    "print(*items, sep=\", \")"
   ]
  },
  {
   "cell_type": "code",
   "execution_count": null,
   "metadata": {},
   "outputs": [],
   "source": [
    "# Iterate multiple times over the same range instance\n",
    "r = range(3)\n",
    "items_1 = [i for i in r]\n",
    "items_2 = [i for i in r]\n",
    "print(*items_1, sep=\", \")\n",
    "print(*items_2, sep=\", \")"
   ]
  },
  {
   "cell_type": "markdown",
   "metadata": {},
   "source": [
    "Common for all iterables is that one can call `iter()` on them. This returns an _iterator_. An iterator is something that one can call `next()` on. An iterator is also an iterable and calling `iter()` on an iterator simply return the iterator itself. However, not all iterables are iterators."
   ]
  },
  {
   "cell_type": "code",
   "execution_count": null,
   "metadata": {},
   "outputs": [],
   "source": [
    "list_iterator = iter([1, 2, 3])\n",
    "print(next(list_iterator))\n",
    "print(next(list_iterator))\n",
    "print(next(list_iterator))\n",
    "# print(next(list_iterator))"
   ]
  },
  {
   "cell_type": "code",
   "execution_count": null,
   "metadata": {},
   "outputs": [],
   "source": [
    "# Calling iter() on an iterator returns the iterator itself\n",
    "list_iterator = iter([1, 2, 3])\n",
    "id(list_iterator) == id(iter(list_iterator))"
   ]
  },
  {
   "cell_type": "code",
   "execution_count": null,
   "metadata": {},
   "outputs": [],
   "source": [
    "# Iterators are iterables\n",
    "list_iterator = iter([1, 2, 3])\n",
    "items = [i for i in list_iterator]\n",
    "print(*items, sep=\", \")"
   ]
  },
  {
   "cell_type": "markdown",
   "metadata": {},
   "source": [
    "Calling `iter()` on an iterable and then calling `next()` on the iterator is not a common thing to do because a regular `for`-loop takes care of all that. However, it's good to know about them, because you may want to implement your own classes (to be discussed later), such that instances of your class are iterable. Then you'll have to override the `__iter__()` method to return an iterator. A common way of doing this is to let `__iter__()` return the object itself, and implement the `__next__()` method. These methods are invoked when `iter()` and `next()` are called on the instances, and should not be invoked directly otherwise. "
   ]
  },
  {
   "cell_type": "markdown",
   "metadata": {},
   "source": [
    "### Lazy evaluation\n",
    "\n",
    "A list is an example of an iterable that is _eagerly evaluated_ , meaning that all the items of the list are evaluated when the list is created or when they are appended to the list. Not all iterables are eagerly evaluated. For some iterables, items are computed only when calling `next()` on the iterable's iterator. Such iterables are said to be _lazy_. \n",
    "\n",
    "Lazy evaluation has the advantage that items are only computed *if* they are needed (saving computation time) and *when* they are needed (saving need for intermediate storage)."
   ]
  },
  {
   "cell_type": "code",
   "execution_count": null,
   "metadata": {},
   "outputs": [],
   "source": [
    "from itertools import count\n",
    "\n",
    "# count() returns an iterator of all ints from 0 to infinity \n",
    "\n",
    "for n in count():\n",
    "    if n > 10000:\n",
    "        break\n",
    "n"
   ]
  },
  {
   "cell_type": "code",
   "execution_count": null,
   "metadata": {},
   "outputs": [],
   "source": [
    "# Ranges are lazy evaluated in Python3 (but not in Python2)\n",
    "r = range(10000000000000000000000000000000000000000000)"
   ]
  },
  {
   "cell_type": "code",
   "execution_count": null,
   "metadata": {},
   "outputs": [],
   "source": [
    "# Zips are lazy evaluated in Python3 (but not in Python2)\n",
    "zip(r, r)"
   ]
  },
  {
   "cell_type": "markdown",
   "metadata": {},
   "source": [
    "__Note:__ Many objects that were eagerly evaluated in Python2 are lazily evaluated in Python3"
   ]
  },
  {
   "cell_type": "markdown",
   "metadata": {},
   "source": [
    "## Generators\n",
    "\n",
    "Generators are a special kind of iterators that can easily (i.e., there is no need to define a `class`) be defined either using a generator comprehension or a generator function. We've seen them already, but because they fit so nicely into Python's comprehension framework, you may not have noticed them.\n",
    "\n",
    "### Generator expressions\n",
    "\n",
    "Generator expressions are comprehensions that evaluate to a generator. They are similar to list comprehensions, except that parenthesis are used instead of square brackes (`[]`). "
   ]
  },
  {
   "cell_type": "code",
   "execution_count": null,
   "metadata": {},
   "outputs": [],
   "source": [
    "(i for i in range(1, 21) if i % 3 == 0 or i % 5 == 0)"
   ]
  },
  {
   "cell_type": "code",
   "execution_count": null,
   "metadata": {},
   "outputs": [],
   "source": [
    "g = _\n",
    "next(g)"
   ]
  },
  {
   "cell_type": "code",
   "execution_count": null,
   "metadata": {},
   "outputs": [],
   "source": [
    "next(g)"
   ]
  },
  {
   "cell_type": "code",
   "execution_count": null,
   "metadata": {},
   "outputs": [],
   "source": [
    "list(g)"
   ]
  },
  {
   "cell_type": "code",
   "execution_count": null,
   "metadata": {},
   "outputs": [],
   "source": [
    "g = (i for i in range(1, 11))\n",
    "sum(g)"
   ]
  },
  {
   "cell_type": "markdown",
   "metadata": {},
   "source": [
    "A special rule applies to when a generator expression is passed as the only argument to a function: In those cases, the parentheses enclosing the generator expression may be dropped. That is why you'll see \n",
    "\n",
    "```Python\n",
    "sum(i for i in range(1, 11))\n",
    "```\n",
    "instead of \n",
    "```Python\n",
    "sum((i for i in range(1, 11)))\n",
    "```"
   ]
  },
  {
   "cell_type": "markdown",
   "metadata": {},
   "source": [
    "However, if there are more arguments, the parantheses must be present."
   ]
  },
  {
   "cell_type": "code",
   "execution_count": null,
   "metadata": {},
   "outputs": [],
   "source": [
    "next((i for i in range(1, 11) if i % 3 == 0 and i % 5 == 0), 42)"
   ]
  },
  {
   "cell_type": "markdown",
   "metadata": {},
   "source": [
    "## Generator functions\n",
    "\n",
    "Generators functions are functions that produce generator. The keyword `yield` is used for the items that the generator produces. \n",
    "\n",
    "Example:"
   ]
  },
  {
   "cell_type": "code",
   "execution_count": null,
   "metadata": {},
   "outputs": [],
   "source": [
    "def gen_ints(start=0, end=None):\n",
    "    \"\"\"Generates a sequence of ints from start (inclusive) to end (exclusive).\n",
    "    If end is None, the sequence is infinite.\"\"\"\n",
    "    i = start\n",
    "    while not end or i < end:\n",
    "        yield i\n",
    "        i += 1"
   ]
  },
  {
   "cell_type": "markdown",
   "metadata": {},
   "source": [
    "If you are able to define a function that prints a sequence of items to the console, then you are able to define a generator function simply by replacing the print statements with yield statements.\n",
    "\n",
    "Note that none of the statements in the generator function body are executed at the time the generator function is called. Those statements are only executed at the time that `next()`  is called."
   ]
  },
  {
   "cell_type": "code",
   "execution_count": null,
   "metadata": {},
   "outputs": [],
   "source": [
    "one_to_ten = gen_ints(1, 11) # No item computed yet\n",
    "print(next(one_to_ten), end=\" \") # First item computed\n",
    "for n in one_to_ten:\n",
    "    print(n, end=\" \") # remaining items computed"
   ]
  },
  {
   "cell_type": "markdown",
   "metadata": {},
   "source": [
    "Generator functions are useful for decoupling how items are generated from what is done with the items. Let's assume you have a function that prints a bunch of stuff to the console. This function is doing mainly two things: 1) determining what to print, and 2) printing. When these two things are combined into one function, the function is really hard to test. How do you determine that your function is printing the right stuff using an automated test? By mocking the console? However, when you extract the first part into a generator that generates the items to print, you can easily test that generator. "
   ]
  },
  {
   "cell_type": "markdown",
   "metadata": {},
   "source": [
    "### Exercises"
   ]
  },
  {
   "cell_type": "markdown",
   "metadata": {},
   "source": [
    "1. I have a list of str's `privileged_users = [\"Erik\", \"Mike\", \"Rob\"]` and a function\n",
    "\n",
    "```Python\n",
    "def get_privileged_users():\n",
    "    return privileged_users\n",
    "```\n",
    "\n",
    "I'm worried that a caller might append other names into the list, yet I want to give general read access to the list. Discuss how I can modify `get_privileged_users` in such a way that a caller may \"see\" the contents without having access to the list."
   ]
  },
  {
   "cell_type": "code",
   "execution_count": null,
   "metadata": {},
   "outputs": [],
   "source": [
    "privileged_users = [\"Erik\", \"Mike\", \"Rob\"]\n",
    "\n",
    "def get_privileged_users():\n",
    "    pass"
   ]
  },
  {
   "cell_type": "markdown",
   "metadata": {},
   "source": [
    "2. Write the 5 first lines of a file"
   ]
  },
  {
   "cell_type": "code",
   "execution_count": null,
   "metadata": {},
   "outputs": [],
   "source": [
    "with open('assets/honeyproduction.csv', mode='r') as f:\n",
    "    # f is a line (i.e., str) iterator\n",
    "    # print the 5 first lines of f\n",
    "    pass\n",
    "    "
   ]
  },
  {
   "cell_type": "markdown",
   "metadata": {},
   "source": [
    "3. Write a generator _expression_ for all even numbers from 0 to infinity.\n",
    "Hint use `itertools.count`"
   ]
  },
  {
   "cell_type": "code",
   "execution_count": null,
   "metadata": {},
   "outputs": [],
   "source": [
    "def count_events():\n",
    "    return None # Replace None with a generator expression"
   ]
  },
  {
   "cell_type": "markdown",
   "metadata": {},
   "source": [
    "4. Write a function `fizz_buzz(n)` that takes a positive int `n` as argument and returns \"Fizz\" if `n` is divisible by 3, \"Buzz\" if `n` is divisible by 5, and \"FizzBuzz\" if `n` is divisible by both 3 and 5. If `n` is divisible by neither 3 nor 5, the function shall return `n`."
   ]
  },
  {
   "cell_type": "code",
   "execution_count": null,
   "metadata": {},
   "outputs": [],
   "source": [
    "def fizz_buzz(n):\n",
    "    pass"
   ]
  },
  {
   "cell_type": "markdown",
   "metadata": {},
   "source": [
    "5. Write a generator expression for the infinite FizzBuzz sequence: 1, 2, Fizz, 4, Buzz, Fizz, 7, ... "
   ]
  },
  {
   "cell_type": "code",
   "execution_count": null,
   "metadata": {},
   "outputs": [],
   "source": [
    "def fizz_buzz_seq():\n",
    "    return None # Replace None with a generator expression"
   ]
  },
  {
   "cell_type": "markdown",
   "metadata": {},
   "source": [
    "6. Create a list of the first 100 items in the FizzBuzz sequence"
   ]
  },
  {
   "cell_type": "code",
   "execution_count": null,
   "metadata": {},
   "outputs": [],
   "source": [
    "fizz_buzz_100_list = None # Replace None with a list comprehension using fizz_buzz_seq()"
   ]
  },
  {
   "cell_type": "markdown",
   "metadata": {},
   "source": [
    "Another solution:"
   ]
  },
  {
   "cell_type": "code",
   "execution_count": null,
   "metadata": {},
   "outputs": [],
   "source": [
    "from itertools import cycle, count\n",
    "\n",
    "fizzes = cycle(('', '', 'Fizz'))\n",
    "buzzes = cycle(('', '', '', '', 'Buzz'))\n",
    "fizz_buzzes = (fizz + buzz or n \n",
    "               for fizz, buzz, n in zip(fizzes, buzzes, count(1)))"
   ]
  }
 ],
 "metadata": {
  "kernelspec": {
   "display_name": "Python 3",
   "language": "python",
   "name": "python3"
  },
  "language_info": {
   "codemirror_mode": {
    "name": "ipython",
    "version": 3
   },
   "file_extension": ".py",
   "mimetype": "text/x-python",
   "name": "python",
   "nbconvert_exporter": "python",
   "pygments_lexer": "ipython3",
   "version": "3.7.6"
  }
 },
 "nbformat": 4,
 "nbformat_minor": 2
}
