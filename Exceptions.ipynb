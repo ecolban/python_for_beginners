{
 "cells": [
  {
   "cell_type": "markdown",
   "metadata": {},
   "source": [
    "# Exceptions\n",
    "\n",
    "Errors may happen during run times for many various reasons. For example (uncomment each example and see what happens):\n"
   ]
  },
  {
   "cell_type": "markdown",
   "metadata": {},
   "source": [
    "An index is out of range:"
   ]
  },
  {
   "cell_type": "code",
   "execution_count": null,
   "metadata": {},
   "outputs": [],
   "source": [
    "a = [1, 2, 3]\n",
    "# a[3]"
   ]
  },
  {
   "cell_type": "markdown",
   "metadata": {},
   "source": [
    "Wrong kind of argument is passed in a function call:"
   ]
  },
  {
   "cell_type": "code",
   "execution_count": null,
   "metadata": {},
   "outputs": [],
   "source": [
    "# len(23)"
   ]
  },
  {
   "cell_type": "markdown",
   "metadata": {},
   "source": [
    "Invalid keyword is used in a function call"
   ]
  },
  {
   "cell_type": "code",
   "execution_count": null,
   "metadata": {},
   "outputs": [],
   "source": [
    "# len('abc', x=2)"
   ]
  },
  {
   "cell_type": "markdown",
   "metadata": {},
   "source": [
    "Calling `next()` on an iterator that has no items left"
   ]
  },
  {
   "cell_type": "code",
   "execution_count": null,
   "metadata": {},
   "outputs": [],
   "source": [
    "a = iter([1, 2, 3])\n",
    "# for _ in range(4):\n",
    "#     next(a)"
   ]
  },
  {
   "cell_type": "markdown",
   "metadata": {},
   "source": [
    "Calling a non-exiting method"
   ]
  },
  {
   "cell_type": "code",
   "execution_count": null,
   "metadata": {},
   "outputs": [],
   "source": [
    "# (1, 2, 3).append(4)"
   ]
  },
  {
   "cell_type": "markdown",
   "metadata": {},
   "source": [
    "... or accessing a non-exiting property"
   ]
  },
  {
   "cell_type": "code",
   "execution_count": null,
   "metadata": {},
   "outputs": [],
   "source": [
    "# (1, 2, 3).first"
   ]
  },
  {
   "cell_type": "markdown",
   "metadata": {},
   "source": [
    "Trying to access a non-existing file"
   ]
  },
  {
   "cell_type": "code",
   "execution_count": null,
   "metadata": {},
   "outputs": [],
   "source": [
    "# with open('assets/honeyproduction2.csv', mode='r') as f:\n",
    "#     print(next(f))"
   ]
  },
  {
   "cell_type": "markdown",
   "metadata": {},
   "source": [
    "User input is not what's expected:"
   ]
  },
  {
   "cell_type": "code",
   "execution_count": null,
   "metadata": {},
   "outputs": [],
   "source": [
    "user_input = input(\"Enter a number: \")\n",
    "n = int(user_input)\n",
    "# User enters \"thirteen\""
   ]
  },
  {
   "cell_type": "markdown",
   "metadata": {},
   "source": [
    "## Catching exceptions\n",
    "\n",
    "When these errors occur, we say that _an exception is raised_ (in other languages, exceptions are *thrown*; personally, I think we should say \"exceptions are *dropped*\", since exceptions fall down the call stack till they are caught).\n",
    "\n",
    "In many cases, such errors may be avoided if the program code is written correctly. For example, one can ensure that an index is not out of range, and calling `len(23)` is just poor programming. However, in some situations, a programmer does not have control. For example, we may not know how many items an iterator may yield, so we keep calling `next()` until a `StopIteration` is raised. Or, we cannot control the user's input.\n",
    "\n",
    "If an exception is raised and it is not *caught*, the program will exit with an error. The following cell provides an example of how to catch an exception."
   ]
  },
  {
   "cell_type": "code",
   "execution_count": null,
   "metadata": {},
   "outputs": [],
   "source": [
    "a = [1, 2, 3]\n",
    "it = iter(a)\n",
    "total = 0\n",
    "try:\n",
    "    while True:\n",
    "        total += next(it)\n",
    "except StopIteration as e:\n",
    "    print(f\"Exception caught: {type(e)}\")\n",
    "total      "
   ]
  },
  {
   "cell_type": "markdown",
   "metadata": {},
   "source": [
    "The above code is not an example of *good* code, but it illustrates the syntax of a *try statement*. A try statement consists of a *try block* and one or more *except blocks*. (A try statement may also have a *finally block*, but we'll disregard those for now.)\n",
    "\n",
    "Let's modify this code so that it will throw another type of exception. We can modify the except block to catch both types of exceptions:"
   ]
  },
  {
   "cell_type": "code",
   "execution_count": null,
   "metadata": {},
   "outputs": [],
   "source": [
    "a = [1, 2, 3]\n",
    "b = [2, 2, 5]\n",
    "it = iter(a)\n",
    "total = 0\n",
    "try:\n",
    "    while True:\n",
    "        total += b[next(it)]\n",
    "except (StopIteration, IndexError) as e:\n",
    "    print(f\"Exception caught: {type(e)}\")\n",
    "total"
   ]
  },
  {
   "cell_type": "markdown",
   "metadata": {},
   "source": [
    "Or we can have multiple catch-blocks:"
   ]
  },
  {
   "cell_type": "code",
   "execution_count": null,
   "metadata": {},
   "outputs": [],
   "source": [
    "a = [1, 2, 3]\n",
    "b = [2, 2, 5]\n",
    "it = iter(a)\n",
    "total = 0\n",
    "try:\n",
    "    while True:\n",
    "        total += b[next(it)]\n",
    "except StopIteration as e:\n",
    "    print(f\"StopIteration caught: {e}\")\n",
    "except IndexError as e:\n",
    "    print(f\"IndexError caught: {e}\")\n",
    "total"
   ]
  },
  {
   "cell_type": "markdown",
   "metadata": {},
   "source": [
    "Or we can broaden the exceptions that are caught by one catch-block:"
   ]
  },
  {
   "cell_type": "code",
   "execution_count": null,
   "metadata": {},
   "outputs": [],
   "source": [
    "a = [1, 2, 3]\n",
    "b = [2, 2, 5]\n",
    "it = iter(a)\n",
    "total = 0\n",
    "try:\n",
    "    while True:\n",
    "        total += b[next(it)]\n",
    "except Exception as e:\n",
    "    print(f\"Exception caught: {type(e)}\")\n",
    "total"
   ]
  },
  {
   "cell_type": "markdown",
   "metadata": {},
   "source": [
    "Avoid catching exceptions that you don't expect your code to raise. That could hide errors in your code that should be addressed otherwise. For example, the reason for the IndexError could be that `a` contains faulty data, which should be addressed elsewhere in your code. Because you unintentinally catch this error, you may not notice this error in your code until it goes into production. In the presence of such errors, you want your code to crash so that you notice them and can correct them as soon as possible (\"Fail fast!\"). \n",
    "\n",
    "It's better to be specific about the exceptions that a catch-block should catch, rather than using the generic `Exception`. "
   ]
  },
  {
   "cell_type": "markdown",
   "metadata": {},
   "source": [
    "## Raising exceptions\n",
    "\n",
    "When you define a function, you don't have control over when, where and how it's called. It is therefore good practice to validate the arguments that are passed to the function. If the arguments are not valid, you can raise an exception. "
   ]
  },
  {
   "cell_type": "code",
   "execution_count": null,
   "metadata": {},
   "outputs": [],
   "source": [
    "def get_greeting(time_of_day):\n",
    "    \"\"\"time_of_day must be one of:\n",
    "     - \"morning\"\n",
    "     - \"afternoon\"\n",
    "     - \"evening\"\n",
    "     \"\"\"\n",
    "    greetings = {\"morning\": \"Good morning\",\n",
    "                 \"afternoon\": \"Good afternoon\",\n",
    "                 \"evening\": \"Good evening\"}\n",
    "    if time_of_day not in greetings:\n",
    "        raise ValueError(f'\"{time_of_day}\" is not a valid time of day')\n",
    "    return greetings[time_of_day]"
   ]
  },
  {
   "cell_type": "code",
   "execution_count": null,
   "metadata": {},
   "outputs": [],
   "source": [
    "try:\n",
    "    get_greeting(\"night\")\n",
    "except ValueError as e:\n",
    "    print(f'ValueError: {e}')"
   ]
  },
  {
   "cell_type": "markdown",
   "metadata": {},
   "source": [
    "Note that if we hadn't made any explicit validity check and raised a `ValueError`, an `KeyError` would have been raised when trying to access the `greetings` dict. However, explicitly raising a `ValueError` is better for several reasons:\n",
    "\n",
    "1. The argument is validated *before* any of the remaining of the body is executed, which lessens the damage that calling the function with erroneous arguments may cause. In this case there is no damage, but in other cases there could be.\n",
    "2. The error and error message is more specific and carries more information. \n",
    "3. The caller, who is causing the error, shouldn't be aware of the implementation of the function, in particular, that it uses a dict. I.e., the implementation is not properly encapsulated."
   ]
  },
  {
   "cell_type": "code",
   "execution_count": null,
   "metadata": {},
   "outputs": [],
   "source": []
  }
 ],
 "metadata": {
  "kernelspec": {
   "display_name": "Python 3",
   "language": "python",
   "name": "python3"
  },
  "language_info": {
   "codemirror_mode": {
    "name": "ipython",
    "version": 3
   },
   "file_extension": ".py",
   "mimetype": "text/x-python",
   "name": "python",
   "nbconvert_exporter": "python",
   "pygments_lexer": "ipython3",
   "version": "3.7.4"
  }
 },
 "nbformat": 4,
 "nbformat_minor": 2
}
