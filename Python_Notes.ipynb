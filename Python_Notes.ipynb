{
 "cells": [
  {
   "cell_type": "markdown",
   "metadata": {
    "colab_type": "text",
    "id": "NtDa_sJQo9W2"
   },
   "source": [
    "# Miscellaneous Notes"
   ]
  },
  {
   "cell_type": "markdown",
   "metadata": {
    "colab_type": "text",
    "id": "nFCnzPNApSd9"
   },
   "source": [
    "## A note on comprehensions\n",
    "\n",
    "Comprehensions in Python are very similar to the notation for describing sets in mathematics. Consider the set of all natural numbers in the interval [0, 10) that are divisible by 3. This set may be written:\n",
    "\n",
    "$$\\{n \\in N \\cap [1, 10) \\ |\\  3 \\equiv 0\\mod n\\}$$\n",
    "\n",
    "The same set in Python can be specified as \n",
    "\n",
    "```Python\n",
    "{n for n in range(1, 10) if n % 3 == 0}\n",
    "```\n",
    "We see that Python's notation is not so different from the mathematical notation. In the Python comprehension, `n for n in range(1, 10)` corresponds to $n \\in N \\cap [1, 10)$, the vertical bar used in the mathematical notation is read \"such that\" and corresponds to the `if` in the Python comprehension, and `n % 3 == 0` is just another way of expressing that 3 divides $n$.\n",
    "\n",
    "Comprehensions can be used not only to specify sets, but lists and dictionaries too.\n",
    "\n",
    "In the next two cells, two different approaches for creating a list are shown. The first uses an imperative approach, where the Python interpreter is given explicit instructions on how to build the list. The second uses a declarative approach describing to list that is wanted.\n",
    "\n"
   ]
  },
  {
   "cell_type": "code",
   "execution_count": null,
   "metadata": {
    "colab": {
     "base_uri": "https://localhost:8080/",
     "height": 35
    },
    "colab_type": "code",
    "executionInfo": {
     "elapsed": 815,
     "status": "ok",
     "timestamp": 1568088996830,
     "user": {
      "displayName": "Erik Colban",
      "photoUrl": "",
      "userId": "07941460183810655247"
     },
     "user_tz": 420
    },
    "id": "TV9roUJc5yre",
    "outputId": "f26d00c8-529c-4697-c143-b035266c47a0"
   },
   "outputs": [],
   "source": [
    "my_list = []\n",
    "for i in range(1, 11):\n",
    "    if i % 2 != 0:\n",
    "        my_list.append(i * i)\n",
    "my_list"
   ]
  },
  {
   "cell_type": "code",
   "execution_count": null,
   "metadata": {
    "colab": {
     "base_uri": "https://localhost:8080/",
     "height": 35
    },
    "colab_type": "code",
    "executionInfo": {
     "elapsed": 802,
     "status": "ok",
     "timestamp": 1568088996831,
     "user": {
      "displayName": "Erik Colban",
      "photoUrl": "",
      "userId": "07941460183810655247"
     },
     "user_tz": 420
    },
    "id": "6UkUuwLZ6FM0",
    "outputId": "ad83fc93-474c-48aa-bdcb-401e94527d7b"
   },
   "outputs": [],
   "source": [
    "my_list = [i * i \n",
    "           for i in range(1, 11) \n",
    "               if i % 2 != 0]\n",
    "my_list"
   ]
  },
  {
   "cell_type": "markdown",
   "metadata": {
    "colab_type": "text",
    "id": "w1bh9O_d6glv"
   },
   "source": [
    "Observe that the comprehension is made up of parts that appear in the imperative way of building the list. \n",
    "1. First we have the enclosing brackets `[]`, which we find in line 1 of the imperative approach.\n",
    "2. Then follows the expression `i * i` which is what is appended to the resulting list in line 4.\n",
    "3. Then the `for` expression, which is on line 2.\n",
    "4. And finally the filter `if i % 2 != 0`, which is on line 3.\n",
    "\n",
    "So one can regard a comprehension as a rearrangement of the different parts that make up the imperative way of creating a list. I contend, and many others with me, that this rearrangement makes the code more natural to read. When reading line 1 of the cell above from left to right, one gets:\n",
    "\n",
    "\"`my_list` is the list of the squares of the numbers from 1 to 11 that are odd.\"\n",
    "\n",
    "When reading the imperative code, all I know after reading the first 3 lines is that `my_list` is an empty list, we have entered a for-loop, which I don't yet know what is for, and there is a test for parity, which I don't yet know what is for. Only after reading on, am I able to put the pieces together and undertand what is happening.\n",
    "\n",
    "Here are some easy exercises that can help you ease in to comprehensions.\n"
   ]
  },
  {
   "cell_type": "code",
   "execution_count": null,
   "metadata": {
    "colab": {},
    "colab_type": "code",
    "id": "yYhnlO2lJX7K"
   },
   "outputs": [],
   "source": [
    "# A list of 10 1's (i.e., [1, 1, 1, 1, 1, 1, 1, 1, 1, 1])\n"
   ]
  },
  {
   "cell_type": "code",
   "execution_count": null,
   "metadata": {
    "colab": {},
    "colab_type": "code",
    "id": "ixHo-GNOJrzI"
   },
   "outputs": [],
   "source": [
    "# The list of numbers 10 through 1 (i.e., [10, 9, 8, ..., 2, 1])\n"
   ]
  },
  {
   "cell_type": "code",
   "execution_count": null,
   "metadata": {
    "colab": {},
    "colab_type": "code",
    "id": "nMxNNevrKXuD"
   },
   "outputs": [],
   "source": [
    "# The list of even numbers from 2 through 20\n"
   ]
  },
  {
   "cell_type": "code",
   "execution_count": null,
   "metadata": {
    "colab": {},
    "colab_type": "code",
    "id": "VBH0F6ehK5Z5"
   },
   "outputs": [],
   "source": [
    "# The set of numbers between 1 and 60 that are not divisible by 2, 3, or 5\n"
   ]
  },
  {
   "cell_type": "code",
   "execution_count": null,
   "metadata": {
    "colab": {},
    "colab_type": "code",
    "id": "EXlE131oLre6"
   },
   "outputs": [],
   "source": [
    "names = [\"Alice\", \"Bob\", \"Charlie\", \"Dave\", \"Eve\", \"Fred\", \"Gina\", \"Hank\", \"Ian\", \"Jack\"]"
   ]
  },
  {
   "cell_type": "code",
   "execution_count": null,
   "metadata": {
    "colab": {},
    "colab_type": "code",
    "id": "iG_9rXNbQvVl"
   },
   "outputs": [],
   "source": [
    "# The set of strings in names that end in a vowel\n"
   ]
  },
  {
   "cell_type": "code",
   "execution_count": null,
   "metadata": {
    "colab": {},
    "colab_type": "code",
    "id": "CUOi95hnM_H2"
   },
   "outputs": [],
   "source": [
    "# The set of all the letters in lower case that appear in names (more difficult)\n",
    "# Translate the following into a comprehension:\n",
    "\n",
    "# result = set()\n",
    "# for name in names:\n",
    "#   for c in name:\n",
    "#     res.add(c.lower())\n",
    "# result\n"
   ]
  },
  {
   "cell_type": "markdown",
   "metadata": {
    "colab_type": "text",
    "id": "TAgJnbKViJlm"
   },
   "source": [
    "Sometimes it makes more sense _not_ to use comprehension. In the following example, we can use a `defaultdict`. We initialize the dictionary with `defaultdict(set)`, see line 6 below. Whenever we reference `result[k]` for a key `k` that is not in the dictionary's key set, an entry is automatically added, and the function `set` is called to produce the value that is assigned. Because `set()` produces an empty set, new entries in the dictionary are initialized with an empty set. "
   ]
  },
  {
   "cell_type": "code",
   "execution_count": null,
   "metadata": {
    "colab": {
     "base_uri": "https://localhost:8080/",
     "height": 87
    },
    "colab_type": "code",
    "executionInfo": {
     "elapsed": 751,
     "status": "ok",
     "timestamp": 1568088996834,
     "user": {
      "displayName": "Erik Colban",
      "photoUrl": "",
      "userId": "07941460183810655247"
     },
     "user_tz": 420
    },
    "id": "3ZdFyW3FRl8O",
    "outputId": "bbad1c9d-071e-402c-e032-ff8f7b3cb93c"
   },
   "outputs": [],
   "source": [
    "# A dictionary that maps a length to the set of strings in names that have that length. \n",
    "# Do not include keys for which there are no strings in names that have that length\n",
    "\n",
    "from collections import defaultdict\n",
    "\n",
    "result = defaultdict(set)\n",
    "for name in names:\n",
    "    result[len(name)].add(name)\n",
    "dict(result)"
   ]
  },
  {
   "cell_type": "markdown",
   "metadata": {
    "colab_type": "text",
    "id": "QsdMmp4EOE2N"
   },
   "source": [
    "The above code is equivalent to:"
   ]
  },
  {
   "cell_type": "code",
   "execution_count": null,
   "metadata": {
    "colab": {
     "base_uri": "https://localhost:8080/",
     "height": 87
    },
    "colab_type": "code",
    "executionInfo": {
     "elapsed": 739,
     "status": "ok",
     "timestamp": 1568088996834,
     "user": {
      "displayName": "Erik Colban",
      "photoUrl": "",
      "userId": "07941460183810655247"
     },
     "user_tz": 420
    },
    "id": "u0Ytn9YOOJye",
    "outputId": "7f0be1a8-a77c-4b04-f70d-6434e5d9b19e"
   },
   "outputs": [],
   "source": [
    "result = {}\n",
    "for name in names:\n",
    "    k = len(name)\n",
    "    if k not in result:\n",
    "        result[k] = set()\n",
    "    result[k].add(name)\n",
    "result"
   ]
  },
  {
   "cell_type": "code",
   "execution_count": null,
   "metadata": {},
   "outputs": [],
   "source": [
    "from itertools import groupby\n",
    "\n",
    "names_sorted_by_len = sorted(names, key=len)\n",
    "{k:set(g) for k, g in groupby(names_sorted_by_len, key=len)}"
   ]
  },
  {
   "cell_type": "markdown",
   "metadata": {
    "colab_type": "text",
    "id": "7E_u7ZLnq7sA"
   },
   "source": [
    "### Worked example\n",
    "\n",
    "Let's have some fun with the English dictionary."
   ]
  },
  {
   "cell_type": "code",
   "execution_count": null,
   "metadata": {
    "colab": {
     "base_uri": "https://localhost:8080/",
     "height": 208
    },
    "colab_type": "code",
    "executionInfo": {
     "elapsed": 1682,
     "status": "ok",
     "timestamp": 1568088997790,
     "user": {
      "displayName": "Erik Colban",
      "photoUrl": "",
      "userId": "07941460183810655247"
     },
     "user_tz": 420
    },
    "id": "Wq_z3q1ZToHP",
    "outputId": "f0d70d4b-1401-42b3-e142-d6565d6aa632"
   },
   "outputs": [],
   "source": [
    "import urllib.request\n",
    "\n",
    "url = 'https://svnweb.freebsd.org/csrg/share/dict/words?view=co'\n",
    "# url = 'http://inventwithpython.com/dictionary.txt'\n",
    "response = urllib.request.urlopen(url) # response is a http.client.HTTPResponse\n",
    "data = response.read() # data is a bytes object\n",
    "word_list= [w for w in data.decode('utf-8').split('\\n') if w.islower()]\n",
    "words_len = len(word_list)\n",
    "words_len, word_list[:10]"
   ]
  },
  {
   "cell_type": "code",
   "execution_count": null,
   "metadata": {
    "colab": {},
    "colab_type": "code",
    "id": "f9n-txGHchzt"
   },
   "outputs": [],
   "source": [
    "from itertools import groupby\n",
    "\n",
    "\n",
    "words_sorted_by_len = sorted(word_list, key=len)\n",
    "words_by_len = {k:list(words_of_length_k) \n",
    "                for k, words_of_length_k in groupby(words_sorted_by_len, key=len)}"
   ]
  },
  {
   "cell_type": "code",
   "execution_count": null,
   "metadata": {
    "colab": {
     "base_uri": "https://localhost:8080/",
     "height": 35
    },
    "colab_type": "code",
    "executionInfo": {
     "elapsed": 1562,
     "status": "ok",
     "timestamp": 1568088997791,
     "user": {
      "displayName": "Erik Colban",
      "photoUrl": "",
      "userId": "07941460183810655247"
     },
     "user_tz": 420
    },
    "id": "sxyex2DHmZM0",
    "outputId": "333d23d6-fe48-481e-e62f-f6dde32ad043"
   },
   "outputs": [],
   "source": [
    "longest_word_len = max(words_by_len.keys())\n",
    "longest_words_list = words_by_len[longest_word_len]\n",
    "longest_words_list, longest_word_len"
   ]
  },
  {
   "cell_type": "markdown",
   "metadata": {
    "colab_type": "text",
    "id": "f1ENKeAOQS7G"
   },
   "source": [
    "The distribution of the word lengths:"
   ]
  },
  {
   "cell_type": "code",
   "execution_count": null,
   "metadata": {
    "colab": {
     "base_uri": "https://localhost:8080/",
     "height": 399
    },
    "colab_type": "code",
    "executionInfo": {
     "elapsed": 1552,
     "status": "ok",
     "timestamp": 1568088997791,
     "user": {
      "displayName": "Erik Colban",
      "photoUrl": "",
      "userId": "07941460183810655247"
     },
     "user_tz": 420
    },
    "id": "JiolxaZccwYP",
    "outputId": "df3f806d-76c4-4b17-d021-56caddc7e28f"
   },
   "outputs": [],
   "source": [
    "{k:len(lst) for k, lst in words_by_len.items()}"
   ]
  },
  {
   "cell_type": "markdown",
   "metadata": {
    "colab_type": "text",
    "id": "TYWl7PIQQhQP"
   },
   "source": [
    "The 10 first and the 10 last 4-letter words:"
   ]
  },
  {
   "cell_type": "code",
   "execution_count": null,
   "metadata": {
    "colab": {
     "base_uri": "https://localhost:8080/",
     "height": 364
    },
    "colab_type": "code",
    "executionInfo": {
     "elapsed": 1537,
     "status": "ok",
     "timestamp": 1568088997793,
     "user": {
      "displayName": "Erik Colban",
      "photoUrl": "",
      "userId": "07941460183810655247"
     },
     "user_tz": 420
    },
    "id": "p4ARt3ATgoHs",
    "outputId": "8f7404e3-9870-405a-8c43-af8dc48c9608"
   },
   "outputs": [],
   "source": [
    "words_len_4 = words_by_len[4]\n",
    "words_len_4.sort()\n",
    "words_len_4[:10], words_len_4[-10:]"
   ]
  },
  {
   "cell_type": "markdown",
   "metadata": {
    "colab_type": "text",
    "id": "HzjBU3gOQqhZ"
   },
   "source": [
    "The longest words in the dictionary:"
   ]
  },
  {
   "cell_type": "code",
   "execution_count": null,
   "metadata": {
    "colab": {
     "base_uri": "https://localhost:8080/",
     "height": 312
    },
    "colab_type": "code",
    "executionInfo": {
     "elapsed": 1529,
     "status": "ok",
     "timestamp": 1568088997794,
     "user": {
      "displayName": "Erik Colban",
      "photoUrl": "",
      "userId": "07941460183810655247"
     },
     "user_tz": 420
    },
    "id": "3tXpXs2WfA7D",
    "outputId": "7b23c5d0-fb7e-46fd-fa5e-6e1757e980a7"
   },
   "outputs": [],
   "source": [
    "[word for word in words_sorted_by_len if len(word) > 18]"
   ]
  },
  {
   "cell_type": "markdown",
   "metadata": {
    "colab_type": "text",
    "id": "4np6i4hIQ-yt"
   },
   "source": [
    "The mean and standard deviation of the word lengths:"
   ]
  },
  {
   "cell_type": "code",
   "execution_count": null,
   "metadata": {
    "colab": {
     "base_uri": "https://localhost:8080/",
     "height": 35
    },
    "colab_type": "code",
    "executionInfo": {
     "elapsed": 1523,
     "status": "ok",
     "timestamp": 1568088997795,
     "user": {
      "displayName": "Erik Colban",
      "photoUrl": "",
      "userId": "07941460183810655247"
     },
     "user_tz": 420
    },
    "id": "9epVluBQdTPQ",
    "outputId": "0e7ff3f6-060e-440c-945b-8cef40e52864"
   },
   "outputs": [],
   "source": [
    "# mean_word_len, variance_word_len = 0, 0 \n",
    "# for k, lst in words_by_len_dict.items():\n",
    "#   mean_word_len += k * len(lst)\n",
    "#   variance_word_len += k * k * len(lst)\n",
    "# mean_word_len /= words_len\n",
    "# variance_word_len = variance_word_len / words_len - mean_word_len ** 2\n",
    "# stdev_word_len = variance_word_len ** 0.5\n",
    "# mean_word_len, stdev_word_len\n",
    "  \n",
    "mean_word_len = sum(k * len(lst) for k, lst in words_by_len.items()) / words_len\n",
    "\n",
    "variance_word_len = sum(k * k * len(lst) for k, lst in words_by_len.items()) / words_len\\\n",
    "                    - mean_word_len ** 2\n",
    "\n",
    "stdev_word_len = variance_word_len ** 0.5\n",
    "mean_word_len, stdev_word_len"
   ]
  }
 ],
 "metadata": {
  "colab": {
   "collapsed_sections": [],
   "name": "Python_Notes.ipynb",
   "provenance": [],
   "version": "0.3.2"
  },
  "kernelspec": {
   "display_name": "Python 3",
   "language": "python",
   "name": "python3"
  },
  "language_info": {
   "codemirror_mode": {
    "name": "ipython",
    "version": 3
   },
   "file_extension": ".py",
   "mimetype": "text/x-python",
   "name": "python",
   "nbconvert_exporter": "python",
   "pygments_lexer": "ipython3",
   "version": "3.7.4"
  }
 },
 "nbformat": 4,
 "nbformat_minor": 1
}
