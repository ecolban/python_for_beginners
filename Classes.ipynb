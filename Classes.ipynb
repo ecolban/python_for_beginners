{
 "cells": [
  {
   "cell_type": "markdown",
   "metadata": {},
   "source": [
    "# Classes\n",
    "\n",
    "In Python, \"everything\" is an object, including ints, strs, floats, lists, dicts, etc. Every object has an identity and a type that may be accessed with the functions `id` and `type` respectively.\n",
    "\n",
    "*Classes* allow us to define new types. This is very useful when we cannot find any appropriate existing type. In [another notebook](http://localhost:8889/notebooks/data_types.ipynb), we looked at different ways to represent a set of countries. We saw, e.g., that a country could be represented as a tuple:"
   ]
  },
  {
   "cell_type": "code",
   "execution_count": 9,
   "metadata": {},
   "outputs": [
    {
     "name": "stdout",
     "output_type": "stream",
     "text": [
      "[1, 1, 2, 3, 5, 8, 13, 21, 34, 55, 89, 144, 233, 377, 610, 987, 1597, 2584, 4181, 6765]\n",
      "\n",
      "fibonacci(1000) = 70330367711422815821835254877183549770181269836358732742604905087154537118196933579742249494562611733487750449241765991088186363265450223647106012053374121273867339111198139373125598767690091902245245323403501\n"
     ]
    }
   ],
   "source": [
    "# ints are objects too\n",
    "\n",
    "def fibonacci(n):\n",
    "    a, b = 0, 1\n",
    "    for i in range(n):\n",
    "        a, b = b, a + b\n",
    "    return b\n",
    "\n",
    "print([fibonacci(i) for i in range(20)])\n",
    "print()\n",
    "print(f'fibonacci(1000) = {fibonacci(1000)}')"
   ]
  },
  {
   "cell_type": "code",
   "execution_count": 13,
   "metadata": {},
   "outputs": [
    {
     "name": "stdout",
     "output_type": "stream",
     "text": [
      "4372665392\n",
      "<class 'int'>\n",
      "4372665392\n"
     ]
    }
   ],
   "source": [
    "a = 42\n",
    "print(id(a))\n",
    "print(type(a))\n",
    "print(id(42))"
   ]
  },
  {
   "cell_type": "code",
   "execution_count": 14,
   "metadata": {},
   "outputs": [
    {
     "name": "stdout",
     "output_type": "stream",
     "text": [
      "The capital of France is Paris. The contry's population is 66.99 million.\n"
     ]
    }
   ],
   "source": [
    "france = (\"France\", \"Paris\", 66.99)\n",
    "\n",
    "print(f'The capital of {france[0]} is {france[1]}. ' \n",
    "      f\"The contry's population is {france[2]} million.\")"
   ]
  },
  {
   "cell_type": "markdown",
   "metadata": {},
   "source": [
    "Using such a representation can be a shorthand to solve an imminent problem, but can quickly become impractical. We have to remember the position of each of the items that make up the country tuple. Also, if we wanted to mutate a country (e.g., update the population), we would need a mutable representation of a country, such as a list. However, if a country is represented as list, we may be allowing for too much mutability. What if we wanted country name and capital to be immutable, and only the population could be altered? \n",
    "\n",
    "## First step\n",
    "\n",
    "Let's take a first stab at defining a `Country` class."
   ]
  },
  {
   "cell_type": "code",
   "execution_count": 15,
   "metadata": {},
   "outputs": [],
   "source": [
    "class Country(object):\n",
    "    \"\"\"A class that represents countries\"\"\"\n",
    "    \n",
    "    def __init__(self, name, capital, population):\n",
    "        self.name = name\n",
    "        self.capital = capital\n",
    "        self.population = population"
   ]
  },
  {
   "cell_type": "code",
   "execution_count": 16,
   "metadata": {},
   "outputs": [
    {
     "name": "stdout",
     "output_type": "stream",
     "text": [
      "The capital of France is Paris. The country's population is 66.99 million.\n"
     ]
    }
   ],
   "source": [
    "france = Country(\"France\", \"Paris\", 66.99)\n",
    "\n",
    "print(f'The capital of {france.name} is {france.capital}. ' \n",
    "      f\"The country's population is {france.population} million.\")"
   ]
  },
  {
   "cell_type": "markdown",
   "metadata": {},
   "source": [
    "This representation of Country makes the code more readable!"
   ]
  },
  {
   "cell_type": "markdown",
   "metadata": {},
   "source": [
    "Let's dissect the definition of the `Country` class:\n",
    "\n",
    "1. `class Country(object)`:  \n",
    "`class` is a keyword used when defining classes. `Country` is the class name. The convention is to use \"camel case\" for class names. `object` is the class's *superclass*. Ignore the superclass for now.\n",
    "2. `\"\"\"A class that represents countries\"\"\"`:  \n",
    "is an optional *doc string*. \n",
    "3. The `__init__` function:  \n",
    "This function always has this particular name. The first argument `self` refers to the object that this function is applied to and must always be present. When `Country(\"France\", \"Paris\", 66.99)` is called, an object of type `Country` is created, after which `__init__` is called with the new objec assigned to `self`, `\"Fance\"` assigned to `name`, `\"Paris\"` assigned to `capital`, and `66.99` assigned to `population`.\n",
    "4. The body of the `__init__` function saves the values passed to the function arguments as *object attributes*.\n",
    "\n",
    "**Note:** We can break calling `ireland = Country(\"Ireland\", \"Dublin\", 4.88)` into several steps\""
   ]
  },
  {
   "cell_type": "code",
   "execution_count": null,
   "metadata": {},
   "outputs": [],
   "source": [
    "ireland = Country.__new__(Country)\n",
    "Country.__init__(ireland, \"Ireland\", \"Dublin\", 4.88)\n",
    "ireland"
   ]
  },
  {
   "cell_type": "markdown",
   "metadata": {},
   "source": [
    "## Attribute access\n",
    "\n",
    "The attributes of any `Country` object are accessible from anywhere. In Python there is no enforcement of *private* attributes. However, if an attribute name begins with an underscore character (`_`), then this is by convention an indication that the attribute should not be referenced outside the class definition.\n",
    "\n",
    "Let's make all the object attributes \"private\" and add *getters* so we can access the these attributes without breaking any convention. Also add a *setter* to modify the population."
   ]
  },
  {
   "cell_type": "code",
   "execution_count": 17,
   "metadata": {},
   "outputs": [
    {
     "name": "stdout",
     "output_type": "stream",
     "text": [
      "The capital of France is Paris. The contry's population is 67.0 million.\n"
     ]
    }
   ],
   "source": [
    "class Country(object):\n",
    "    \"\"\"A class that represents countries\"\"\"\n",
    "    \n",
    "    def __init__(self, name, capital, population):\n",
    "        self._name = name\n",
    "        self._capital = capital\n",
    "        self._population = population\n",
    "    \n",
    "    def name(self):\n",
    "        return self._name\n",
    "    \n",
    "    def capital(self):\n",
    "        return self._capital\n",
    "    \n",
    "    def population(self):\n",
    "        return self._population\n",
    "    \n",
    "    def set_population(self, population):\n",
    "        self._population = population\n",
    "        \n",
    "france = Country(\"France\", \"Paris\", 66.99)\n",
    "\n",
    "france.set_population(67.0)\n",
    "\n",
    "print(f'The capital of {france.name()} is {france.capital()}. ' \n",
    "      f\"The contry's population is {france.population()} million.\")"
   ]
  },
  {
   "cell_type": "markdown",
   "metadata": {},
   "source": [
    "Notice that all the functions have `self` as the first argument. Calling `france.name()` is equivalent to calling..."
   ]
  },
  {
   "cell_type": "code",
   "execution_count": 18,
   "metadata": {},
   "outputs": [
    {
     "data": {
      "text/plain": [
       "'France'"
      ]
     },
     "execution_count": 18,
     "metadata": {},
     "output_type": "execute_result"
    }
   ],
   "source": [
    "Country.name(france)"
   ]
  },
  {
   "cell_type": "markdown",
   "metadata": {},
   "source": [
    "... and same holds for the other functions. The functions that are defined inside a class definition and have `self` as the first argument are often referred to as *methods*.\n",
    "\n",
    "**Note:** The first argument of a method doesn't *have* to be called `self`. It's called `self` by convention and, unless you want to confuse the readers of your code, you should use the same name."
   ]
  },
  {
   "cell_type": "markdown",
   "metadata": {},
   "source": [
    "## Inherited attributes\n",
    "\n",
    "We've seen that the builtin function `dir()` can be called to return a list of all defined variables. Similarly, this function can also be used to get a list of all attributes of a class"
   ]
  },
  {
   "cell_type": "code",
   "execution_count": 19,
   "metadata": {},
   "outputs": [
    {
     "data": {
      "text/plain": [
       "['__class__',\n",
       " '__delattr__',\n",
       " '__dict__',\n",
       " '__dir__',\n",
       " '__doc__',\n",
       " '__eq__',\n",
       " '__format__',\n",
       " '__ge__',\n",
       " '__getattribute__',\n",
       " '__gt__',\n",
       " '__hash__',\n",
       " '__init__',\n",
       " '__init_subclass__',\n",
       " '__le__',\n",
       " '__lt__',\n",
       " '__module__',\n",
       " '__ne__',\n",
       " '__new__',\n",
       " '__reduce__',\n",
       " '__reduce_ex__',\n",
       " '__repr__',\n",
       " '__setattr__',\n",
       " '__sizeof__',\n",
       " '__str__',\n",
       " '__subclasshook__',\n",
       " '__weakref__',\n",
       " 'capital',\n",
       " 'name',\n",
       " 'population',\n",
       " 'set_population']"
      ]
     },
     "execution_count": 19,
     "metadata": {},
     "output_type": "execute_result"
    }
   ],
   "source": [
    "dir(Country)"
   ]
  },
  {
   "cell_type": "markdown",
   "metadata": {},
   "source": [
    "The attributes we've defined are at the end of the list. Notice that the private attributes `_name`, `_capital`, and `_population` are not in this list. \n",
    "\n",
    "The remaining attributes are inherited from `object`, which is `Country`' s superclass. Because they start and end in **d**ouble **under**scores, they are often referred to as *dunder methods*.\n",
    "\n",
    "Normally, the dunder methods are never called directly. They are only called by certain builtin functions. For example, `__str__` is called when calling `str` on an object. It's also called when printing an object. Similarly, `__repr__` is called when `repr` is called on the object. This function should return an expression that, when evaluated, is equal to the object. And what does \"equal\" mean in this context? That's defined by the `__eq__` method."
   ]
  },
  {
   "cell_type": "markdown",
   "metadata": {},
   "source": [
    "By default `str` doesn't return anything that's intelligible. We can change that by *overriding* the `__str__` method."
   ]
  },
  {
   "cell_type": "code",
   "execution_count": 20,
   "metadata": {},
   "outputs": [
    {
     "name": "stdout",
     "output_type": "stream",
     "text": [
      "<__main__.Country object at 0x1094c03d0>\n"
     ]
    },
    {
     "data": {
      "text/plain": [
       "'<__main__.Country object at 0x1094c03d0>'"
      ]
     },
     "execution_count": 20,
     "metadata": {},
     "output_type": "execute_result"
    }
   ],
   "source": [
    "print(france)\n",
    "str(france)"
   ]
  },
  {
   "cell_type": "markdown",
   "metadata": {},
   "source": [
    "Same goes for `repr`:"
   ]
  },
  {
   "cell_type": "code",
   "execution_count": 22,
   "metadata": {},
   "outputs": [
    {
     "data": {
      "text/plain": [
       "'<__main__.Country object at 0x1094c03d0>'"
      ]
     },
     "execution_count": 22,
     "metadata": {},
     "output_type": "execute_result"
    }
   ],
   "source": [
    "repr(france)"
   ]
  },
  {
   "cell_type": "markdown",
   "metadata": {},
   "source": [
    "Two distinct objects are never equal unless `__eq__` is overridden."
   ]
  },
  {
   "cell_type": "code",
   "execution_count": null,
   "metadata": {},
   "outputs": [],
   "source": [
    "france == Country(\"France\", \"Paris\", 66.99)"
   ]
  },
  {
   "cell_type": "code",
   "execution_count": 24,
   "metadata": {},
   "outputs": [],
   "source": [
    "class Country(object):\n",
    "    \"\"\"A class that represents countries\"\"\"\n",
    "    \n",
    "    def __init__(self, name, capital, population):\n",
    "        self._name = name\n",
    "        self._capital = capital\n",
    "        self._population = population\n",
    "    \n",
    "    def name(self):\n",
    "        return self._name\n",
    "    \n",
    "    def capital(self):\n",
    "        return self._capital\n",
    "    \n",
    "    def population(self):\n",
    "        return self._population\n",
    "    \n",
    "    def set_population(self, population):\n",
    "        self._population = population\n",
    "        \n",
    "    def __str__(self):\n",
    "        return f'Country({self._name}, {self._capital}, {self._population})'\n",
    "    \n",
    "    def __repr__(self):\n",
    "        return f'Country({repr(self._name)}, {repr(self._capital)}, {repr(self._population)})'\n",
    "    \n",
    "    def __eq__(self, other):\n",
    "        if not isinstance(other, Country):\n",
    "            return False\n",
    "        return self._name == other._name\\\n",
    "           and self._capital == other._capital\\\n",
    "           and self._population == other._population"
   ]
  },
  {
   "cell_type": "code",
   "execution_count": 25,
   "metadata": {},
   "outputs": [
    {
     "name": "stdout",
     "output_type": "stream",
     "text": [
      "Country(France, Paris, 66.99)\n"
     ]
    },
    {
     "data": {
      "text/plain": [
       "'Country(France, Paris, 66.99)'"
      ]
     },
     "execution_count": 25,
     "metadata": {},
     "output_type": "execute_result"
    }
   ],
   "source": [
    "france = Country(\"France\", \"Paris\", 66.99)\n",
    "print(france)\n",
    "str(france)"
   ]
  },
  {
   "cell_type": "code",
   "execution_count": 26,
   "metadata": {},
   "outputs": [
    {
     "data": {
      "text/plain": [
       "\"Country('France', 'Paris', 66.99)\""
      ]
     },
     "execution_count": 26,
     "metadata": {},
     "output_type": "execute_result"
    }
   ],
   "source": [
    "repr(france)"
   ]
  },
  {
   "cell_type": "code",
   "execution_count": 27,
   "metadata": {},
   "outputs": [],
   "source": [
    "france2 = eval(repr(france))"
   ]
  },
  {
   "cell_type": "code",
   "execution_count": 28,
   "metadata": {},
   "outputs": [
    {
     "data": {
      "text/plain": [
       "True"
      ]
     },
     "execution_count": 28,
     "metadata": {},
     "output_type": "execute_result"
    }
   ],
   "source": [
    "france == france2"
   ]
  },
  {
   "cell_type": "code",
   "execution_count": 29,
   "metadata": {},
   "outputs": [
    {
     "data": {
      "text/plain": [
       "False"
      ]
     },
     "execution_count": 29,
     "metadata": {},
     "output_type": "execute_result"
    }
   ],
   "source": [
    "id(france) == id(france2)"
   ]
  },
  {
   "cell_type": "code",
   "execution_count": 30,
   "metadata": {},
   "outputs": [
    {
     "data": {
      "text/plain": [
       "True"
      ]
     },
     "execution_count": 30,
     "metadata": {},
     "output_type": "execute_result"
    }
   ],
   "source": [
    "france != 42"
   ]
  },
  {
   "cell_type": "code",
   "execution_count": 33,
   "metadata": {},
   "outputs": [
    {
     "name": "stdout",
     "output_type": "stream",
     "text": [
      "Country(France, Paris, 100.0) Country(France, Paris, 66.99)\n"
     ]
    }
   ],
   "source": [
    "france.set_population(100.0)\n",
    "france == france2\n",
    "print(france, france2)"
   ]
  },
  {
   "cell_type": "code",
   "execution_count": 39,
   "metadata": {},
   "outputs": [
    {
     "data": {
      "text/plain": [
       "False"
      ]
     },
     "execution_count": 39,
     "metadata": {},
     "output_type": "execute_result"
    }
   ],
   "source": [
    "a = [[0] * 3 for _ in range(2)]\n",
    "id(a[0]) == id(a[1])\n",
    "# a[0][0] = 1\n",
    "# a"
   ]
  },
  {
   "cell_type": "markdown",
   "metadata": {},
   "source": [
    "## Exercise\n",
    "\n",
    "Define a `Temperature` class. One should be able to instantiate a temperature object in the following way:\n",
    "\n",
    "```Python\n",
    "temp = Temperature(25.5, scale='Celsius')\n",
    "```\n",
    "\n",
    "This should assign a Temperature object to `temp` that represents a temperature of 25.5 ℃. If the argument `scale` is omitted, it defaults to `\"Celsius\"`. The scale can only be `\"Celsius\"`, `\"Kelvin\"` or `\"Fahrenheit\"`. If any other value is passed, an exception should be raised with an informative message.\n"
   ]
  },
  {
   "cell_type": "code",
   "execution_count": 86,
   "metadata": {},
   "outputs": [],
   "source": [
    "class Temperature(object):\n",
    "    \n",
    "    absolute_zero = 273.15\n",
    "    \n",
    "    def __init__(self, temp, scale=\"Celsius\"):\n",
    "        \n",
    "        if scale not in (\"Kelvin\", \"Celsius\", \"Fahrenheit\"):\n",
    "            raise ValueError(f\"Unknown temperature scale: {scale}\")\n",
    "            \n",
    "        self._temp = temp if scale == \"Kelvin\"\\\n",
    "                else (temp + absolute_zero) if scale == \"Celsius\"\\\n",
    "                else ((temp - 32) * 5 / 9 + 273.15) if scale == \"Fahrenheit\"\\\n",
    "                else None\n",
    "        \n",
    "    def temperature(self, scale=\"Celsius\"):\n",
    "        absolute_zero = Temperature.absolute_zero\n",
    "        if scale == \"Kelvin\": \n",
    "            return round(self._temp, 2)\n",
    "        if scale == \"Celsius\": \n",
    "            return round(self._temp - absolute_zero, 2)\n",
    "        if scale == \"Fahrenheit\": \n",
    "            return round((self._temp - absolute_zero) * 9 / 5 + 32, 2)\n",
    "        raise ValueError(f\"Unknown temperature scale: {scale}\")\n",
    "        \n",
    "    def __eq__(self, other):\n",
    "        if not isinstance(Temperature, other):\n",
    "            return False\n",
    "        return abs(self._temp - other._temp) <= 1e-2\n",
    "    \n",
    "    def __str__(self):\n",
    "        return f'Temperature({round(self._temp, 2)}, \"Kelvin\")'\n",
    "    \n",
    "    __repr__ = __str__\n"
   ]
  },
  {
   "cell_type": "code",
   "execution_count": 87,
   "metadata": {},
   "outputs": [
    {
     "data": {
      "text/plain": [
       "'Temperature(294.26, \"Kelvin\")'"
      ]
     },
     "execution_count": 87,
     "metadata": {},
     "output_type": "execute_result"
    }
   ],
   "source": [
    "temp_today = Temperature(70.0, scale=\"Fahrenheit\")\n",
    "temp_today.temperature(\"Celsius\")\n",
    "str(temp_today)"
   ]
  },
  {
   "cell_type": "code",
   "execution_count": 88,
   "metadata": {},
   "outputs": [
    {
     "data": {
      "text/plain": [
       "'Temperature(294.26, \"Kelvin\")'"
      ]
     },
     "execution_count": 88,
     "metadata": {},
     "output_type": "execute_result"
    }
   ],
   "source": [
    "repr(temp_today)"
   ]
  },
  {
   "cell_type": "code",
   "execution_count": 89,
   "metadata": {},
   "outputs": [
    {
     "data": {
      "text/plain": [
       "Temperature(294.26, \"Kelvin\")"
      ]
     },
     "execution_count": 89,
     "metadata": {},
     "output_type": "execute_result"
    }
   ],
   "source": [
    "eval(_)"
   ]
  },
  {
   "cell_type": "code",
   "execution_count": 85,
   "metadata": {},
   "outputs": [
    {
     "name": "stdout",
     "output_type": "stream",
     "text": [
      "abs_zero in Fahrenheit = -459.67\n",
      "abs_zero = Temperature(0, \"Kelvin\")\n"
     ]
    }
   ],
   "source": [
    "abs_zero = Temperature(0, \"Kelvin\")\n",
    "print(f'abs_zero in Fahrenheit = {abs_zero.temperature(\"Fahrenheit\")}')\n",
    "print(f'abs_zero = {abs_zero}')"
   ]
  },
  {
   "cell_type": "markdown",
   "metadata": {},
   "source": [
    "Let the class have a private `_temperature` attribute and define a getter:\n",
    "\n",
    "```Python\n",
    "   def temperature(self, scale=\"Celcius\"):\n",
    "        pass\n",
    "```"
   ]
  },
  {
   "cell_type": "markdown",
   "metadata": {},
   "source": [
    "Let the `__init__` method check that the temperature is above absolute zero (-273.15 ℃) and raise a ValueError if it's not."
   ]
  },
  {
   "cell_type": "markdown",
   "metadata": {},
   "source": [
    "Override the methods `__eq__`, `__str__`, `__repr__`. Identify any other dunder methods which it makes sense to override, and override them too."
   ]
  },
  {
   "cell_type": "code",
   "execution_count": null,
   "metadata": {},
   "outputs": [],
   "source": []
  }
 ],
 "metadata": {
  "kernelspec": {
   "display_name": "Python 3",
   "language": "python",
   "name": "python3"
  },
  "language_info": {
   "codemirror_mode": {
    "name": "ipython",
    "version": 3
   },
   "file_extension": ".py",
   "mimetype": "text/x-python",
   "name": "python",
   "nbconvert_exporter": "python",
   "pygments_lexer": "ipython3",
   "version": "3.7.4"
  }
 },
 "nbformat": 4,
 "nbformat_minor": 2
}
