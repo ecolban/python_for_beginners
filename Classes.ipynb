{
 "cells": [
  {
   "cell_type": "markdown",
   "metadata": {},
   "source": [
    "# Classes\n",
    "\n",
    "In Python, \"everything\" is an object, including ints, strs, floats, lists, dicts, etc. Every object has an identity and a type that may be accessed with the functions `id` and `type` respectively."
   ]
  },
  {
   "cell_type": "code",
   "execution_count": null,
   "metadata": {},
   "outputs": [],
   "source": [
    "a = 42\n",
    "print(id(a))\n",
    "print(type(a))\n",
    "print(id(42))"
   ]
  },
  {
   "cell_type": "markdown",
   "metadata": {},
   "source": [
    "*Classes* allow us to define new types. This is very useful when we cannot find any appropriate existing type. In [another notebook](http://localhost:8889/notebooks/data_types.ipynb), we looked at different ways to represent a set of countries. We saw, e.g., that a country could be represented as a tuple:"
   ]
  },
  {
   "cell_type": "code",
   "execution_count": null,
   "metadata": {},
   "outputs": [],
   "source": [
    "france = (\"France\", \"Paris\", 66.99)\n",
    "\n",
    "print(f'The capital of {france[0]} is {france[1]}. ' \n",
    "      f\"The contry's population is {france[2]} million.\")"
   ]
  },
  {
   "cell_type": "markdown",
   "metadata": {},
   "source": [
    "Using such a representation can be a shorthand to solve an imminent problem, but can quickly become impractical. We have to remember the position of each of the items that make up the country tuple. Also, if we wanted to mutate a country (e.g., update the population), we would need a mutable representation of a country, such as a list. However, if a country is represented as list, we may be allowing for too much mutability. What if we wanted country name and capital to be immutable, and only the population could be altered? \n",
    "\n",
    "## First step\n",
    "\n",
    "Let's take a first stab at defining a `Country` class."
   ]
  },
  {
   "cell_type": "code",
   "execution_count": null,
   "metadata": {},
   "outputs": [],
   "source": [
    "class Country(object):\n",
    "    \"\"\"A class that represents countries\"\"\"\n",
    "    \n",
    "    def __init__(self, name, capital, population):\n",
    "        self.name = name\n",
    "        self.capital = capital\n",
    "        self.population = population"
   ]
  },
  {
   "cell_type": "code",
   "execution_count": null,
   "metadata": {},
   "outputs": [],
   "source": [
    "france = Country(\"France\", \"Paris\", 66.99)\n",
    "\n",
    "print(f'The capital of {france.name} is {france.capital}. ' \n",
    "      f\"The country's population is {france.population} million.\")"
   ]
  },
  {
   "cell_type": "markdown",
   "metadata": {},
   "source": [
    "This representation of Country makes the code more readable!"
   ]
  },
  {
   "cell_type": "markdown",
   "metadata": {},
   "source": [
    "Let's dissect the definition of the `Country` class:\n",
    "\n",
    "1. `class Country(object)`:  \n",
    "`class` is a keyword used when defining classes. `Country` is the class name. The convention is to use \"camel case\" for class names. `object` is the class's *superclass*. Ignore the superclass for now.\n",
    "2. `\"\"\"A class that represents countries\"\"\"`:  \n",
    "is an optional *doc string*. \n",
    "3. The `__init__` function:  \n",
    "This function always has this particular name. The first argument `self` refers to the object that this function is applied to and must always be present. When `Country(\"France\", \"Paris\", 66.99)` is called, an object of type `Country` is created, after which `__init__` is called with the new objec assigned to `self`, `\"France\"` assigned to `name`, `\"Paris\"` assigned to `capital`, and `66.99` assigned to `population`.\n",
    "4. The body of the `__init__` function saves the values passed to the function arguments as *object attributes*.\n",
    "\n",
    "**Note:** We can break calling `ireland = Country(\"Ireland\", \"Dublin\", 4.88)` into several steps\""
   ]
  },
  {
   "cell_type": "code",
   "execution_count": null,
   "metadata": {},
   "outputs": [],
   "source": [
    "ireland = Country.__new__(Country)\n",
    "Country.__init__(ireland, \"Ireland\", \"Dublin\", 4.88)\n",
    "ireland"
   ]
  },
  {
   "cell_type": "markdown",
   "metadata": {},
   "source": [
    "## Attribute access\n",
    "\n",
    "The attributes of any `Country` object are accessible from anywhere. In Python there is no enforcement of *private* attributes. However, if an attribute name begins with an underscore character (`_`), then this is by convention an indication that the attribute should not be referenced outside the class definition.\n",
    "\n",
    "Let's make all the object attributes \"private\" and add *getters* so we can access the these attributes without breaking any convention. Also add a *setter* to modify the population."
   ]
  },
  {
   "cell_type": "code",
   "execution_count": null,
   "metadata": {},
   "outputs": [],
   "source": [
    "class Country(object):\n",
    "    \"\"\"A class that represents countries\"\"\"\n",
    "    def __init__(self, name, capital, population):\n",
    "        self._name = name\n",
    "        self._capital = capital\n",
    "        self._population = population\n",
    "\n",
    "    def name(self):\n",
    "        return self._name\n",
    "\n",
    "    def capital(self):\n",
    "        return self._capital\n",
    "\n",
    "    def population(self):\n",
    "        return self._population\n",
    "\n",
    "    def set_population(self, population):\n",
    "        self._population = population\n",
    "\n",
    "\n",
    "france = Country(\"France\", \"Paris\", 66.99)\n",
    "\n",
    "france.set_population(67.0)\n",
    "\n",
    "print(f'The capital of {france.name()} is {france.capital()}. '\n",
    "      f\"The contry's population is {france.population()} million.\")"
   ]
  },
  {
   "cell_type": "markdown",
   "metadata": {},
   "source": [
    "Notice that all the functions have `self` as the first argument. Calling `france.name()` is equivalent to calling..."
   ]
  },
  {
   "cell_type": "code",
   "execution_count": null,
   "metadata": {},
   "outputs": [],
   "source": [
    "Country.name(france)"
   ]
  },
  {
   "cell_type": "markdown",
   "metadata": {},
   "source": [
    "... and same holds for the other functions. The functions that are defined inside a class definition and have `self` as the first argument are often referred to as *methods*.\n",
    "\n",
    "**Note:** The first argument of a method doesn't *have* to be called `self`. It's called `self` by convention and, unless you want to confuse the readers of your code, you should use the same name."
   ]
  },
  {
   "cell_type": "markdown",
   "metadata": {},
   "source": [
    "## Inherited attributes\n",
    "\n",
    "We've seen that the builtin function `dir()` can be called to return a list of all defined variables. Similarly, this function can also be used to get a list of all attributes of a class"
   ]
  },
  {
   "cell_type": "code",
   "execution_count": null,
   "metadata": {},
   "outputs": [],
   "source": [
    "dir(Country)"
   ]
  },
  {
   "cell_type": "markdown",
   "metadata": {},
   "source": [
    "The attributes we've defined are at the end of the list. Notice that the private attributes `_name`, `_capital`, and `_population` are not in this list. \n",
    "\n",
    "The remaining attributes are inherited from `object`, which is `Country`' s superclass. Because they start and end in **d**ouble **under**scores, they are often referred to as *dunder methods*.\n",
    "\n",
    "Normally, the dunder methods are never called directly. They are only called by certain builtin functions. For example, `__str__` is called when calling `str` on an object. It's also called when printing an object. Similarly, `__repr__` is called when `repr` is called on the object. This function should return an expression that, when evaluated, is equal to the object. And what does \"equal\" mean in this context? That's defined by the `__eq__` method."
   ]
  },
  {
   "cell_type": "markdown",
   "metadata": {},
   "source": [
    "By default `str` doesn't return anything that's intelligible. We can change that by *overriding* the `__str__` method."
   ]
  },
  {
   "cell_type": "code",
   "execution_count": null,
   "metadata": {},
   "outputs": [],
   "source": [
    "print(france)\n",
    "str(france)"
   ]
  },
  {
   "cell_type": "markdown",
   "metadata": {},
   "source": [
    "Same goes for `repr`:"
   ]
  },
  {
   "cell_type": "code",
   "execution_count": null,
   "metadata": {},
   "outputs": [],
   "source": [
    "repr(france)"
   ]
  },
  {
   "cell_type": "markdown",
   "metadata": {},
   "source": [
    "Two distinct objects are never equal unless `__eq__` is overridden."
   ]
  },
  {
   "cell_type": "code",
   "execution_count": null,
   "metadata": {},
   "outputs": [],
   "source": [
    "france == Country(\"France\", \"Paris\", 66.99)"
   ]
  },
  {
   "cell_type": "code",
   "execution_count": null,
   "metadata": {},
   "outputs": [],
   "source": [
    "class Country(object):\n",
    "    \"\"\"A class that represents countries\"\"\"\n",
    "    def __init__(self, name, capital, population):\n",
    "        self._name = name\n",
    "        self._capital = capital\n",
    "        self._population = population\n",
    "\n",
    "    def name(self):\n",
    "        return self._name\n",
    "\n",
    "    def capital(self):\n",
    "        return self._capital\n",
    "\n",
    "    def population(self):\n",
    "        return self._population\n",
    "\n",
    "    def set_population(self, population):\n",
    "        self._population = population\n",
    "\n",
    "    def __str__(self):\n",
    "        return f'Country({self._name}, {self._capital}, {self._population})'\n",
    "\n",
    "    def __repr__(self):\n",
    "        return f'Country({repr(self._name)}, {repr(self._capital)}, {repr(self._population)})'\n",
    "\n",
    "    def __eq__(self, other):\n",
    "        if not isinstance(other, Country):\n",
    "            return False\n",
    "        return self._name == other._name\\\n",
    "           and self._capital == other._capital\\\n",
    "           and self._population == other._population"
   ]
  },
  {
   "cell_type": "code",
   "execution_count": null,
   "metadata": {},
   "outputs": [],
   "source": [
    "france = Country(\"France\", \"Paris\", 66.99)\n",
    "print(france)\n",
    "str(france)"
   ]
  },
  {
   "cell_type": "code",
   "execution_count": null,
   "metadata": {},
   "outputs": [],
   "source": [
    "repr(france)"
   ]
  },
  {
   "cell_type": "code",
   "execution_count": null,
   "metadata": {},
   "outputs": [],
   "source": [
    "france2 = eval(repr(france))"
   ]
  },
  {
   "cell_type": "code",
   "execution_count": null,
   "metadata": {},
   "outputs": [],
   "source": [
    "france == france2"
   ]
  },
  {
   "cell_type": "code",
   "execution_count": null,
   "metadata": {},
   "outputs": [],
   "source": [
    "id(france) == id(france2)"
   ]
  },
  {
   "cell_type": "code",
   "execution_count": null,
   "metadata": {},
   "outputs": [],
   "source": [
    "france != 42"
   ]
  },
  {
   "cell_type": "code",
   "execution_count": null,
   "metadata": {},
   "outputs": [],
   "source": [
    "france.set_population(100.0)\n",
    "france == france2\n",
    "print(france, france2)"
   ]
  },
  {
   "cell_type": "code",
   "execution_count": null,
   "metadata": {},
   "outputs": [],
   "source": [
    "a = [[0] * 3 for _ in range(2)]\n",
    "id(a[0]) == id(a[1])\n",
    "# a[0][0] = 1\n",
    "# a"
   ]
  },
  {
   "cell_type": "markdown",
   "metadata": {
    "solution2": "hidden",
    "solution2_first": true
   },
   "source": [
    "## Exercise 1\n",
    "\n",
    "Define a `Temperature` class. One should be able to instantiate a temperature object in the following way:\n",
    "\n",
    "```Python\n",
    "temp = Temperature(25.5, scale='Celsius')\n",
    "```\n",
    "\n",
    "This should assign a Temperature object to `temp` that represents a temperature of 25.5 ℃. If the argument `scale` is omitted, it defaults to `\"Celsius\"`. The scale can only be `\"Celsius\"`, `\"Kelvin\"` or `\"Fahrenheit\"`. If any other value is passed, an exception should be raised with an informative message.\n"
   ]
  },
  {
   "cell_type": "code",
   "execution_count": null,
   "metadata": {
    "solution2": "hidden"
   },
   "outputs": [],
   "source": [
    "class Temperature(object):\n",
    "\n",
    "    absolute_zero = 273.15\n",
    "\n",
    "    def __init__(self, temp, scale=\"Celsius\"):\n",
    "\n",
    "        if scale not in (\"Kelvin\", \"Celsius\", \"Fahrenheit\"):\n",
    "            raise ValueError(f\"Unknown temperature scale: {scale}\")\n",
    "\n",
    "        self._temperature = temp if scale == \"Kelvin\"\\\n",
    "                else (temp + Temperature.absolute_zero) if scale == \"Celsius\"\\\n",
    "                else ((temp - 32) * 5 / 9 + Temperature.absolute_zero) if scale == \"Fahrenheit\"\\\n",
    "                else None\n",
    "        if self._temperature < 0:\n",
    "            self._temperature = 0\n",
    "            raise ValueError(\"Temperature cannot be below absolute zero.\")\n",
    "\n",
    "    def temperature(self, scale=\"Celsius\"):\n",
    "        absolute_zero = Temperature.absolute_zero\n",
    "        if scale == \"Kelvin\":\n",
    "            return round(self._temperature, 2)\n",
    "        if scale == \"Celsius\":\n",
    "            return round(self._temperature - absolute_zero, 2)\n",
    "        if scale == \"Fahrenheit\":\n",
    "            return round((self._temperature - absolute_zero) * 9 / 5 + 32, 2)\n",
    "        raise ValueError(f\"Unknown temperature scale: {scale}\")\n",
    "\n",
    "    def __eq__(self, other):\n",
    "        return isinstance(other, Temperature)and\\\n",
    "               abs(self._temperature - other._temperature) < 1e-2\n",
    "\n",
    "    def __str__(self):\n",
    "        return f'Temperature({round(self._temperature, 2)}, \"Kelvin\")'\n",
    "\n",
    "    __repr__ = __str__\n",
    "\n",
    "    def __hash__(self):\n",
    "        return hash(self._temperature)\n",
    "\n",
    "    def __lt__(self, other):\n",
    "        return isinstance(other, Temperature) and\\\n",
    "               self._temperature < other._temperature\n",
    "    \n",
    "    def __add__(self, other):\n",
    "        if not isinstance(other, Temperature): \n",
    "            raise TypeError()\n",
    "        return Temperature(self._temperature + other._temperature, \"Kelvin\")\n",
    "    \n",
    "#     __iadd__ = __add__"
   ]
  },
  {
   "cell_type": "markdown",
   "metadata": {},
   "source": [
    "Let the class have a private `_temperature` attribute and define a getter:\n",
    "\n",
    "```Python\n",
    "   def temperature(self, scale=\"Celcius\"):\n",
    "        pass\n",
    "```"
   ]
  },
  {
   "cell_type": "code",
   "execution_count": null,
   "metadata": {},
   "outputs": [],
   "source": [
    "temp_today = Temperature(70.0, scale=\"Fahrenheit\")\n",
    "temp_today.temperature(\"Celsius\")\n",
    "str(temp_today)"
   ]
  },
  {
   "cell_type": "code",
   "execution_count": null,
   "metadata": {},
   "outputs": [],
   "source": [
    "Temperature.absolute_zero"
   ]
  },
  {
   "cell_type": "code",
   "execution_count": null,
   "metadata": {},
   "outputs": [],
   "source": [
    "repr(temp_today)"
   ]
  },
  {
   "cell_type": "code",
   "execution_count": null,
   "metadata": {},
   "outputs": [],
   "source": [
    "eval(_)"
   ]
  },
  {
   "cell_type": "code",
   "execution_count": null,
   "metadata": {},
   "outputs": [],
   "source": [
    "abs_zero = Temperature(0, \"Kelvin\")\n",
    "print(f'abs_zero in Fahrenheit = {abs_zero.temperature(\"Fahrenheit\")}')\n",
    "print(f'abs_zero = {abs_zero}')"
   ]
  },
  {
   "cell_type": "markdown",
   "metadata": {},
   "source": [
    "Let the `__init__` method check that the temperature is above absolute zero (-273.15 ℃) and raise a ValueError if it's not."
   ]
  },
  {
   "cell_type": "code",
   "execution_count": null,
   "metadata": {},
   "outputs": [],
   "source": [
    "try:\n",
    "    impossible_temp = Temperature(-300)\n",
    "except ValueError as e:\n",
    "    print(f\"{e} Luckily we caught that one!\")"
   ]
  },
  {
   "cell_type": "markdown",
   "metadata": {},
   "source": [
    "Override the methods `__eq__`, `__hash__`, `__str__`, `__repr__`. Identify any other dunder methods which it makes sense to override, and override them too. Verify that you can make a set of Temperature objects."
   ]
  },
  {
   "cell_type": "code",
   "execution_count": null,
   "metadata": {},
   "outputs": [],
   "source": [
    "s = {\n",
    "    Temperature(22),\n",
    "    Temperature(10),\n",
    "    Temperature(20),\n",
    "    Temperature(70, \"Fahrenheit\")\n",
    "}\n",
    "\n",
    "print(Temperature(10) in s)\n",
    "temps = sorted(s)\n",
    "print(temps)\n",
    "print(min(s), max(s))\n",
    "print((Temperature(75, \"Fahrenheit\") + Temperature(3, \"Kelvin\")).temperature(\"Fahrenheit\"))\n",
    "\n",
    "t0 = Temperature(0, \"Celsius\")\n",
    "t0 += Temperature(10, \"Kelvin\")\n",
    "print(f't0 = {t0}')\n",
    "# print(sum(s, Temperature.absolute_zero))\n",
    "sum?"
   ]
  },
  {
   "cell_type": "markdown",
   "metadata": {},
   "source": [
    "## Exercise 2\n",
    "\n",
    "Let's implement a heap. A heap is a *complete binary tree* such that the value of a parent is smaller (in case of a min heap) or greater (in case of a max heap) than or equal to the values of the children (if any). This assumes that the values of the nodes are comparable.\n",
    "\n",
    "![Max Heap](https://upload.wikimedia.org/wikipedia/commons/3/38/Max-Heap.svg)\n",
    "\n",
    "Heaps can be represented by lists. If one were to index the nodes starting starting with the root (index=0) and continuing downwards left to right, then each node will have an index that is $2x + 1$ if $x$ is the index of the parent and it's a left node, or $2x + 2$ if it's a right node.\n",
    "\n",
    "![Heap as array](https://upload.wikimedia.org/wikipedia/commons/d/d2/Heap-as-array.svg)\n",
    "\n",
    "In this exercise, we will implement a min heap."
   ]
  },
  {
   "cell_type": "code",
   "execution_count": null,
   "metadata": {},
   "outputs": [],
   "source": [
    "# Example of a list representing a min heap\n",
    "[1, 2, 3, 7, 6, 3, 4, 8]"
   ]
  },
  {
   "cell_type": "markdown",
   "metadata": {
    "solution2": "hidden",
    "solution2_first": true
   },
   "source": [
    "1. Define a class `Heap` with an `__init__` method that takes a list as argument."
   ]
  },
  {
   "cell_type": "code",
   "execution_count": null,
   "metadata": {
    "solution2": "hidden"
   },
   "outputs": [],
   "source": [
    "class Heap(object):\n",
    "    \n",
    "    def __init__(self, lst):\n",
    "        self._lst = lst[:]"
   ]
  },
  {
   "cell_type": "code",
   "execution_count": null,
   "metadata": {},
   "outputs": [],
   "source": [
    "# Your solution here\n",
    "class Heap(object):\n",
    "    pass"
   ]
  },
  {
   "cell_type": "markdown",
   "metadata": {
    "solution2": "hidden",
    "solution2_first": true
   },
   "source": [
    "Add a function `heapify(lst)`, which, when called, returns a new list with the same elements as it's argument but such that the returned list satisfies the heap condition. Assume that the elements are comparable."
   ]
  },
  {
   "cell_type": "code",
   "execution_count": null,
   "metadata": {
    "solution2": "hidden"
   },
   "outputs": [],
   "source": [
    "def heapify(lst):\n",
    "    if not lst: return []\n",
    "    res = lst[:]\n",
    "    n = len(res)\n",
    "    \n",
    "    def sift_down_rec(i):\n",
    "        lidx = 2 * i + 1\n",
    "        ridx = lidx + 1\n",
    "        if lidx >= n or\\\n",
    "           ridx >= n and res[i] <= res[lidx] or\\\n",
    "           res[i] <= res[lidx] and res[i] <= res[ridx]: \n",
    "            return\n",
    "        if ridx >= n or res[lidx] <= res[ridx]:\n",
    "            res[lidx], res[i] = res[i], res[lidx]\n",
    "            sift_down_rec(lidx)\n",
    "        else:\n",
    "            res[ridx], res[i] = res[i], res[ridx]\n",
    "            sift_down_rec(ridx)\n",
    "\n",
    "    def sift_down_iter(i):\n",
    "        while True:\n",
    "            lidx = 2 * i + 1\n",
    "            ridx = lidx + 1\n",
    "            if lidx >= n or\\\n",
    "               ridx >= n and res[i] <= res[lidx] or\\\n",
    "               res[i] <= res[lidx] and res[i] <= res[ridx]: \n",
    "                break\n",
    "            if ridx >= n or res[lidx] <= res[ridx]:\n",
    "                res[lidx], res[i] = res[i], res[lidx]\n",
    "                i = lidx\n",
    "            else:\n",
    "                res[ridx], res[i] = res[i], res[ridx]\n",
    "                i = ridx\n",
    "        \n",
    "        \n",
    "    for i in range((n - 2) // 2, -1, -1):\n",
    "        sift_down_iter(i)\n",
    "    return res\n",
    "    "
   ]
  },
  {
   "cell_type": "code",
   "execution_count": null,
   "metadata": {},
   "outputs": [],
   "source": [
    "# Your solution here\n",
    "def heapify(lst):\n",
    "    pass"
   ]
  },
  {
   "cell_type": "code",
   "execution_count": null,
   "metadata": {},
   "outputs": [],
   "source": [
    "heap = heapify([7, 4, 7, 3, 2, 8, 1, 4, 3, 1])\n",
    "heap"
   ]
  },
  {
   "cell_type": "markdown",
   "metadata": {
    "solution2": "hidden",
    "solution2_first": true
   },
   "source": [
    "Move `heapify` to the class `Heap` and call it in `__init__`. Rename it so it appears as private."
   ]
  },
  {
   "cell_type": "code",
   "execution_count": null,
   "metadata": {
    "solution2": "hidden"
   },
   "outputs": [],
   "source": [
    "class Heap(object):\n",
    "    \n",
    "    def __init__(self, lst):\n",
    "        self._lst = lst[:]\n",
    "        self._heapify()\n",
    "    \n",
    "\n",
    "    def _heapify(self):\n",
    "        if not self._lst: return\n",
    "        n = len(self._lst)\n",
    "        for i in range((n - 2) // 2, -1, -1):\n",
    "            self._sift_down(i)\n",
    "    \n",
    "    def _sift_down(self, i):\n",
    "        \"\"\"assert(0 <= i < len(self._lst))\"\"\"\n",
    "        n = len(self._lst)\n",
    "        lidx = 2 * i + 1\n",
    "        ridx = lidx + 1\n",
    "        if lidx >= n or\\\n",
    "           ridx >= n and self._lst[i] <= self._lst[lidx] or\\\n",
    "           self._lst[i] <= self._lst[lidx] and self._lst[i] <= self._lst[ridx]: \n",
    "            pass\n",
    "        elif ridx >= n or self._lst[lidx] <= self._lst[ridx]:\n",
    "            self._lst[lidx], self._lst[i] = self._lst[i], self._lst[lidx]\n",
    "            self._sift_down(lidx)\n",
    "        else:\n",
    "            self._lst[ridx], self._lst[i] = self._lst[i], self._lst[ridx]\n",
    "            self._sift_down(ridx)\n"
   ]
  },
  {
   "cell_type": "code",
   "execution_count": null,
   "metadata": {},
   "outputs": [],
   "source": [
    "heap = Heap([3, 5, 2, 13, 2, 5, 3, 8, 7, 6, 6, 8])\n",
    "heap._lst"
   ]
  },
  {
   "cell_type": "code",
   "execution_count": null,
   "metadata": {},
   "outputs": [],
   "source": [
    "# Your solution here\n",
    "\n",
    "class Heap(object):\n",
    "    \n",
    "    def __init__(self, lst):\n",
    "        pass\n",
    "    \n",
    "\n",
    "    def _heapify(self):\n",
    "        pass\n",
    "    \n",
    "    def _sift_down(self, i):\n",
    "        pass"
   ]
  },
  {
   "cell_type": "markdown",
   "metadata": {
    "solution2": "hidden",
    "solution2_first": true
   },
   "source": [
    "Add a method `is_empty(self)`, which should return `True` if the heap is empty, `False` otherwise."
   ]
  },
  {
   "cell_type": "code",
   "execution_count": null,
   "metadata": {
    "solution2": "hidden"
   },
   "outputs": [],
   "source": [
    "def is_empty(self):\n",
    "    return not self._lst"
   ]
  },
  {
   "cell_type": "code",
   "execution_count": null,
   "metadata": {},
   "outputs": [],
   "source": [
    "# Your solution here\n",
    "def is_empty(self):\n",
    "    pass"
   ]
  },
  {
   "cell_type": "markdown",
   "metadata": {
    "solution2": "hidden",
    "solution2_first": true
   },
   "source": [
    "Add a method `peek(self)`, which should return the item at the root of the heap. If the heap is empty, the method should raise a `StopIteration` exception."
   ]
  },
  {
   "cell_type": "code",
   "execution_count": null,
   "metadata": {
    "solution2": "hidden"
   },
   "outputs": [],
   "source": [
    "def peek(self):\n",
    "    if self._lst: return self.lst[0]\n",
    "    raise StopIteration()"
   ]
  },
  {
   "cell_type": "code",
   "execution_count": null,
   "metadata": {},
   "outputs": [],
   "source": [
    "# Your solution here\n",
    "def peek(self):\n",
    "    pass"
   ]
  },
  {
   "cell_type": "markdown",
   "metadata": {
    "solution2": "hidden",
    "solution2_first": true
   },
   "source": [
    "Add a method `pop(self)` which should return and remove the smallest item on the heap. If the heap is empty, it should raise a `StopIteration`."
   ]
  },
  {
   "cell_type": "code",
   "execution_count": null,
   "metadata": {
    "solution2": "hidden"
   },
   "outputs": [],
   "source": [
    "def pop(self):\n",
    "    if not self._lst:\n",
    "        raise StopIteration()\n",
    "    res = self._lst[0]\n",
    "    self._lst[0] = self._lst.pop()\n",
    "    self._sift_down(0)\n",
    "    return res"
   ]
  },
  {
   "cell_type": "code",
   "execution_count": null,
   "metadata": {},
   "outputs": [],
   "source": [
    "# Your solution here\n",
    "def pop(self):\n",
    "    pass"
   ]
  },
  {
   "cell_type": "markdown",
   "metadata": {
    "solution2": "hidden",
    "solution2_first": true
   },
   "source": [
    "Add a method `push(self, item)`, which should add `item` to the heap."
   ]
  },
  {
   "cell_type": "code",
   "execution_count": null,
   "metadata": {
    "solution2": "hidden"
   },
   "outputs": [],
   "source": [
    "def push(self, item):\n",
    "    self._lst.append(item)\n",
    "    self._sift_up(len(self._lst) - 1)\n",
    "    \n",
    "def _sift_up(self, i):\n",
    "    \"\"\"assert(0 <= i <= len(self._lst))\"\"\"\n",
    "    if i == 0: return\n",
    "    j = (i - 1) // 2 # j is the index of the parent node\n",
    "    if self._lst[i] < self._lst[j]:\n",
    "        self._lst[i], self._lst[j] = self._lst[j], self._lst[i]\n",
    "        self._sift_up(j)"
   ]
  },
  {
   "cell_type": "code",
   "execution_count": null,
   "metadata": {},
   "outputs": [],
   "source": [
    "# Your solution here\n",
    "def push(self, item):\n",
    "    pass"
   ]
  },
  {
   "cell_type": "markdown",
   "metadata": {
    "solution2": "hidden",
    "solution2_first": true
   },
   "source": [
    "Update the class `Heap` with the methods defined above."
   ]
  },
  {
   "cell_type": "code",
   "execution_count": null,
   "metadata": {
    "solution2": "hidden"
   },
   "outputs": [],
   "source": [
    "class Heap(object):\n",
    "    \n",
    "    def __init__(self, lst):\n",
    "        self._lst = lst[:]\n",
    "        self._heapify()\n",
    "\n",
    "    def _heapify(self):\n",
    "        if not self._lst: return\n",
    "        n = len(self._lst)\n",
    "        for i in range((n - 2) // 2, -1, -1):\n",
    "            self._sift_down(i)\n",
    "    \n",
    "    def _sift_down(self, i):\n",
    "        \"\"\"assert(0 <= i < len(self._lst))\"\"\"\n",
    "        n = len(self._lst)\n",
    "        lidx = 2 * i + 1\n",
    "        ridx = lidx + 1\n",
    "        if lidx >= n or\\\n",
    "           ridx >= n and self._lst[i] <= self._lst[lidx] or\\\n",
    "           self._lst[i] <= self._lst[lidx] and self._lst[i] <= self._lst[ridx]: \n",
    "            return\n",
    "        if ridx >= n or self._lst[lidx] <= self._lst[ridx]:\n",
    "            self._lst[lidx], self._lst[i] = self._lst[i], self._lst[lidx]\n",
    "            self._sift_down(lidx)\n",
    "        else:\n",
    "            self._lst[ridx], self._lst[i] = self._lst[i], self._lst[ridx]\n",
    "            self._sift_down(ridx)\n",
    "\n",
    "    def _sift_up(self, i):\n",
    "        \"\"\"assert(0 <= i <= len(self._lst))\"\"\"\n",
    "        if i == 0: return\n",
    "        j = (i - 1) // 2\n",
    "        if self._lst[i] < self._lst[j]:\n",
    "            self._lst[i], self._lst[j] = self._lst[j], self._lst[i]\n",
    "            self._sift_up(j)\n",
    "\n",
    "    def is_empty(self):\n",
    "        return not self._lst\n",
    "    \n",
    "    def peek(self):\n",
    "        if self._lst: return self.lst[0]\n",
    "        raise StopIteration()\n",
    "        \n",
    "    def pop(self):\n",
    "        if not self._lst:\n",
    "            raise StopIteration()\n",
    "        if len(self._lst) == 1:\n",
    "            return self._lst.pop()\n",
    "        res = self._lst[0]\n",
    "        self._lst[0] = self._lst.pop()\n",
    "        self._sift_down(0)\n",
    "        return res\n",
    "    \n",
    "    def push(self, item):\n",
    "        self._lst.append(item)\n",
    "        self._sift_up(len(self._lst) - 1)\n"
   ]
  },
  {
   "cell_type": "code",
   "execution_count": null,
   "metadata": {},
   "outputs": [],
   "source": [
    "# Your solution here\n",
    "class Heap(object):\n",
    "    \n",
    "    def __init__(self, lst):\n",
    "        pass\n",
    "\n",
    "    def _heapify(self):\n",
    "        pass\n",
    "    \n",
    "    def _sift_down(self, i):\n",
    "        pass\n",
    "\n",
    "    def _sift_up(self, i):\n",
    "        pass\n",
    "\n",
    "    def is_empty(self):\n",
    "        pass\n",
    "    \n",
    "    def peek(self):\n",
    "        pass\n",
    "    \n",
    "    def pop(self):\n",
    "        pass\n",
    "    \n",
    "    def push(self, item):\n",
    "        pass\n",
    "\n"
   ]
  },
  {
   "cell_type": "markdown",
   "metadata": {},
   "source": [
    "Which dunder methods does it make sense to add to `Heap`?"
   ]
  },
  {
   "cell_type": "markdown",
   "metadata": {},
   "source": [
    "Compare the `Heap` class with the `heapq` module that comes with Python."
   ]
  },
  {
   "cell_type": "code",
   "execution_count": null,
   "metadata": {},
   "outputs": [],
   "source": [
    "import heapq\n",
    "heapq?"
   ]
  },
  {
   "cell_type": "code",
   "execution_count": null,
   "metadata": {},
   "outputs": [],
   "source": [
    "a = [8, 4, 3, 8, 9, 1, 2, 1, 9, 5, 2]\n",
    "heapq.heapify(a)\n",
    "a"
   ]
  },
  {
   "cell_type": "code",
   "execution_count": null,
   "metadata": {},
   "outputs": [],
   "source": [
    "print(heapq.heappop(a))\n",
    "a"
   ]
  },
  {
   "cell_type": "code",
   "execution_count": null,
   "metadata": {},
   "outputs": [],
   "source": [
    "heapq.heappush(a, 6)"
   ]
  },
  {
   "cell_type": "code",
   "execution_count": null,
   "metadata": {},
   "outputs": [],
   "source": [
    "a"
   ]
  }
 ],
 "metadata": {
  "kernelspec": {
   "display_name": "Python 3 (ipykernel)",
   "language": "python",
   "name": "python3"
  },
  "language_info": {
   "codemirror_mode": {
    "name": "ipython",
    "version": 3
   },
   "file_extension": ".py",
   "mimetype": "text/x-python",
   "name": "python",
   "nbconvert_exporter": "python",
   "pygments_lexer": "ipython3",
   "version": "3.12.4"
  }
 },
 "nbformat": 4,
 "nbformat_minor": 4
}
