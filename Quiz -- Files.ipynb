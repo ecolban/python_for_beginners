{
 "cells": [
  {
   "cell_type": "markdown",
   "metadata": {},
   "source": [
    "# Quiz &mdash; Files"
   ]
  },
  {
   "cell_type": "markdown",
   "metadata": {},
   "source": [
    "For the following exercises, assume that the file `pi_digits.txt` is under `assets` under the current directory and contains 3 lines as follows:"
   ]
  },
  {
   "cell_type": "code",
   "execution_count": 1,
   "metadata": {},
   "outputs": [
    {
     "name": "stdout",
     "output_type": "stream",
     "text": [
      "3.1415926535\r\n",
      "  8979323846\r\n",
      "  2643383279"
     ]
    }
   ],
   "source": [
    "!cat assets/pi_digits.txt"
   ]
  },
  {
   "cell_type": "markdown",
   "metadata": {},
   "source": [
    "A. Given"
   ]
  },
  {
   "cell_type": "code",
   "execution_count": 11,
   "metadata": {},
   "outputs": [
    {
     "data": {
      "text/plain": [
       "'3.1415926535\\n  8979323846\\n  2643383279'"
      ]
     },
     "execution_count": 11,
     "metadata": {},
     "output_type": "execute_result"
    }
   ],
   "source": [
    "with open('assets/pi_digits.txt', mode='r') as f:\n",
    "    pi_txt = f.read()\n",
    "    \n",
    "pi_txt"
   ]
  },
  {
   "cell_type": "markdown",
   "metadata": {},
   "source": [
    "Which is correct (check all that apply):\n",
    "\n",
    "1. [ ] On the first line, `as f` must be `as file_obj`\n",
    "2. [ ] On the last line, `pi_txt` is out of scope\n",
    "2. [ ] Prints π with 31 digits\n",
    "2. [ ] Prints the contents of the file\n",
    "2. [ ] Prints the first line of the file followed by a blank line\n",
    "2. [ ] A `FileNotFound` exception is raised"
   ]
  },
  {
   "cell_type": "markdown",
   "metadata": {},
   "source": [
    "B. Given"
   ]
  },
  {
   "cell_type": "code",
   "execution_count": 3,
   "metadata": {},
   "outputs": [
    {
     "name": "stdout",
     "output_type": "stream",
     "text": [
      "3.141592653589793238462643383279\n"
     ]
    }
   ],
   "source": [
    "with open('assets/pi_digits.txt', mode='r') as f:\n",
    "    pi_txt = ''\n",
    "    line = f.readline()\n",
    "    while line:\n",
    "        pi_txt += line.strip()\n",
    "        line = f.readline()\n",
    "\n",
    "print(pi_txt)"
   ]
  },
  {
   "cell_type": "markdown",
   "metadata": {},
   "source": [
    "Which is correct (check all that apply):\n",
    "\n",
    "1. [ ] In the last line, `pi_txt` is out of scope\n",
    "1. [ ] Prints `3.141592653589793238462643383279`\n",
    "1. [ ] Prints the 3 lines of the file, but with no leading spaces\n",
    "1. [ ] There is an error in the code"
   ]
  },
  {
   "cell_type": "markdown",
   "metadata": {},
   "source": [
    "C. Given"
   ]
  },
  {
   "cell_type": "code",
   "execution_count": 4,
   "metadata": {},
   "outputs": [],
   "source": [
    "with open('assets/pi_digits.txt', mode='r') as f:\n",
    "    pi_txt = ''\n",
    "    while line = f.readline():\n",
    "        pi_txt += line.strip()\n",
    "    print('π', '=', pi_txt[:4], '...', pi_txt[-3:])"
   ]
  },
  {
   "cell_type": "markdown",
   "metadata": {},
   "source": [
    "Which is correct (check all that apply):\n",
    "\n",
    "1. [ ] Prints `π=3.14...279`\n",
    "1. [ ] Prints: `π = 3.14 ... 279`\n",
    "1. [ ] The print statement has too many arguments\n",
    "1. [ ] You have to use unicode escape to print special symbols such as π, i.e., `print('\\u03C0', ...)`\n",
    "1. [ ] The print statement does not need to be indented\n",
    "1. [ ] There's an error in the code"
   ]
  },
  {
   "cell_type": "code",
   "execution_count": 5,
   "metadata": {},
   "outputs": [
    {
     "name": "stdout",
     "output_type": "stream",
     "text": [
      "π\n"
     ]
    }
   ],
   "source": [
    "print('\\u03C0')"
   ]
  },
  {
   "cell_type": "markdown",
   "metadata": {},
   "source": [
    "D. Given"
   ]
  },
  {
   "cell_type": "code",
   "execution_count": 6,
   "metadata": {},
   "outputs": [
    {
     "name": "stdout",
     "output_type": "stream",
     "text": [
      "3.14...279\n"
     ]
    }
   ],
   "source": [
    "with open('assets/pi_digits.txt', mode='r') as f:\n",
    "    pi_txt = ''.join(f.readlines())\n",
    "print('...'.join((pi_txt[:4], pi_txt[-3:])))"
   ]
  },
  {
   "cell_type": "markdown",
   "metadata": {},
   "source": [
    "Which is correct (check all that apply):\n",
    "1. [ ] Prints `3.14...79` and a blank line\n",
    "1. [ ] Prints: `3.14 ... 279`\n",
    "1. [ ] There's a typo: `readlines()` should be `readline()` \n",
    "1. [ ] The print statement must be indented\n",
    "1. [ ] There are too many parentheses in the print statement"
   ]
  },
  {
   "cell_type": "markdown",
   "metadata": {},
   "source": [
    "E. Given"
   ]
  },
  {
   "cell_type": "code",
   "execution_count": 7,
   "metadata": {},
   "outputs": [
    {
     "name": "stdout",
     "output_type": "stream",
     "text": [
      "3.14...279\n"
     ]
    }
   ],
   "source": [
    "with open('assets/pi_digits.txt', mode='r') as f:\n",
    "    pi_txt = ''.join(line.strip() for line in f)\n",
    "print(pi_txt[:4], '...', pi_txt[-3:], sep='')"
   ]
  },
  {
   "cell_type": "markdown",
   "metadata": {},
   "source": [
    "Which is correct (check all that apply):\n",
    "\n",
    "1. [ ] Prints `3.14...279`\n",
    "1. [ ] There's a missing `readlines()` on the second line\n",
    "1. [ ] The print statement could have been indented\n",
    "1. [ ] `line.strip()` should have been `line.rstrip()`"
   ]
  },
  {
   "cell_type": "markdown",
   "metadata": {},
   "source": [
    "F. Given"
   ]
  },
  {
   "cell_type": "code",
   "execution_count": 8,
   "metadata": {},
   "outputs": [
    {
     "name": "stdout",
     "output_type": "stream",
     "text": [
      "3.14...279\n"
     ]
    }
   ],
   "source": [
    "with open('assets/pi_digits.txt', mode='r') as f:\n",
    "    lines = f.readlines()\n",
    "pi_txt = ''.join(line.strip() for line in lines)\n",
    "print(pi_txt[:4], pi_txt[-3:], sep='...')"
   ]
  },
  {
   "cell_type": "markdown",
   "metadata": {},
   "source": [
    "Which is correct (check all that apply):\n",
    "\n",
    "1. [ ] Prints `3.14...279`\n",
    "1. [ ] Third line needs to be indented\n",
    "1. [ ] The print statement could have been indented\n",
    "1. [ ] `line.strip()` should have been `line.rstrip()`"
   ]
  },
  {
   "cell_type": "markdown",
   "metadata": {},
   "source": [
    "G. Given"
   ]
  },
  {
   "cell_type": "code",
   "execution_count": 9,
   "metadata": {},
   "outputs": [],
   "source": [
    "with open('assets/pi_digits.txt', mode='r') as f:\n",
    "    lines = f\n",
    "pi_txt = ''.join(line.strip() for line in lines)\n",
    "print(pi_txt[:4], '.', pi_txt[-3:], sep='.')"
   ]
  },
  {
   "cell_type": "markdown",
   "metadata": {},
   "source": [
    "Which is correct (check all that apply):\n",
    "\n",
    "1. [ ] Prints `3.14...279`\n",
    "1. [ ] Third line needs to be indented\n",
    "1. [ ] The print statement could have been indented\n",
    "1. [ ] There's an error in the code"
   ]
  },
  {
   "cell_type": "markdown",
   "metadata": {},
   "source": [
    "H. Given"
   ]
  },
  {
   "cell_type": "code",
   "execution_count": 10,
   "metadata": {},
   "outputs": [
    {
     "name": "stdout",
     "output_type": "stream",
     "text": [
      "3.14...279\n"
     ]
    }
   ],
   "source": [
    "with open('assets/pi_digits.txt', mode='r') as f:\n",
    "    head = next(f).strip()\n",
    "    for line in f: \n",
    "        pass\n",
    "    tail = line.strip()\n",
    "print('...'.join((head[:4], tail[-3:])))"
   ]
  },
  {
   "cell_type": "markdown",
   "metadata": {},
   "source": [
    "Which is correct (check all that apply):\n",
    "\n",
    "1. [ ] Prints `3.14...279`\n",
    "1. [ ] `pass` is just a placeholder, which needs to be replaced with proper code before execution.\n",
    "1. [ ] `line.strip()` will raise an exception because `line` is `None` after exiting the loop\n",
    "1. [ ] `line.strip()` will raise an exception because `line` is out of scope after exiting the loop\n",
    "1. [ ] You cannot call `next(f)` and then loop over `f`"
   ]
  }
 ],
 "metadata": {
  "kernelspec": {
   "display_name": "Python 3",
   "language": "python",
   "name": "python3"
  },
  "language_info": {
   "codemirror_mode": {
    "name": "ipython",
    "version": 3
   },
   "file_extension": ".py",
   "mimetype": "text/x-python",
   "name": "python",
   "nbconvert_exporter": "python",
   "pygments_lexer": "ipython3",
   "version": "3.7.6"
  }
 },
 "nbformat": 4,
 "nbformat_minor": 3
}
