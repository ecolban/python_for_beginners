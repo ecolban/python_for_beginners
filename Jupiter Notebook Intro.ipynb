{
 "cells": [
  {
   "cell_type": "markdown",
   "metadata": {},
   "source": [
    "# Introduction to Jupyter Notebook"
   ]
  },
  {
   "cell_type": "markdown",
   "metadata": {},
   "source": [
    "Evaluate simple expressions"
   ]
  },
  {
   "cell_type": "code",
   "execution_count": null,
   "metadata": {},
   "outputs": [],
   "source": [
    "1 + 1"
   ]
  },
  {
   "cell_type": "markdown",
   "metadata": {},
   "source": [
    "Another simple expression"
   ]
  },
  {
   "cell_type": "code",
   "execution_count": null,
   "metadata": {},
   "outputs": [],
   "source": [
    "'Hello, world!'"
   ]
  },
  {
   "cell_type": "markdown",
   "metadata": {},
   "source": [
    "Cells may contain more than one line of code"
   ]
  },
  {
   "cell_type": "code",
   "execution_count": null,
   "metadata": {},
   "outputs": [],
   "source": [
    "number_of_seconds_in_a_year = 365 * 24 * 60 * 60\n",
    "number_of_seconds_in_a_year / 1e6"
   ]
  },
  {
   "cell_type": "markdown",
   "metadata": {},
   "source": [
    "Even an entire program!"
   ]
  },
  {
   "cell_type": "code",
   "execution_count": null,
   "metadata": {},
   "outputs": [],
   "source": [
    "from collections import Counter\n",
    "\n",
    "my_list_counter = Counter([1, 2, 4, 3, 6, 4, 2, 7, 6, 4, 3, 4, 2, 2, 2, 3, 13, 5, 2, 7])\n",
    "\n",
    "print(my_list_counter)"
   ]
  },
  {
   "cell_type": "markdown",
   "metadata": {},
   "source": [
    "All cells are executed in a python kernel. This means that variables and definitions introduced in cells already executed are available in other cells"
   ]
  },
  {
   "cell_type": "code",
   "execution_count": null,
   "metadata": {},
   "outputs": [],
   "source": [
    "print(my_list_counter.most_common(3))"
   ]
  },
  {
   "cell_type": "markdown",
   "metadata": {},
   "source": [
    "The number in brackets refers to the order of execution. Re-execute one of the above cells and watch the number increment. Note that if you update a cell and re-execute it, you need to re-execute all dependent cells. Jupyter Notebook does not have a constraint propagation engine like spreadsheets do. Avoid cells that are dependent of cells below it."
   ]
  },
  {
   "cell_type": "markdown",
   "metadata": {},
   "source": [
    "## Things to do with markdown\n",
    "\n",
    "Paragraphs are separated by blank lines.\n",
    "This sentence is in the same paragraph as the sentence before.\n",
    "\n",
    "But this sentence begins a new paragraph. You can break a line  \n",
    "if you end it with two spaces.\n",
    "\n",
    "Using non-ASCII, unicode characters is OK: blåbærsyltetøy! 🙂, $, €, 🤷.\n",
    "\n",
    "To find the unicode code for a character, look it up. For example, google \"unicode for euro symbol\", which will tell you that the code is `U+20AC`. In a code cell, do the following:"
   ]
  },
  {
   "cell_type": "code",
   "execution_count": null,
   "metadata": {},
   "outputs": [],
   "source": [
    "print('\\u20AC')"
   ]
  },
  {
   "cell_type": "markdown",
   "metadata": {},
   "source": [
    "Then, copy-paste the output into a markdown cell."
   ]
  },
  {
   "cell_type": "markdown",
   "metadata": {},
   "source": [
    "### Numbered lists and bullet lists\n",
    "\n",
    "Numbered (ordered) list:\n",
    "1. First\n",
    "3. Second\n",
    "    1. Indented\n",
    "        1. Blah\n",
    "        1. Baz\n",
    "    2. Another\n",
    "        1. Foo\n",
    "2. Third\n",
    "\n",
    "Bullet (unordered) list:\n",
    "* One fish\n",
    "+ Two fish\n",
    "    + Red fish\n",
    "    * Blue fish\n",
    "    \n",
    "Mixed lists:\n",
    "1. first outer\n",
    "    - first inner\n",
    "    - second inner  \n",
    "      broken into two lines\n",
    "2. second outer"
   ]
  },
  {
   "cell_type": "markdown",
   "metadata": {},
   "source": [
    "### Links\n",
    "\n",
    "At http://resmed.com you can read about [sleep apnea](https://www.resmed.com/us/en/consumer/diagnosis-and-treatment/what-is-sleep-apnea.html#)."
   ]
  },
  {
   "cell_type": "markdown",
   "metadata": {},
   "source": [
    "### Emphasized text\n",
    "\n",
    "* Some *italics* text.\n",
    "* Some **bold** text\n",
    "* Some ***bold italics*** text\n",
    "* Some ~~strikethrough~~ text"
   ]
  },
  {
   "cell_type": "markdown",
   "metadata": {},
   "source": [
    "### Code\n",
    "\n",
    "Use back ticks: `print('Hello, world!')`\n",
    "\n",
    "Use triple back ticks for code blocks. Here's a Python function:\n",
    "\n",
    "```Python\n",
    "def double_it(x):\n",
    "    return 2 * x\n",
    "```\n",
    "Same in Java:\n",
    "\n",
    "```Java\n",
    "public double doubleIt(double x) {\n",
    "    return 2.0 * x;\n",
    "}\n",
    "```\n",
    "\n",
    "You can also use triple back ticks when you want to control alignment:\n",
    "\n",
    "```\n",
    "[[1.0, 0.0],\n",
    " [0.0, 1.0]]\n",
    "```"
   ]
  },
  {
   "cell_type": "markdown",
   "metadata": {},
   "source": [
    "### Images\n",
    "\n",
    "Here's Tux, the Linux mascot:\n",
    "![Tux, the Linux mascot](assets/tux.png)\n",
    "\n",
    "The path to the image (which is `assets/tux.png`) is relative to the folder where the notebook resides. Another possibility would have been to provide a URL like this one: `https://upload.wikimedia.org/wikipedia/commons/a/af/Tux.png`"
   ]
  },
  {
   "cell_type": "markdown",
   "metadata": {},
   "source": [
    "### Latex\n",
    "\n",
    "You can insert mathematical expressions and equations using [LaTeX](https://www.latex-project.org/)\n",
    "\n",
    "**Example:**\n",
    "\n",
    "The cost function is:\n",
    "\n",
    "$$\\mbox{cost}(\\hat y) = \\sum_{i = 0}^n (\\hat y_i - y_i)^2$$\n",
    "\n",
    "Same equation inline:\n",
    "\n",
    "The cost can be calculated using the expression $\\sum_{i = 0}^n (\\hat y_i - y_i)^2$.\n",
    "\n",
    "(To escape the \\\\$-sign, use two backslashes like this: `\\\\$`.)"
   ]
  },
  {
   "cell_type": "markdown",
   "metadata": {},
   "source": [
    "## References\n",
    "\n",
    "[1] [Basic Syntax | Markdown Guide](https://www.markdownguide.org/basic-syntax/)"
   ]
  },
  {
   "cell_type": "markdown",
   "metadata": {},
   "source": [
    "## Linear regression example\n",
    "\n",
    "In this example we have data $y$ that grows exponentially as a function of $X$. \n",
    "Instead of fitting $y$ to a linear model, we fit $z = \\ln(y)$."
   ]
  },
  {
   "cell_type": "code",
   "execution_count": null,
   "metadata": {},
   "outputs": [],
   "source": [
    "%matplotlib inline\n",
    "from matplotlib import pyplot as plt\n",
    "from sklearn.linear_model import LinearRegression\n",
    "from math import log, exp\n",
    "\n",
    "X = [[x_i] for x_i in range(1, 11)]\n",
    "y = [688.13, 415.87, 302.17, 90.51, 55.72, 32.0, 21.11, 6.96, 4.29, 2.0]\n",
    "z = [log(i) for i in y]\n",
    "model = LinearRegression().fit(X, z)\n",
    "z_hat = model.predict(X)\n",
    "y_hat = [exp(i) for i in z_hat]\n",
    "plt.plot(X, y, 'o')\n",
    "plt.plot(X, y_hat)\n",
    "#plt.show()"
   ]
  },
  {
   "cell_type": "code",
   "execution_count": null,
   "metadata": {},
   "outputs": [],
   "source": [
    "from IPython.display import display, Markdown\n",
    "s = f'''\\\n",
    "+ y-intercept = {model.intercept_}\n",
    "+ coefficients = {model.coef_}'''\n",
    "display(Markdown(s))"
   ]
  },
  {
   "cell_type": "code",
   "execution_count": null,
   "metadata": {},
   "outputs": [],
   "source": [
    "# s = '$$\\hat y = e^{%.2f + %.2fx} = e^{%.2f}e^{%.2fx}$$' % \\\n",
    "#      (model.intercept_, model.coef_[0], model.intercept_, model.coef_[0])\n",
    "m, b = model.coef_[0], model.intercept_\n",
    "s = f'$$\\hat y = e^{{{m:.2f}x + {b:.2f}}} = e^{{{m:.2f}x}}e^{{{b:.2f}}}$$'\n",
    "display(Markdown('The prediction is:  ' + s))"
   ]
  },
  {
   "cell_type": "markdown",
   "metadata": {},
   "source": [
    "We can calculate $e^{7.35}$:"
   ]
  },
  {
   "cell_type": "code",
   "execution_count": null,
   "metadata": {},
   "outputs": [],
   "source": [
    "exp(model.intercept_)"
   ]
  },
  {
   "cell_type": "markdown",
   "metadata": {},
   "source": [
    "###### Which gives:\n",
    "$\\hat{y} = 1560e^{-0.66x}$"
   ]
  },
  {
   "cell_type": "code",
   "execution_count": null,
   "metadata": {},
   "outputs": [],
   "source": [
    "x = [i/10 for i in range(10, 101)]\n",
    "y_hat = [1560 * exp(-0.66 * x_i) for x_i in x]\n",
    "plt.plot(X, y, 'o')\n",
    "plt.plot(x, y_hat)"
   ]
  },
  {
   "cell_type": "code",
   "execution_count": null,
   "metadata": {},
   "outputs": [],
   "source": []
  }
 ],
 "metadata": {
  "kernelspec": {
   "display_name": "Python 3",
   "language": "python",
   "name": "python3"
  },
  "language_info": {
   "codemirror_mode": {
    "name": "ipython",
    "version": 3
   },
   "file_extension": ".py",
   "mimetype": "text/x-python",
   "name": "python",
   "nbconvert_exporter": "python",
   "pygments_lexer": "ipython3",
   "version": "3.7.4"
  }
 },
 "nbformat": 4,
 "nbformat_minor": 2
}
